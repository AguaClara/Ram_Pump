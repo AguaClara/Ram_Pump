{
  "nbformat": 4,
  "nbformat_minor": 0,
  "metadata": {
    "colab": {
      "name": "RamPump2019Summer.ipynb",
      "version": "0.3.2",
      "provenance": [],
      "collapsed_sections": [],
      "toc_visible": true,
      "include_colab_link": true
    },
    "kernelspec": {
      "name": "python3",
      "display_name": "Python 3"
    }
  },
  "cells": [
    {
      "cell_type": "markdown",
      "metadata": {
        "id": "view-in-github",
        "colab_type": "text"
      },
      "source": [
        "<a href=\"https://colab.research.google.com/github/AguaClara/ram_pump/blob/master/Summer%202019/RamPump2019Summer.ipynb\" target=\"_parent\"><img src=\"https://colab.research.google.com/assets/colab-badge.svg\" alt=\"Open In Colab\"/></a>"
      ]
    },
    {
      "cell_type": "markdown",
      "metadata": {
        "id": "awle31N5ykbr",
        "colab_type": "text"
      },
      "source": [
        "# Ram Pump, Summer 2019\n",
        "#### Ching Pang, Alyssa Ju\n",
        "#### July 26, 2019\n"
      ]
    },
    {
      "cell_type": "markdown",
      "metadata": {
        "id": "lGzNCdLa1f38",
        "colab_type": "text"
      },
      "source": [
        "##Abstract\n",
        "The AguaClara Vertical Ram Pump (ACVRP) is an innovation that will enable water to be pumped from lower elevations to higher elevations using excess energy from water going to the distribution system. The ACVRP Comparing to a conventional ram pump, the ACVRP is operator-friendly at a lower capital cost. Past semesters have determined that a previous version of the ACVRP is ineffiecient due to a significant amount of head loss. The goal of this summer was to reduce head loss in the design and determine the efficiency of the improved ACVRP.\n"
      ]
    },
    {
      "cell_type": "markdown",
      "metadata": {
        "id": "TpShT1NO1jsq",
        "colab_type": "text"
      },
      "source": [
        "## Introduction\n",
        "The purpose of a hydraulic ram pump is to pump water from a lower elevation to a higher elevation using only the kinetic energy of the falling water to drive the water up ([bin Mohammad Ali, 2011](https://www.scribd.com/doc/76535229/Hydraulic-Ramp-Pump-Hydram)). In an AguaClara plant, flow through a plant is driven solely by gravity, so treated water exits the plant at the lowest point of the plant. Thus, in order to fill chemical stock tanks located at the top of the plant with treated water, operators must carry up buckets of water from the outlet at the lowest point of the plant to manually fill tanks. The AguaClara Vertical Ram Pump (ACVRP) solves this issue by allowing treated water to be pumped from the outlet of the plant to higher elevations where it is needed, all without using electricity ([Martinez et. al, 2016](https://drive.google.com/file/d/1MweG0bsgG2-wM_mkK_DgwULPSPK1G7iB/view?usp=sharing)). In addition, this allows the treated water to be pumped for utilization in the plant's plumbing system, which includes the plant's sinks and toilets.\n",
        "\n",
        "<p align=\"center\">\n",
        "  <img src=\"https://raw.githubusercontent.com/AguaClara/ram_pump/master/Summer%202019/Images_Diagrams/Ram%20Pump%20in%20the%20Plant.png\" height=300>\n",
        "</p>\n",
        "<p align=\"center\">\n",
        "\n",
        "**Figure 1:** Schematic of the ACVRP in AguaClara plants. Treated water exiting the stacked rapid sand filters ([Adelman et al., 2013](https://ascelibrary.org/doi/10.1061/%28ASCE%29EE.1943-7870.0000700)) drops into the filter pipe gallery to reach the ACVRP. The ACVRP pumps a fraction of the flow up to the chemical platform. The water that passes through the ACVRP continues on to the distribution system (Aggarwal and Guzman, 2016).\n",
        "</p>\n",
        "\n",
        "\n",
        "The ACVRP is an innovation that improves upon the conventional ram pump by making installation easier and more cost-efficient for plant operators . Conventional ram pumps that were used in previous AguaClara plants required an additional collection tank for the water discharged from the ram pump in order to return the expelled water to the distribution tank, which added to the capital cost of the plant. The collection tank was cumbersome, making it difficult to incorporate the tank in the pipe gallery at the basement of the plant ([Project Description Ram Pump](https://docs.google.com/document/d/1g4uX_CjjWllurb4KftwjLmaFy6Au-42kGi5e5m47YEI/edit#)).\n",
        "\n",
        "The ACVRP is an inline ram pump, which eliminates the need for a collection tank. The ideal design would be able to be easily installed in new plants as well as incorporated in previously built AguaClara plants. The simple design would also make it easy to fabricate and repair, which would empower communities and advance sustainability. The vision is that the ACVRP will relieve some of the burden of the plant operators, which would further increase their pride in their role of providing safe water to their communities ([Project Description Ram Pump](https://docs.google.com/document/d/1g4uX_CjjWllurb4KftwjLmaFy6Au-42kGi5e5m47YEI/edit#)).\n"
      ]
    },
    {
      "cell_type": "markdown",
      "metadata": {
        "id": "4gfgHIlZ2Evd",
        "colab_type": "text"
      },
      "source": [
        "## Literature Review and Previous Work\n",
        "\n",
        "Many water supply plants use horizontal ram pumps to redirect water from a lower to higher elevation (Figure 2).\n",
        "\n",
        "<p align=\"center\">\n",
        "  <img src=\"https://github.com/AguaClara/ram_pump/blob/master/Spring%202019/Images_Diagrams/rampumpelements.PNG?raw=True\" height=300>\n",
        "</p>\n",
        "<p align=\"center\">\n",
        "\n",
        "\n",
        "**Figure 2:** Common ram pump systems include “(a) the head tank, (b) the drive pipe, (c) the pump with impulse and delivery valves, (d) the air chamber and (e) the delivery pipe” ([Young, 1995](https://doi.org/10.1243/PIME_PROC_1995_209_010_01)).\n",
        "\n",
        " In conventional ram pump systems (Figure 2), the head tank (a) is placed higher than the ram pump in order to provide potential energy to power the pump. As the water is directed down from the head tank to the pump (c) through the drive pipe (b), it experiences considerable major and minor losses. These losses are formed by shear frictional force and flow reduction, a result of water flowing from a pipe of larger diameter to that of a smaller diameter, respectively.\n",
        "\n",
        "This driving head is directed through the inlet valve of the pump and is expelled through the waste valve (c) until the velocity of the water provides enough force to shut the waste valve. Once the waste valve is shut, the water is redirected and stored into the air chamber (d) that was charged with air. The air pressure inside this chamber pushes the water up through the delivery pipe (e).\n",
        "\n",
        "In AguaClara plants, conventional ram pumps required tanks to be built to enclose the waste water valve to guide the expelled water into the distribution system. This installment was more costly and highly inconvenient for existing AguaClara plants due to spatial constraints. In order to reduce such inefficiencies, our team redesigned the system, and incorporated a vertical component to the pump to create the ACVRP.\n",
        "\n",
        "The ACVRP aligned the head tank, the drive pipe, the pump, and the waste valve along one vertical axis. The vertical configuration required minimum space and eliminated the need for a tank around the waste valve because water was expelled downwards into the distribution system. Unlike the conventional ramp pump design, this condensed design allowed for easier installation into existing plants as it was more compact and interchangeable, and also reduced labor by directly transporting treated water to the chemical stock tank.\n",
        "\n",
        "###Previous Work\n",
        "\n",
        "The previous teams had adopted many of the elements of a conventional ram pump system and had been modifying this mechanism to satisfy the team’s gravity-powered water filtration design. The current AguaClara ram pump design consisted of a plate attached to a rod loaded with a spring that opens and closes. The naturally open state of the plate allowed for the water that flowed down through the drive pipe to pass by the effluent pipe and goes into waste; its acceleration created enough drag force to overcome the spring force and to close the plate. This closed state built high pressure in the region of the plate and the effluent valve, and as a result of this pressure difference, the water was redirected up through the effluent pipe. The headloss during this transfer of water through the effluent pipe decreased the velocity of water and the pressure, which allowed the spring force to overcome the water force and the plate to open. The difference in pressure due to constantly alternating between these two states, open and closed, allowed for the water to be pumped up (Figure 3).\n",
        "\n",
        "<p align=\"center\">\n",
        "  <img src=\"https://github.com/AguaClara/ram_pump/blob/master/Spring%202019/Images_Diagrams/valve_cycle.png?raw=True\" height=300>\n",
        "</p>\n",
        "<p align=\"center\">\n",
        "\n",
        "**Figure 3:** This was a diagram of valve cycle from [Aggarwal et al., 2017](https://drive.google.com/file/d/1oVIHr27h-mA25sROwWSHHzI-v0FXReoA/view). When the valve was open, the driving force of falling water pushed the valve closed. When the valve was closed, the spring force pushed the valve to open again.\n",
        "\n",
        "</p>\n",
        "\n",
        "\n",
        "Previous teams worked on creating a mathematical model to calculate the necessary forces to open and close the check valve, which is a one-way valve that allowed the water to flow in only one direction. These forces dictated whether water entering the drive pipe exited at the bottom as waste or if it was driven through the effluent pipe. Once these forces were calculated, they were used to design a toggle mechanism to open and close the check valve at optimal times that maximized the efficiency of the pump. The mechanism used for opening and closing the valve was a spring. Thus, by finding a spring with an ideal spring constant, a more efficient ram pump could be designed.\n",
        "\n",
        "The energy efficiency of the ram pump was tested with a pulley system designed to calculate the minimum spring constant for the spring inside the pump. The Spring 2019 team continued the collecting data on the force of water on the plate using a modified version of the pulley system from Fall 2018 to find the most efficient spring constant. In the past, the spring force had either been too large that it overcame the downward force from the water in the driving pipe too quickly, or too weak that the plate closed up too quickly. Therefore, by obtaining the optimal spring constant, the time that the plate was closed can be maximized, as more water could be pumped through the effluent line. However, the main concern regarding the ACVRP was the large headloss occuring at the effluent. The Spring 2019 team tested the ACVRP, and obtained an efficiency of only 8% of the theoretical value of amount of water pumped. Therefore, minimizing the headloss through the effluent pump by increasing the diameter of the effluent valve was the focus on the modified ACVRP design. The modified design that will be tested this summer included a longer air chamber, 1 inch diameter effluent, and unions to maintain consistent dimensions after each assembly. \n",
        "\n",
        "\n"
      ]
    },
    {
      "cell_type": "markdown",
      "metadata": {
        "id": "a7POfNmj2Gr7",
        "colab_type": "text"
      },
      "source": [
        "##Methods\n"
      ]
    },
    {
      "cell_type": "markdown",
      "metadata": {
        "id": "ToB7a10c8Ubg",
        "colab_type": "text"
      },
      "source": [
        "### Experimental Apparatus\n",
        "\n",
        "\n",
        "A lab apparatus (Figure 4) was constructed to best simulate conditions in an AguaClara plant. The electric sump pump, highlighted in orange in Figure x, provided a continuous source of water for the head tank. The overflow funnel in the head tank provided a constant water level by capturing excess water into the bucket containing the sump pump. The drive pipe was where water with elevation head entered the ram pump, providing the driving energy needed for the ram pump to pump water up through the effluent valve. A pressure sensor located at the top of the sealed air chamber measured the pressure at the effluent valve, which indicated the efficiency of the ram pump. This pressure was then converted to its corresponding elevation head to see how high the effluent could be pumped. Water that exited as \"waste\" at the bottom of the ram pump was the treated water that flowed into the collection bucket containing the ram pump. The water was then returned to the distribution tank (the tank which contains the electric sump pump).\n",
        "\n",
        "<p align=\"center\">\n",
        "  <img src=\"https://raw.githubusercontent.com/AguaClara/ram_pump/master/Summer%202019/Images_Diagrams/Ram%20Pump%20Schematic%20Summer%202019.png\" height=400>\n",
        "</p>\n",
        "<p align=\"center\">\n",
        "                \n",
        "\n",
        "  <center>\n",
        "    Figure 4. Above is an example schematic drawing of the ram pump lab setup."
      ]
    },
    {
      "cell_type": "markdown",
      "metadata": {
        "id": "14QXCacy8axM",
        "colab_type": "text"
      },
      "source": [
        "### Procedure\n",
        "Prior to running the ram pump, the air chamber was pressurized to 6 m of head in order to simulate the elevation head at which the ram pump would be required to pump water in an AguaClara plant. In order to pressurize the air chamber:\n",
        "\n",
        "1. Connect tubing from the peristaltic pump to the top of the air chamber.\n",
        "2. Open ProCoDA, and go to Graphs. In the \"data to plot\" section on the right, select the Air Chamber pressure sensor.\n",
        "3. Turn on the peristaltic pump. Run the pump, allowing it to pump air into the air chamber.\n",
        "4. Observe the pressure in the air chamber using the graph generated by ProCoDA. When the pressure reaches 600 cm, turn off the peristaltic pump. Immediately seal the system by inserting a plug into the push-to-connect on the end of the peristaltic pump tubing.\n",
        "5. The pressure should remain relatively constant at 600 cm. If the pressure decreases rapidly, check that all connections are airtight.\n",
        "\n",
        "Pressure data was collected at two locations: the waste valve and the top of the air chamber. In order to track pressure data:\n",
        "1. Zero the pressure sensors at atmospheric pressure before running experiments.\n",
        "2. Measure the initial height of water in the air chamber.\n",
        "3. Start a datalog file, writing text comments to indicate experiment start and end.\n",
        "3. Run the ACVRP system as detailed below.\n",
        "\n",
        "The steps for running the ACVRP system are as follows:\n",
        "1. Fill the bucket containing the ram pump with water until both buckets (one containing the electric sump pump, one containing the ram pump) are full.\n",
        "2. Open all ball valves. There are 3 valves in total: one in the pipe connecting the two buckets, one at the bottom of the ram pump, and one on the overflow pipe from the head tank.\n",
        "2. On ProCoDA, go to the Process Operation tab and turn on the sump pump by changing the Operator Selected State to `Pump On`\n",
        "3. Throttle the flow of water being pumped into the head tank by closing the valve slightly.\n",
        "4. Once the water level in the head tank reaches the the line (marked on the head tank at a height of 16 cm), water will begin to flow out of the overflow pipe and return to the bucket with the sump pump.\n"
      ]
    },
    {
      "cell_type": "markdown",
      "metadata": {
        "id": "_Nn9zXKc-Fjq",
        "colab_type": "text"
      },
      "source": [
        "\n",
        "## Results and Analysis\n",
        "\n"
      ]
    },
    {
      "cell_type": "code",
      "metadata": {
        "id": "Cq2qbVl1GpO3",
        "colab_type": "code",
        "outputId": "885305ae-e917-4eb5-fe20-41c31ff62e26",
        "colab": {
          "base_uri": "https://localhost:8080/",
          "height": 734
        }
      },
      "source": [
        "!pip install aguaclara\n",
        "!pip install aide_design"
      ],
      "execution_count": 0,
      "outputs": [
        {
          "output_type": "stream",
          "text": [
            "Requirement already satisfied: aguaclara in /usr/local/lib/python3.6/dist-packages (0.1.1)\n",
            "Requirement already satisfied: matplotlib in /usr/local/lib/python3.6/dist-packages (from aguaclara) (3.0.3)\n",
            "Requirement already satisfied: numpy in /usr/local/lib/python3.6/dist-packages (from aguaclara) (1.16.4)\n",
            "Requirement already satisfied: pandas in /usr/local/lib/python3.6/dist-packages (from aguaclara) (0.24.2)\n",
            "Requirement already satisfied: pint==0.8.1 in /usr/local/lib/python3.6/dist-packages (from aguaclara) (0.8.1)\n",
            "Requirement already satisfied: scipy in /usr/local/lib/python3.6/dist-packages (from aguaclara) (1.3.0)\n",
            "Requirement already satisfied: onshapepy in /usr/local/lib/python3.6/dist-packages (from aguaclara) (0.0.18)\n",
            "Requirement already satisfied: pyparsing!=2.0.4,!=2.1.2,!=2.1.6,>=2.0.1 in /usr/local/lib/python3.6/dist-packages (from matplotlib->aguaclara) (2.4.0)\n",
            "Requirement already satisfied: kiwisolver>=1.0.1 in /usr/local/lib/python3.6/dist-packages (from matplotlib->aguaclara) (1.1.0)\n",
            "Requirement already satisfied: python-dateutil>=2.1 in /usr/local/lib/python3.6/dist-packages (from matplotlib->aguaclara) (2.5.3)\n",
            "Requirement already satisfied: cycler>=0.10 in /usr/local/lib/python3.6/dist-packages (from matplotlib->aguaclara) (0.10.0)\n",
            "Requirement already satisfied: pytz>=2011k in /usr/local/lib/python3.6/dist-packages (from pandas->aguaclara) (2018.9)\n",
            "Requirement already satisfied: ruamel.yaml in /usr/local/lib/python3.6/dist-packages (from onshapepy->aguaclara) (0.15.98)\n",
            "Requirement already satisfied: requests in /usr/local/lib/python3.6/dist-packages (from onshapepy->aguaclara) (2.21.0)\n",
            "Requirement already satisfied: setuptools in /usr/local/lib/python3.6/dist-packages (from kiwisolver>=1.0.1->matplotlib->aguaclara) (41.0.1)\n",
            "Requirement already satisfied: six>=1.5 in /usr/local/lib/python3.6/dist-packages (from python-dateutil>=2.1->matplotlib->aguaclara) (1.12.0)\n",
            "Requirement already satisfied: chardet<3.1.0,>=3.0.2 in /usr/local/lib/python3.6/dist-packages (from requests->onshapepy->aguaclara) (3.0.4)\n",
            "Requirement already satisfied: certifi>=2017.4.17 in /usr/local/lib/python3.6/dist-packages (from requests->onshapepy->aguaclara) (2019.6.16)\n",
            "Requirement already satisfied: urllib3<1.25,>=1.21.1 in /usr/local/lib/python3.6/dist-packages (from requests->onshapepy->aguaclara) (1.24.3)\n",
            "Requirement already satisfied: idna<2.9,>=2.5 in /usr/local/lib/python3.6/dist-packages (from requests->onshapepy->aguaclara) (2.8)\n",
            "Collecting aide_design\n",
            "\u001b[?25l  Downloading https://files.pythonhosted.org/packages/07/af/5fca836cd12d7dda02f2c12ca2456ecb4ce69fffa22de763395163a7502e/aide_design-0.0.12.tar.gz (51kB)\n",
            "\u001b[K     |████████████████████████████████| 51kB 3.3MB/s \n",
            "\u001b[?25hRequirement already satisfied: pint in /usr/local/lib/python3.6/dist-packages (from aide_design) (0.8.1)\n",
            "Requirement already satisfied: numpy in /usr/local/lib/python3.6/dist-packages (from aide_design) (1.16.4)\n",
            "Requirement already satisfied: pandas in /usr/local/lib/python3.6/dist-packages (from aide_design) (0.24.2)\n",
            "Requirement already satisfied: matplotlib in /usr/local/lib/python3.6/dist-packages (from aide_design) (3.0.3)\n",
            "Requirement already satisfied: scipy in /usr/local/lib/python3.6/dist-packages (from aide_design) (1.3.0)\n",
            "Requirement already satisfied: python-dateutil>=2.5.0 in /usr/local/lib/python3.6/dist-packages (from pandas->aide_design) (2.5.3)\n",
            "Requirement already satisfied: pytz>=2011k in /usr/local/lib/python3.6/dist-packages (from pandas->aide_design) (2018.9)\n",
            "Requirement already satisfied: cycler>=0.10 in /usr/local/lib/python3.6/dist-packages (from matplotlib->aide_design) (0.10.0)\n",
            "Requirement already satisfied: kiwisolver>=1.0.1 in /usr/local/lib/python3.6/dist-packages (from matplotlib->aide_design) (1.1.0)\n",
            "Requirement already satisfied: pyparsing!=2.0.4,!=2.1.2,!=2.1.6,>=2.0.1 in /usr/local/lib/python3.6/dist-packages (from matplotlib->aide_design) (2.4.0)\n",
            "Requirement already satisfied: six>=1.5 in /usr/local/lib/python3.6/dist-packages (from python-dateutil>=2.5.0->pandas->aide_design) (1.12.0)\n",
            "Requirement already satisfied: setuptools in /usr/local/lib/python3.6/dist-packages (from kiwisolver>=1.0.1->matplotlib->aide_design) (41.0.1)\n",
            "Building wheels for collected packages: aide-design\n",
            "  Building wheel for aide-design (setup.py) ... \u001b[?25l\u001b[?25hdone\n",
            "  Stored in directory: /root/.cache/pip/wheels/7e/4c/ff/ee783a5016eb8651521640914d4c58e7345ae9df3f92ade1bc\n",
            "Successfully built aide-design\n",
            "Installing collected packages: aide-design\n",
            "Successfully installed aide-design-0.0.12\n"
          ],
          "name": "stdout"
        }
      ]
    },
    {
      "cell_type": "code",
      "metadata": {
        "id": "ADlJvwpD7zrt",
        "colab_type": "code",
        "colab": {}
      },
      "source": [
        "from aguaclara.play import*\n",
        "import aguaclara.research.procoda_parser as pp\n",
        "import matplotlib.pyplot as plt\n",
        "import numpy as np\n",
        "from aguaclara.core.units import unit_registry as u\n",
        "import aguaclara.core.constants as c\n",
        "import aguaclara.core.physchem as pc\n",
        "import aguaclara.core.head_loss as hl\n",
        "import aguaclara.core.materials as mats\n",
        "\n",
        "import pandas as pd\n",
        "import matplotlib.pyplot as plt\n",
        "from numpy import pi\n",
        "from aide_design import physchem as pc\n",
        "from aide_design.units import unit_registry as u\n",
        "from aide_design import utility as ut"
      ],
      "execution_count": 0,
      "outputs": []
    },
    {
      "cell_type": "markdown",
      "metadata": {
        "id": "ddLDydJb755E",
        "colab_type": "text"
      },
      "source": [
        "### Calculating Headloss"
      ]
    },
    {
      "cell_type": "code",
      "metadata": {
        "id": "MYB-HWflQO6D",
        "colab_type": "code",
        "colab": {}
      },
      "source": [
        "#### Calculating MAJOR HEADLOSS along DRIVE PIPE\n",
        "# (Major headloss is the same for both the new and old pump design)\n",
        "\n",
        "#Parameters and Constants for headloss calculation\n",
        "v_f = 2.3*u.m/u.s #terminal velocity\n",
        "d = (1*u.inch).to(u.m) #diameter of drive pipe\n",
        "L = 1.74*u.m #length of drive pipe\n",
        "Q = (1*u.liter/u.s).to(u.m**3/u.s) #steady state flow rate in drive pipe assumed to be 1.0 L/s\n",
        "nu = pc.viscosity_kinematic(20*u.degC)\n",
        "\n",
        "h_f = pc.headloss_fric(Q, d, L, nu, 0)\n",
        "#INPUT DETAILS: pc.headloss_fric(flow rate, diameter of pipe, length of pipe, nu, PipeRough)\n",
        "#PipeRough assumed to be 0 because PVC is relatively smooth\n",
        "\n",
        "####################################################################\n",
        "#### Calculating MINOR HEADLOSS\n",
        "\n",
        "## OLD DESIGN (0.25in diam. effluent)_______________________________\n",
        "\n",
        "# Minor Headloss at Effluent Valve\n",
        "v_f = 2.3*u.m/u.s #terminal velocity\n",
        "d = (0.25*u.inch).to(u.m) #diameter of drive pipe\n",
        "L = 1.74*u.m #length of drive pipe\n",
        "\n",
        "A_out = np.pi*(d/2)**2 #cross-sectional area of effluent valve\n",
        "A_in = np.pi*((0.5*u.inch).to(u.m))**2 #cross-sectional area of drive pipe\n",
        "Q = A_in*v_f #flow rate in (steady state flow rate in drive pipe assumed to be 1.0 L/s)\n",
        "k_minor = (A_out/A_in-1)**2\n",
        "\n",
        "h_eff = pc.headloss_exp(Q, d, k_minor)\n",
        "\n",
        "# Minor Headloss at Elbow Joint\n",
        "k_elbow = 0.9\n",
        "h_elbow = pc.headloss_exp(Q, d, k_elbow)\n",
        "\n",
        "# Minor Headloss at Entrance of Air Chamber\n",
        "d = (1*u.inch).to(u.m)\n",
        "A_out = np.pi*(d/2)**2 #cross-sectional area of effluent valve\n",
        "A_in = np.pi*((0.25/2*u.inch).to(u.m))**2 #cross-sectional area of drive pipe\n",
        "Q = A_in*v_f #flow rate in (steady state flow rate in drive pipe assumed to be 1.0 L/s)\n",
        "k_minor = (A_out/A_in-1)**2\n",
        "\n",
        "h_air = pc.headloss_exp(Q, d, k_minor)\n",
        "\n",
        "# Total Minor Headloss\n",
        "h_eold = h_eff + h_air + h_elbow\n",
        "\n",
        "## NEW DESIGN (1.00in diam. effluent)_______________________________\n",
        "\n",
        "# Elbow bend headloss (count twice: at effluent valve and at entrance of air chamber)\n",
        "v_f = 2.3*u.m/u.s #terminal velocity\n",
        "d = (1*u.inch).to(u.m) #diameter of elbow joint\n",
        "A = np.pi*(d/2)**2 #cross-sectional area of elbow joint\n",
        "Q = A*v_f\n",
        "\n",
        "h_enew = pc.headloss_exp(Q, d, k_elbow) * 2 # doubled headloss because headloss due to 90 deg bends occur twice\n",
        "\n",
        "####################################################################\n",
        "#### Comparing Total Headloss\n",
        "\n",
        "## Old Model (summing major and minor headloss calculated above)\n",
        "h_Lold = h_f + h_eold\n",
        "h_Lnew = h_f + h_enew\n",
        "\n",
        "print(h_Lold, h_Lnew)\n",
        "\n",
        "\n",
        "\n"
      ],
      "execution_count": 0,
      "outputs": []
    },
    {
      "cell_type": "markdown",
      "metadata": {
        "id": "kSRGzzfl_XPM",
        "colab_type": "text"
      },
      "source": [
        "### Calculating Static Force on Plate"
      ]
    },
    {
      "cell_type": "code",
      "metadata": {
        "id": "UYJqymx2_9I7",
        "colab_type": "code",
        "outputId": "7ee56772-a3b7-4f72-ebeb-27a0f4ed9dcb",
        "colab": {
          "base_uri": "https://localhost:8080/",
          "height": 34
        }
      },
      "source": [
        "d_plate = (1.125*u.inch).to(u.m) #diameter of check valve plate\n",
        "L = 2.20*u.m #length of drive pipe\n",
        "m = 0.1132*u.kg #mass of rod+plate+stopper\n",
        "G = 9.807*u.m/u.s**2\n",
        "\n",
        "## Calculating force of water on the plate\n",
        "V = (np.pi * (d_plate/2)**2 * L).to(u.L)\n",
        "F_water = (V * 1000*(u.kg/u.m**3) * G).to(u.N)\n",
        "\n",
        "## Force from weight of rod\n",
        "F_rod = (m * G).to(u.N)\n",
        "\n",
        "## Total Static Force on Plate\n",
        "F_plate = F_water + F_rod\n",
        "print(F_plate)\n",
        "\n"
      ],
      "execution_count": 0,
      "outputs": [
        {
          "output_type": "stream",
          "text": [
            "14.95 newton\n"
          ],
          "name": "stdout"
        }
      ]
    },
    {
      "cell_type": "markdown",
      "metadata": {
        "id": "n1Y2ygO0LSM1",
        "colab_type": "text"
      },
      "source": [
        "### Pressure Cycles"
      ]
    },
    {
      "cell_type": "code",
      "metadata": {
        "id": "OwZUAIIeLY5k",
        "colab_type": "code",
        "colab": {}
      },
      "source": [
        ""
      ],
      "execution_count": 0,
      "outputs": []
    },
    {
      "cell_type": "markdown",
      "metadata": {
        "id": "uQBlaQNP-VJA",
        "colab_type": "text"
      },
      "source": [
        "## Future Work\n",
        "\n",
        "\n"
      ]
    },
    {
      "cell_type": "markdown",
      "metadata": {
        "id": "Me12TWjY-Iys",
        "colab_type": "text"
      },
      "source": [
        "## Conclusions"
      ]
    },
    {
      "cell_type": "markdown",
      "metadata": {
        "id": "ZXUik5SH-YFM",
        "colab_type": "text"
      },
      "source": [
        "## Bibliography\n",
        "Adelman, M. J., Weber-Shirk, M. L., Will, J. C., Cordero, A. N., Maher, W. J., Lion, L. W. (2013). \"[Novel Fluidic Control System for Stacked Rapid Sand Filters](https://ascelibrary.org/doi/10.1061/%28ASCE%29EE.1943-7870.0000700).” Journal of Environmental Engineering 139 (7)939-946.\n",
        "\n",
        "Aggarwal, P. & Guzman, J. (2016). Ram Pump, Spring 2016. Retrieved from https://confluence.cornell.edu/download/attachments/152026512/Ram%20Pump%20Final%20Report.pdf?version=1&modificationDate=1481833262000&api=v2.\n",
        "\n",
        "bin Mohammad Ali, M. D., bin Che Azih, M. K. bin Ali, M. B., bin Jasni, M. F., bin Zarmani, M.F. (2011). Hydraulic Ramp Pump (Hydram). Retrieved from www.scribd.com/doc/76535229/Hydraulic-Ramp-Pump-Hydram.\n",
        "\n",
        "Galantino, C., Paternain Martinez, J., Oiwa, L. (2016). Ram Pump, Fall 2016. Retrieved from https://drive.google.com/file/d/1MweG0bsgG2-wM_mkK_DgwULPSPK1G7iB/view.\n",
        "\n",
        "McCann, M., Lopez, W., Lopez, S. (Spring 2018). Ram Pump Operation and Testing Manual. Retrieved from https://github.com/AguaClara/ram_pump/blob/master/Spring%202018/FinalFabricationManualRamPump.md.\n",
        "\n",
        "Storch, A., Snyder, M. (Fall 2018). Ram Pump, Fall 2018. Retrieved from https://github.com/AguaClara/ram_pump/blob/master/Fall%202018/Manual.md.\n",
        "\n",
        "Young, B. W. (1995). Design of Hydraulic Ram Pump Systems. Proceedings of the Institution of Mechanical Engineers, Part A: Journal of Power and Energy, 209(4), 313–322. Retreived from https://doi.org/10.1243/PIME_PROC_1995_209_010_01."
      ]
    },
    {
      "cell_type": "markdown",
      "metadata": {
        "id": "EvBA8kN4-dty",
        "colab_type": "text"
      },
      "source": [
        "# Manual\n",
        "The goal of this section is to provide all of the guidance that would be necessary for a future team to pick up your work where you left off. Please try to be thorough and put yourselves in the shoes of a newcomer to the project. Below are some recommended sections, but the manual will likely take a slightly different form for each team."
      ]
    },
    {
      "cell_type": "markdown",
      "metadata": {
        "id": "yfoW16_iACYt",
        "colab_type": "text"
      },
      "source": [
        "## Fabrication Details\n",
        "The OnShape design for the components of the ACVRP can be found here:\n",
        "- [Metal Plate and Rod](https://cad.onshape.com/documents/4e73b2e01f40050da6dc53e5/w/505d309a289216ef94331ebd/e/21577f53e50d684e02f9ce65)\n",
        "- [Pump Body](https://cad.onshape.com/documents/d729d0b40b3687f6da716557/w/152bf5eb1d252b4f41d65a41/e/acf319f451a0780f2d4672bf)\n",
        "<p align=\"center\">\n",
        "\n",
        "  <img src=\"https://github.com/AguaClara/ram_pump/blob/master/Spring%202019/Images_Diagrams/currentrampumpside.PNG?raw=True\">\n",
        "\n",
        "  **Figure 8:** The current design of ram pump consisted of two check valves and a metal rod.\n",
        "\n",
        "</p>\n",
        "<p align=\"center\">\n",
        "\n",
        "<p align=\"center\">\n",
        "\n",
        "  <img src=\"https://github.com/AguaClara/ram_pump/blob/master/Spring%202019/Images_Diagrams/rampumpsp19designold_section.png?raw=True\">\n",
        "\n",
        "  **Figure 9:** The sectioned view of current design showed that the distance between plate opening and closing was limited by the position of the hex nuts on the rod and the stopper inside the check valves.\n",
        "\n",
        "</p>\n",
        "<p align=\"center\">\n",
        "\n",
        "**Table 7:** The modified ACVRP was fabricated using the following materials:\n",
        "\n",
        "| Parts                  | Quantity | Dimension                             | Source                                                                                                               |\n",
        "|:---------------------- |:-------- |:------------------------------------- |:-------------------------------------------------------------------------------------------------------------------- |\n",
        "| Brass Check Valve      | 3        | 1\" pipe size                          | Strataflo or [McMaster](https://www.mcmaster.com/7746k831)                                                           |\n",
        "| Metal Plate            | 1        | 1\" diameter                           | Part of check valve                                                                                                |\n",
        "| Hex Nuts               | 2        | 3/8\"-16 Thread Size, 1-1/8\" Long      | [McMaster](https://www.mcmaster.com/90264A213)                                                                       |\n",
        "| Brass Jam Nuts         | 2        | 3/8\"-16 Thread Size                   | [McMaster](https://www.mcmaster.com/92174a031)                                                                       |\n",
        "| Partially Threaded Rod | 1        | 3/8\"-16 Thread Size, 8\" Long          | [McMaster](https://www.mcmaster.com/98750a458) (Fully threaded but will be fabricated to partially threaded to 7.5\") |\n",
        "| Spring                 | 1        | Varied length and k constant          | Mcmaster                                                                                                             |\n",
        "| Brass Threaded Pipe Nipple | 5        |Fully Threaded, 1 NPT, 1-1/2\" Long | [McMaster](https://www.mcmaster.com/9176k116)                                                                        |\n",
        "|Brass Pipe Fitting Union Straight Connector|   1       |      1 NPT Female                                |       [McMaster](https://www.mcmaster.com/9162k476)                                                                                                               |\n",
        "|PVC Pipe Fitting for Water, T-Connector |  1        | 1 NPT Female |[McMaster](https://www.mcmaster.com/4596k340)     |\n",
        "|PVC Pipe Fitting 90 Degree Elbow Adapter|1      |  1 Socket Female x 1 NPT Female                |    [McMaster](https://www.mcmaster.com/4596k624)                                                                         |\n",
        "\n",
        "Since the modified design included a T-connector between the drive pipe and effluent, the pressure sensor to observe pressure trace of the ram pump was installed at the T-connector using a drill bit of  7/16 inches and a tap of 1/4 in- 18."
      ]
    },
    {
      "cell_type": "markdown",
      "metadata": {
        "id": "sTvHso03AGO_",
        "colab_type": "text"
      },
      "source": [
        "## Special Components\n",
        "Metal rod is fabricated in the machine shop"
      ]
    },
    {
      "cell_type": "markdown",
      "metadata": {
        "id": "loq2DmszAKf2",
        "colab_type": "text"
      },
      "source": [
        "## Experimental Methods\n",
        "The Spring 2019 team followed a similar procedure to the Fall 2018 team to experimentally determine the force required to open the check valve (see Figure 7 for details) ([Storch and Snyder, 2018](https://github.com/AguaClara/ram_pump/blob/master/Fall%202018/Manual.md)).\n",
        "1. Attach the end of the string hanging from the drive pipe to the hook located on the plate within the check valve of the ACVRP. (insert picture)\n",
        "2. Screw on the ram pump to the drive pipe. Open the ball valve at the bottom of the ram pump.\n",
        "3. Turn on the electric sump pump, following the procedure from above. When the water in the head tank reaches the line, begin running experiments.\n",
        "4. Measure the initial mass of the empty bottle.\n",
        "5. Attach the empty bottle to the free end of the string.\n",
        "6. Gradually add water and other weights, if necessary, to the bottle until the check valve opens, allowing water to flow out of the waste valve.\n",
        "7. Remove the bottle from the string, and measure the mass of the contents of the bottle."
      ]
    },
    {
      "cell_type": "markdown",
      "metadata": {
        "id": "GOe3xI0qAdfk",
        "colab_type": "text"
      },
      "source": [
        "### Observing Pressure Cycles \n",
        "\n",
        "The change in pressure for each cycle was observed by manually opening and closing the check valve. The pressure at the waste valve and the air chamber was recorded.  \n",
        "\n",
        "1. Record the initial height of water in the air chamber to calculate the initial volume of air. Pressurize the air chamber to 600 cm, and run the ram pump as detailed above.\n",
        "2. Use ProCoDA to track pressure changes as detailed above.\n",
        "3. Pull on the string to open the valve for a few seconds.\n",
        "4. Release the string to close the valve for a few seconds.\n",
        "5. Graph the data using the Python code detailed below in the Results and Analysis section."
      ]
    },
    {
      "cell_type": "markdown",
      "metadata": {
        "id": "CXrgSYivAoEr",
        "colab_type": "text"
      },
      "source": [
        "## Experimental Checklist\n",
        "Another potential section could include a list of things that you need to check before running an experiment.\n"
      ]
    },
    {
      "cell_type": "markdown",
      "metadata": {
        "id": "BiTsuHFrGAm5",
        "colab_type": "text"
      },
      "source": [
        "## ProCoDA Method File\n",
        "\n",
        "**Upload your ProCoDA method file to your Github repository and provide a [link]() it in your report.**\n",
        "\n",
        "Use the rest of this section to explain your method file. Your explanation can be broken up into several components as shown below:\n"
      ]
    },
    {
      "cell_type": "markdown",
      "metadata": {
        "id": "CnTgFhHEGE_f",
        "colab_type": "text"
      },
      "source": [
        "### States\n",
        "Here, you should describe the function of each state in your method file, both in terms of its overall purpose and also in terms of the details that make it distinct from other states. For example:\n",
        "\n",
        " - **OFF**: Resting state of ProCoDA. All sensors, relays, and pumps are turned off.\n"
      ]
    },
    {
      "cell_type": "markdown",
      "metadata": {
        "id": "Ks6ALZO2GH_E",
        "colab_type": "text"
      },
      "source": [
        "### Set Points\n",
        "Here, you should list the set points used in your method file and explain their use as well as how each was calculated.\n"
      ]
    },
    {
      "cell_type": "markdown",
      "metadata": {
        "id": "LaELphDxGIE-",
        "colab_type": "text"
      },
      "source": [
        "## Python Code\n",
        "\n",
        "In this section, provide any code that was a significant part of your research, including in making theoretical calculations, determining parameters for your apparatus and your experiment, or analyzing your data.\n",
        "\n",
        "If your code is repetitive (e.g. similar code for creating different graphs) or too long, you may instead provide a [link to a file](https://github.com/AguaClara/team_resources/blob/master/Example%20Code/Data%20Analysis.md) with your code that has been *uploaded to your repository*."
      ]
    },
    {
      "cell_type": "markdown",
      "metadata": {
        "id": "uNiQXErgGRg7",
        "colab_type": "text"
      },
      "source": [
        "### Code for Figure 3\n",
        "\n",
        "Provide a brief description of your code, for example:\n",
        "\n",
        "Below is the code used to create the influent and effluent turbidity graph in Figure 3, using the `aguaclara.research.procoda_parser` module to read the turbidity data from a ProCoDA data file.\n",
        "\n",
        "**Note: your code should be able to run as is in this report. That means any files you reference should have the correct directories/paths, so that anybody who downloads your repository can run the code in your report and find the same results.** For example, the code below references a ProCoDA data file in the Data folder of this repository. If that file is not present or moved to a different folder, this code will result in an error.\n",
        "\n"
      ]
    },
    {
      "cell_type": "code",
      "metadata": {
        "id": "eEpWjBkIGjOa",
        "colab_type": "code",
        "colab": {}
      },
      "source": [
        "# Import Statements\n",
        "\n",
        "import aguaclara.research.procoda_parser as pp\n",
        "import matplotlib.pyplot as plt\n",
        "import numpy as np\n",
        "from aguaclara.core.units import unit_registry as u\n",
        "import aguaclara.core.constants as c\n",
        "import aguaclara.core.physchem as pc\n",
        "import aguaclara.core.head_loss as hl\n",
        "import aguaclara.core.materials as mats"
      ],
      "execution_count": 0,
      "outputs": []
    },
    {
      "cell_type": "markdown",
      "metadata": {
        "id": "2vIiWASQGvuA",
        "colab_type": "text"
      },
      "source": [
        "### Code for Experimental Design\n",
        "\n",
        "Make sure variables in your code, as well as anything that might not be easily understood by a newcomer, is well commented. Also include the outputs of your code, if applicable and not given earlier in the report.\n"
      ]
    },
    {
      "cell_type": "code",
      "metadata": {
        "id": "cVnPr9RyG7lf",
        "colab_type": "code",
        "colab": {}
      },
      "source": [
        "import aguaclara.research.peristaltic_pump as pp\n",
        "import aguaclara.research.stock_qc as stock_qc\n",
        "from aguaclara.core.units import unit_registry as u\n",
        "\n",
        "# volume per revolution flowing from the pump for PACl (coagulant) stock\n",
        "vol_per_rev_PACl = pp.vol_per_rev_3_stop(\"yellow-blue\")\n",
        "# revolutions per minute of PACl stock pump\n",
        "rpm_PACl = 3 * u.rev/u.min\n",
        "# flow rate from the PACl stock pump\n",
        "Q_PACl = pp.flow_rate(vol_per_rev_PACl, rpm_PACl)\n",
        "\n",
        "\n",
        "# desired system flow rate\n",
        "Q_sys = 2 * u.mL/u.s\n",
        "# desired system concentration of PACl\n",
        "C_sys = 1.4 * u.mg/u.L\n",
        "# a variable representing the reactor and its parameters\n",
        "reactor = stock_qc.Variable_C_Stock(Q_sys, C_sys, Q_PACl)\n",
        "\n",
        "\n",
        "# required concentration of PACl stock\n",
        "C_stock_PACl = reactor.C_stock()\n",
        "# concentration of purchased PACl super stock in lab\n",
        "C_super_PACl = 70.28 * u.g/u.L\n",
        "# dilution factor of PACl super stock necessary to achieve PACl stock\n",
        "# concentration (in L of super stock per L water)\n",
        "dilution = reactor.dilution_factor(C_super_PACl)\n",
        "mL_per_L = dilution * 1000\n",
        "\n",
        "print(\"A reactor with a system flow rate of\", Q_sys, \",\")\n",
        "print(\"a system PACl concentration of\", C_sys, \",\")\n",
        "print(\"and a PACl stock flow rate of\", Q_PACl)\n",
        "print(\"will require a dilution factor of\", round(mL_per_L.magnitude, 3),\n",
        "  \"milliliters of PACl super\")\n",
        "print(\"stock per liter of water for the PACl stock.\")"
      ],
      "execution_count": 0,
      "outputs": []
    }
  ]
}