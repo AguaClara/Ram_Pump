{
  "nbformat": 4,
  "nbformat_minor": 0,
  "metadata": {
    "colab": {
      "name": "Report_Spring2021.ipynb",
      "provenance": [],
      "collapsed_sections": []
    },
    "kernelspec": {
      "name": "python3",
      "display_name": "Python 3"
    }
  },
  "cells": [
    {
      "cell_type": "markdown",
      "metadata": {
        "id": "TLAmaRBfCmiy"
      },
      "source": [
        "# Ram Pump, Spring 2021\n",
        "#### Ching Pang, Maggie Chen, Payton Hunter\n",
        "#### April 19th, 2020\n"
      ]
    },
    {
      "cell_type": "markdown",
      "metadata": {
        "id": "BfeU4k7OCphn"
      },
      "source": [
        "## Abstract\n",
        "Previous Ram Pump teams have created mathematical models describing velocities, forces, flow rates, headlosses, etc. in the AguaClara Vertical Ram Pump (ACVRP); performed experiments to learn more about what actually happens in the system; and have made redesigns to the setup and ACVRP itself to further improve its efficiency, likeliness to an AguaClara plant, and to increase the ease of assembly and adjustment. This semester the team plans to fabricate a new lab setup that integrates the setup into the work bench for a redesign of the ACVRP, and to further explore ways to improve its efficiency. The team has decided on a new design that eliminates the bottom check valve of the ACVRP and the threaded rod and compression spring that it housed and instead includes an extension spring that will be at the top of the head tank. The extension spring will be connected to a hook on the top of the plate with metal wire rope. It is expected that the functionality and process of the ACVRP will not change but making fine-tune adjustements to the initial and final forces of the spring will be easier to make because there will be easier access to the spring. The team created a materials list for the new parts needed and is currently updating the CAD model to reflect the changes. The team plans to construct the new lab setup and ACVRP design and then to perform experiments as well as improve theoretical equations to further optimize the ACVRP"
      ]
    },
    {
      "cell_type": "markdown",
      "metadata": {
        "id": "EqtwU-gRCrj9"
      },
      "source": [
        "## Introduction\n",
        "\n",
        "The purpose of a hydraulic ram pump is to pump water from a lower elevation to a higher elevation using the kinetic energy of the falling water to drive the water upward [(bin Mohammad Ali, 2011)](https://www.scribd.com/doc/76535229/Hydraulic-Ramp-Pump-Hydram). All of AguaClara's plants are gravity powered and the treated water exits at the lowest part of the plant. The treated water needs to enter the chemical stock tanks, but the tanks are located to at the most elevated section of the tanks. Currently, many of the plant operators manually fill the treated water into buckets and transport them to the chemical stock plants. The ram pump is currently 2 meters below the surface of the filtered water and the surface of the filtered water is 4 meters from the top of the chemical stock tank; the AguaClara Vertical Ram Pump (ACVRP) needs to be able to pump the water to a miniumum of 6 meters vertically. The ram pump also needs to provide a constant flow of filtered water to the chemical stock tank to stop contamination of the chemical stock and to provide the necessary concentration of solvent in the plant's influent water supply. \n",
        "\n",
        "The ACVRP would improve upon the conventional ram pump design by making installation easier and more cost efficient. Traditional ram pumps require an additional collection tank for water discharged from the pump in order to return the water to the distribution tank. The ACVRP eliminates the need for the additional collection tank and it is easy to install, fabricate, and repair.\n",
        "\n",
        "\n",
        "The new design places the adjustable parts of the ram pump in more accessible areas of the plant, which will increase efficiency since workers will no longer have to travel to the bottom of the plant, where there may not be optimal conditions to work in, and instead allow for any small adjustments of the pump to be made easier. Some of the challenges will be finding areas of uncertainty in the ram pump system, fine tuning the throttle so that the water flow is steadier, and finding a precise way to adjust eyebolts. "
      ]
    },
    {
      "cell_type": "markdown",
      "metadata": {
        "id": "FLDOXtNqCtAW"
      },
      "source": [
        "## Literature Review and Previous Work\n",
        "\n",
        "Previous Ram Pump teams have been working towards establishing mathematical models to describe the ram pump's theoretical behavior, experimentally measuring forces within the ram pump to characterize it's actual behavior, and developing methods to calculate an ideal spring constant to optimize the ACVRP's efficiency, by comparing the experimental vs theoretical flow rate, as well as creating CAD models and modifying the experimental setup. \n",
        "\n",
        "### Procedure Changes\n",
        "The Spring 2019 team used ProCoDA to pressurize the air chamber to 6 m of head to simulate the elevation to which the ACVRP will be required to pump water to in an AguaClara plant [(Pang et. al. 2019)](https://github.com/AguaClara/ram_pump/blob/master/Spring%202019/Spring2019RamPump.pdf). This method was further developed by the Summer 2019 team by using PID controls to pump water out of the air chamber to keep the pressure constant [(Pang and Ju, 2019)](https://github.com/AguaClara/ram_pump/blob/master/Summer%202019/RamPump2019Summer.ipynb). No further adjustments have been made to the proceduce since. \n",
        "\n",
        "### Design Updates\n",
        "The Summer 2019 team also modified the design of the ACVRP, effluent pipe, and air chamber. These changes were to decrease headloss, increase ease of assembly and disassembly, and to simulate an AguaClara plant as closely as possible. The CAD model of one of the iterations of the new design is shown in Figure 1 and the iterations of the air chamber including the most recent design are shown in Figure 2. The Summer 2019 CAD model can be opened [here](https://cad.onshape.com/documents/dfdca21e8bb9906c2c0e435d/w/7e1c2d3a3372bc981c94b2cc/e/18867521031d1e079821aa1a).\n",
        "\n",
        "<p align=\"center\">\n",
        "  <img src=\"https://raw.githubusercontent.com/AguaClara/ram_pump/master/Summer%202019/Images_Diagrams/rampumpcross.png\" height=600>\n",
        "</p>\n",
        "\n",
        "*Figure 1: Cross-section view of a design of the AguaClara Vertical Ram Pump from [Pang and Ju, 2019](https://github.com/AguaClara/ram_pump/blob/master/Summer%202019/RamPump2019Summer.ipynb) is shown. The team increased the diameter of the effluent pipe (labeled as exit of purified water) and included unions in the design for easy adjustments.*\n",
        "\n",
        "<p align=\"center\">\n",
        "  <img src=\"https://raw.githubusercontent.com/AguaClara/ram_pump/master/Summer%202019/Images_Diagrams/airchamberdesigns.PNG\" height=230>\n",
        "</p>\n",
        "\n",
        "*Figure 2: Iteration of new air chamber design from [Pang and Ju, 2019](https://github.com/AguaClara/ram_pump/blob/master/Summer%202019/RamPump2019Summer.ipynb). The current air chamber is shown on the right.*\n",
        "\n",
        "### Spring Constant and Forces\n",
        "The Fall 2018 team placed heavy focus on finding the ideal spring constant [(Storch and Snyder, 2018)](https://github.com/AguaClara/ram_pump/blob/master/Fall%202018/Manual.md). The team took a new approach and used the following equation to find an ideal k value: $$k=\\frac{|F_{opening}-F_{closing}|}{\\Delta x}.$$ In this equation, $F_{opening}$ is the force at which the plate opens and $F_{closing}$ is the force at which the plate closes. The team assumed $F_{opening}$ to be the hydrostatic force of the water in the drive pipe since ideally the plate would open once the water decelerated completely, allowing the plate to remain closed for the longest period of time. However, $F_{closing}$ is more complicated and can not be calculated easily. Because of this, the team decided to take an experimental approach to finding this force. The experimental setup and procedure is described in [Storch and Snyder, 2018](https://github.com/AguaClara/ram_pump/blob/master/Fall%202018/Manual.md). \n",
        "\n",
        "The Spring 2019 team built off of this work and implemented the use of $k'$ in their force balance equations. They defined $k'$ as the given spring constant $k$ in N/m divided by the original length of the spring, $L$. Using $k'$ allows the team to cut a spring to alter it's spring constant while easily accounting for this change in their equations. \n",
        "\n",
        "### Objectives\n",
        "This semester, the Ram Pump subteam's main focus was to identify and try to mathematically model the components that caused the greatest amount of uncertainty within our lab setup. This involved going through the pumping process and determining which areas had high levels of turbulence that would disturb head measurements and which areas could be physically modified to remedy the issue. The main point of this research was to know more about the precision of our system. Without a gauge of the level of accuracy the setup operates at the numbers we calculate could be completely off of realistic values. \n",
        "\n",
        "<img src=\"https://raw.githubusercontent.com/AguaClara/ram_pump/master/Fall%202018/Pictures/Ram%20pump%20structure.png\">\n",
        "\n",
        "*Figure 3: Internal and external structure of old ACVRP design from [Storch and Snyder](https://github.com/AguaClara/ram_pump/blob/master/Fall%202018/Manual.md).*\n",
        "\n",
        "Another issue with the old design on the ACVRP was that the spring force when the plate is open could not be adjusted independently of that when the plate is closed and vice versa. This is another issue that the team wanted to address and solve with the redesign.\n",
        "\n",
        "Ultimately, the team came up with a new design that includes three extension springs outside of the check valve at the top of the experimental apparatus that connect to the plate in the check valve by a metal rope. In an AguaClara plant, the springs would be above the filter channel. Since there is no longer a compression spring, there is also no need for two check valves so the new design only utilizes one. Additionally, the new spring system includes an adjustment mechanism that does not require the ACVRP to be disconnected or taken apart and adjustments can be made with water flowing through the ACVRP for instantaneous feedback. The spring system which is described in depth in the Experimental Apparatus section also allows for independent adjustment of the spring force for the plate open and closed positions. \n"
      ]
    },
    {
      "cell_type": "markdown",
      "metadata": {
        "id": "A9c0Dr8rCujT"
      },
      "source": [
        "## Methods\n",
        "\n",
        "This semester, the ram pump team decided to find ways to optimize and eliminate uncertainty in the flow rate of the system. One of the areas that the team wanted to adjust was the spring system; finding a way to more precisely adjust each eyebolt is an important step. Another step is to look for the manufacturers specifications in the sump pump and the peristaltic pump to look for the uncertainity ratings. \n",
        "\n",
        "There is a bit of turbulence in the in the head tank, so the team is trying to either add another backflow pipe or change the pipe to help the make the head value a bit more constant. Another location with turbulence is the throttle valve so fine tuning it would be another step the team would be taking. Lastly sealing the air chamber is also part of ensuring that the data is accurate and uncertainity is reduced as much as possible. "
      ]
    },
    {
      "cell_type": "markdown",
      "metadata": {
        "id": "P1KPU32VCw94"
      },
      "source": [
        "### Experimental Apparatus\n",
        "The Experimental Apparatus consists of a Head Tank that is being held at the top of the 80/20 framing of the workbench with an 80/20 support structure. The Head Tank has two holes in the bottom that have 1\" bulkheads that have 1\" pipes coming out of them towards the work bench. They both run through the table. One is connected to the sump pump under the table and the other is connected to the ram pump under the table. Both the ram pump and sump pump are inside a waste bucket that is on the floor under the table. The head tank has another hole in the right side that also has a 1\" bulkhead that is connected to a horizontal clear pipe that is then connected to a series of elbows and pipes that have an outlet into the waste bucket. This is the overflow pipe that keeps the water level in the head tank constant therefore keeping the head constant. The horizontal pipe coming out of the head tank is clear so that the team can see from the ground when the water level has reached the overflow pipe height and can know when they have constant head for experimental purposes.\n",
        "\n",
        "Both pipes running through the table are in two portions that are connected by a union right above the table. This allows for easy assembly and disassembly of the system.\n",
        "\n",
        "The sump pump pipe has two valves in the portion above the table. One acts as an on/off valve and the other is a throttle valve. The throttle valve is meant to be adjusted at first installation and does not need to be adjusted again.\n",
        "\n",
        "The support structure also includes a frame that extend up above the head tank and has the spring system connected to it. The spring system consists of three springs inline between two plates. The springs are attached to the upper plate using eyebolts. The two outer springs are the same length and spring constant and are longer than the middle spring. The middle spring is connected to its eyebolt using string that is tied with slack in it when the check valve plate is open. All three springs are also connected to a bottom plate that has metal rope running from it to a hook in the top of the check valve plate. When the check valve plate begins to close, the slack in the string connected to the middle spring allows for the spring itself to not yet extend. Only the two outer springs are extending and exerting force on the check valve plate. Once the check valve plate has closed a distance equal to the length of slack in the string, the middle spring will begin to extend. Therefore, once the check valve plate is closed, all three springs are contributing to the force on the check valve plate. While the two outer springs do act on the plate when it is both open and closes, the team considers the two total spring forces (when the plate is open and when the plate is closed) to be independent because the spring force when the plate is closed will always need to be greater than the spring force when the plate is open. Therefore, the team can adjust the initial height and/or extension of the outter springs using the corresponding eyebolts first and then adjust the middle spring second based on the adjustment of the outter springs.\n",
        "\n",
        "Schematic diagrams of the setup can be seen below.\n",
        "\n",
        "|![front](https://raw.githubusercontent.com/AguaClara/ram_pump/master/Fall%202019/Pictures/ACRamPumpSideView1.png)  | ![side](https://raw.githubusercontent.com/AguaClara/ram_pump/master/Fall%202019/Pictures/ACRamPumpSideView1.png) |\n",
        "|:---:|:---:|\n",
        "| **Front View of Experimental Apparatus** | **Side View of Experimental Apparatus** | \n",
        "\n",
        "<center>\n",
        "\n",
        "*Figure 4: Schematic drawing of experimental apparatus*\n",
        "\n",
        "</center>\n",
        "\n",
        "\n",
        "\n"
      ]
    },
    {
      "cell_type": "markdown",
      "metadata": {
        "id": "8WdhCMcNC00a"
      },
      "source": [
        "\n",
        "### Procedure\n",
        "The Ram Pump team ran experiments to test the affects that adjustments to the spring system had on the flowrate pumped by the ACVRP. \n",
        "\n",
        "The team utilized PID controls through ProCoDA. A pressure sensor monitered the pressure in the air chamber and a pump was set up to pump water out of the air chamber. The team set the target pressure in the air chamber to be 600 cm of water to replicate the height water will have to be pumped to in an AguaClara plant. As the ACVRP would run and pump water into the air chamber the pressure would increase. Once it reached the target pressure, the pump connected to ProCoDA would pump out enough water to keep the pressure relatively constant. This was used throughout the experiments to keep the pressure in the air chamber constant. "
      ]
    },
    {
      "cell_type": "markdown",
      "metadata": {
        "id": "TPiP9gijC3GV"
      },
      "source": [
        "## Analysis\n",
        "\n",
        "Since the team was not able to physically test these proposed alterations on the lab setup, there have been no definite results. However, the team has come up with a list of components that can be physically altered that we believe would reduce overall turbulence and uncertainty in our setup. There are also some locations where uncertainty can only be approximated and exact measurements are not practical. \n",
        "\n",
        "We saw the most uncertainty being generated in the head tank mainly due to the water being pumped up into the tank. There were a lot of waves and resulting turbulence from the process that threw off the head height we initially thought was more constant than in reality. The team also noticed potential error in the pressured air chamber, which could be reading faultly pressure values due to leaks and improper tubing sizing that could affect flow rate calculations. \n",
        "\n",
        "Overall, the largest component of error was the head tank turbulence. We proposed to remedy this by adding more waste valves along the side of the tank to reduce the amount of waves along the top of the tank. We also thought of increasing the length of the water input pipe, so water would flow down into the head tank rather than forcing water from underneath the tank. This method would decrease turbulence, we think, and allow for a more even distribution of water displacement. There were other solutions that the team thought of but this was the most cost-effective and practical for reducing the most uncertainty. "
      ]
    },
    {
      "cell_type": "markdown",
      "metadata": {
        "id": "4m-fx7GnC6a-"
      },
      "source": [
        "## Conclusions\n",
        "The goal of this semester was to identify places of high uncertainty in our current model setup and develop methods to quantify and reduce them. There was no way to test if some of the alterations thought of actually could reduce experimental error, but this semester offered some potential experiments for future semesters to test. This issue has also given the team more to think of concerning how accurate our model is and what can be done to improve quality of measurements, even with small adjustments. There is still a lot to work on, in terms of, quantifing the uncertainty, but the team now has another level of complexity to think about in their project. "
      ]
    },
    {
      "cell_type": "markdown",
      "metadata": {
        "id": "QbOeP4KiC7p2"
      },
      "source": [
        "## Future Work\n",
        "\n",
        "The team hopes to enter the lab within the next several weeks and gather more data. This semester, the team was only able to work virtually and only theoreticalize the effects of certain plans of action. Once the team has access to the ACVRP, the team would like to test the how adjusting certain parts of the set up would affect uncertainty and flow rate. ProCoDA would help the team record the pump control and get data to help analyze flow rate and pressure changes. \n",
        "\n",
        "The Ram Pump team this semester found ways that could make the system more efficient and accurate and further research would be needed in the future to determine the most effective adjustments. "
      ]
    },
    {
      "cell_type": "markdown",
      "metadata": {
        "id": "fZyCYDraC80B"
      },
      "source": [
        "## Bibliography\n",
        "Logan, B. E., Hermanowicz, S. W., & Parker,A. S. (1987). A Fundamental Model for Trickling Filter Process Design. Journal (Water Pollution Control Federation), 59(12), 1029–1042."
      ]
    },
    {
      "cell_type": "markdown",
      "metadata": {
        "id": "oDYGZ4TkC-H2"
      },
      "source": [
        "# Manual\n",
        "The current procedure and previous reports give a good explanation of how to operate Ram Pump and ProCoda to gain meaningful information. "
      ]
    },
    {
      "cell_type": "markdown",
      "metadata": {
        "id": "kfka8Y62C_y-"
      },
      "source": [
        "## Fabrication Details\n",
        "\n",
        "<center>\n",
        "<img src=\"https://raw.githubusercontent.com/AguaClara/ram_pump/master/Fall%202019/Pictures/rampump2019fallonshapeside.png\"\">\n",
        "\n",
        "\n",
        "*Figure 7: Side view of ram pump experimental set up (CAD model)*\n",
        "\n",
        "\n",
        "**Table 3:** The current design of the ACVRP was fabricated using the following materials:\n",
        "\n",
        "| Parts   | Quantity | Description   | Source |\n",
        "|:----------- |:-------- |:------- |:-------------- |\n",
        "| Brass Check Valve    | 2  | 1\" pipe size  | Strataflo or [McMaster](https://www.mcmaster.com/7746k831)  |\n",
        "| Metal Plate            | 1        | 1\" diameter     | Part of check valve from Strataflo   |\n",
        "| Thick-Wall PVC Pipe Nipple for Water | 7        |Fully Threaded, 1 NPT, 1-1/2\" Long | [McMaster](https://www.mcmaster.com/9176k116)|\n",
        "  | Thick-Wall PVC Pipe Nipple for Water | 1        |Threaded on One End, 1 NPT, 2\" Long | [McMaster](https://www.mcmaster.com/9173k35)|\n",
        "|Thick-Wall PVC Pipe Fitting for Water, Union Connector, 1 NPT Female|  4       |      1 NPT Female                                |       [McMaster](https://www.mcmaster.com/4596k64)   |\n",
        "|PVC T-Connector |  1        | 1 NPT Female |[McMaster](https://www.mcmaster.com/4596k340)     |\n",
        "|PVC Inline Tee Reducer|1      | 3 Socket Female x 1 Socket Female                |    [McMaster](https://www.mcmaster.com/4880k583) |\n",
        " |Compact Backflow-Prevention Valve|1|1/8 NPT Female x 1/8 NPT Male|[McMaster](https://www.mcmaster.com/7768k21)|\n",
        " |Precision Flow-Adjustment Valve|1|Dark Gray PVC, 1/4 NPT Female x Male|[McMaster](https://www.mcmaster.com/7781K26)|\n",
        "  |PVC Cap|2|3 Pipe Size Socket-Connect Female|[McMaster](https://www.mcmaster.com/4880k57)|\n",
        "\n",
        "  **Table 4:** The current design of the spring system was fabricated using the following materials:\n",
        "\n",
        "| Parts   | Quantity | Description   | Source |\n",
        "|:----------- |:-------- |:------- |:-------------- |\n",
        "|Extension Spring Stock| 20\"/36\" |Extension Spring Stock (Corrosion Resistant optional) of desired rate | [McMaster](https://www.mcmaster.com/extension-springs)|\n",
        "|Routing Eyebolt with Nut| 3 | Not for Lifting, Zinc-Plated with Bent-Closed Eye, 1/4\"-20 Thread, 1\" Shank| [McMaster](https://www.mcmaster.com/9489t17)|\n",
        "|Zinc-Plated Steel Round Eye Nut| 1 | 1/4\"-20 Thread Size| [McMaster](https://www.mcmaster.com/3112t31)|\n",
        "|Galvanized Steel Eyebolt with Nut and without Shoulder| 3 | for Lifting, 1/4\"-20 Thread Size, 3\" Thread Length| [McMaster](https://www.mcmaster.com/3016T18)|\n",
        "|Coated Wire Rope - Not for Lifting| 5ft | 0.047\" Diameter, 1/16\" Diameter with Coating, Lubricated| [McMaster](https://www.mcmaster.com/8930t32)|\n",
        "|Multipurpose 6061 Aluminum| 1ft| 1/4\" Thick x 2\" Wide| [McMaster](https://www.mcmaster.com/8975k71)|\n",
        "\n",
        "Note that the multipurpose aluminum was used by the team to fabricate the top and bottom plates for the spring system being brought to Honduras. The first iteration of the new spring system was built using flat 80/20 fasteners that were in the lab. Either method may be used in the future. "
      ]
    },
    {
      "cell_type": "markdown",
      "metadata": {
        "id": "OH4T3NMQDE84"
      },
      "source": [
        "## Experimental Methods\n",
        "\n",
        "Experimental method was kept the same as previous semesters, which can be referenced from [here](https://github.com/AguaClara/ram_pump/blob/master/Summer%202019/RamPump2019Summer.ipynb)."
      ]
    },
    {
      "cell_type": "markdown",
      "metadata": {
        "id": "7Nhn0HGZpXsy"
      },
      "source": [
        "## Experimental Checklist\n",
        "Things to check before running the setup is gone over in Experimental Methods."
      ]
    }
  ]
}