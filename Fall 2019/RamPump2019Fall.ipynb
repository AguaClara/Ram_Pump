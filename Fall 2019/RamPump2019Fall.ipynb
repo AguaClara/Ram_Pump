{
  "nbformat": 4,
  "nbformat_minor": 0,
  "metadata": {
    "colab": {
      "name": "RamPump2019Fall.ipynb",
      "provenance": [],
      "collapsed_sections": [],
      "include_colab_link": true
    },
    "kernelspec": {
      "name": "python3",
      "display_name": "Python 3"
    }
  },
  "cells": [
    {
      "cell_type": "markdown",
      "metadata": {
        "id": "view-in-github",
        "colab_type": "text"
      },
      "source": [
        "<a href=\"https://colab.research.google.com/github/AguaClara/ram_pump/blob/master/Fall%202019/RamPump2019Fall.ipynb\" target=\"_parent\"><img src=\"https://colab.research.google.com/assets/colab-badge.svg\" alt=\"Open In Colab\"/></a>"
      ]
    },
    {
      "cell_type": "markdown",
      "metadata": {
        "id": "awle31N5ykbr",
        "colab_type": "text"
      },
      "source": [
        "# Ram Pump, Fall 2019\n",
        "#### Ching Pang, Alycia Storch, Payton Hunter\n",
        "#### 12/15/2019\n"
      ]
    },
    {
      "cell_type": "markdown",
      "metadata": {
        "id": "lGzNCdLa1f38",
        "colab_type": "text"
      },
      "source": [
        "##Abstract\n",
        "\n",
        "Previous Ram Pump teams have created mathematical models describing velocities, forces, flow rates, headlosses, etc. in the AguaClara Vertical Ram Pump (ACVRP); performed experiments to learn more about what actually happens in the system; and have made redesigns to the setup and ACVRP itself to further improve its efficiency, likeliness to an AguaClara plant, and to increase the ease of assembly and adjustment. This semester the team plans to fabricate a new lab setup that integrates the setup into the work bench for a redesign of the ACVRP, and to further explore ways to improve its efficiency. The team has decided on a new design that eliminates the bottom check valve of the ACVRP and the threaded rod and compression spring that it housed and instead includes an extension spring that will be at the top of the head tank. The extension spring will be connected to a hook on the top of the plate with metal wire rope. It is expected that the functionality and process of the ACVRP will not change but making fine-tune adjustements to the initial and final forces of the spring will be easier to make because there will be easier access to the spring. The team created a materials list for the new parts needed and is currently updating the CAD model to reflect the changes. The team plans to construct the new lab setup and ACVRP design and then to perform experiments as well as improve theoretical equations to further optimize the ACVRP.\n"
      ]
    },
    {
      "cell_type": "markdown",
      "metadata": {
        "id": "TpShT1NO1jsq",
        "colab_type": "text"
      },
      "source": [
        "## Introduction\n",
        "\n",
        "The purpose of a hydraulic ram pump is to pump water from a lower elevation to a higher elevation using the kinetic energy of the falling water to drive the water upward [(bin Mohammad Ali, 2011)](https://www.scribd.com/doc/76535229/Hydraulic-Ramp-Pump-Hydram). An AguaClara plant's flow is driven solely by gravity, and all treated water exits the treatment process at the lowest point of the plant. In order to fill chemical stock tanks, located at the top, currently, many of the plant operators must manually fill buckets of treated water at the bottom of the plant and transport them to the most elevated section of the plant. The current elevation between where the ram pump is installed to the surface of the filtered water channel is approximately 2 meters, and the elevation from the surface to the top of the chemical stock tank is approximately 4 meters. The AguaClara Vertical Ram Pump (ACVRP) needs to be able to pump water to a minimum of 6 meters of head. This solves the issue of treated water needing to be manually transported up to the chemical stock tanks, and does so without the use of electricity [(Martinez et. al, 2016)](https://drive.google.com/file/d/1MweG0bsgG2-wM_mkK_DgwULPSPK1G7iB/view). A constant flow of filtered water is needed in the chemical dosage tanks in order to stop contamination within the chemical stock. As well as, to provide the necessary concentration of solvent into the plant's influent water supply.\n",
        "\n",
        "The ACVRP is an innovation that would improve upon the conventional ram pump design by making installation easier and most cost-efficient for plant operators. Ram pumps used in previous AguaClara plants required an additional collection tank for water discharged from the ram pump in order to return expelled water to the distribution tank. The collection tank added capital cost to the plant and was difficult to incorporate into the pipe system of the basements of these plants. \n",
        "\n",
        "The ACVRP is an inline ram pump that eliminates the need for an additional collection tank and would be easily installed into new plants, as well as, previously built AguaClara plants. The design allows for easy fabrication and repair, and encourages communities to advance in their development of sustainable practices.\n",
        "\n",
        "The updated design stations the adjustable parts of the mechanical ram pump closer to the more accessible areas of the plant. Instead of having the inline pump solely at the bottom of the plant, the entire mechanism will span from the bottom of the plant to the end of the water treatment process. This will spare workers the time and effort of traveling to the bottom of the plant, where there may not be lighting or optimal conditions to work in, and instead allow for any small adjustments of the pump to be made easier. One of the challenges this semester will be determining how to operate the ram pump through the drive pipe. It may be difficult to make precise calculations on how material going through the pipe may affect the water's velocity or how much force is transmitted to the bottom plate of the ram pump.\n",
        "\n"
      ]
    },
    {
      "cell_type": "markdown",
      "metadata": {
        "id": "4gfgHIlZ2Evd",
        "colab_type": "text"
      },
      "source": [
        "## Literature Review and Previous Work\n",
        "\n",
        "Previous Ram Pump teams have been working towards establishing mathematical models to describe the ram pump's theoretical behavior, experimentally measuring forces within the ram pump to characterize it's actual behavior, and developing methods to calculate an ideal spring constant to optimize the ACVRP's efficiency, by comparing the experimental vs theoretical flow rate, as well as creating CAD models and modifying the experimental setup. \n",
        "\n",
        "### Procedure Changes\n",
        "The Spring 2019 team used ProCoDA to pressurize the air chamber to 6 m of head to simulate the elevation to which the ACVRP will be required to pump water to in an AguaClara plant [(Pang et. al. 2019)](https://github.com/AguaClara/ram_pump/blob/master/Spring%202019/Spring2019RamPump.pdf). This method was further developed by the Summer 2019 team by using PID controls to pump water out of the air chamber to keep the pressure constant [(Pang and Ju, 2019)](https://github.com/AguaClara/ram_pump/blob/master/Summer%202019/RamPump2019Summer.ipynb). \n",
        "\n",
        "### Design Updates\n",
        "The Summer 2019 team also modified the design of the ACVRP, effluent pipe, and air chamber. These changes were to decrease headloss, increase ease of assembly and disassembly, and to simulate an AguaClara plant as closely as possible. The CAD model of one of the iterations of the new design is shown in Figure 1 and the iterations of the air chamber including the most recent design are shown in Figure 2. The Summer 2019 CAD model can be opened [here](https://cad.onshape.com/documents/dfdca21e8bb9906c2c0e435d/w/7e1c2d3a3372bc981c94b2cc/e/18867521031d1e079821aa1a).\n",
        "\n",
        "<p align=\"center\">\n",
        "  <img src=\"https://raw.githubusercontent.com/AguaClara/ram_pump/master/Summer%202019/Images_Diagrams/rampumpcross.png\" height=600>\n",
        "</p>\n",
        "\n",
        "*Figure 1: Cross-section view of a design of the AguaClara Vertical Ram Pump from [Pang and Ju, 2019](https://github.com/AguaClara/ram_pump/blob/master/Summer%202019/RamPump2019Summer.ipynb) is shown. The team increased the diameter of the effluent pipe (labeled as exit of purified water) and included unions in the design for easy adjustments.*\n",
        "\n",
        "<p align=\"center\">\n",
        "  <img src=\"https://raw.githubusercontent.com/AguaClara/ram_pump/master/Summer%202019/Images_Diagrams/airchamberdesigns.PNG\" height=230>\n",
        "</p>\n",
        "\n",
        "*Figure 2: Iteration of new air chamber design from [Pang and Ju, 2019](https://github.com/AguaClara/ram_pump/blob/master/Summer%202019/RamPump2019Summer.ipynb). The current air chamber is shown on the right.*\n",
        "\n",
        "### Spring Constant and Forces\n",
        "The Fall 2018 team placed heavy focus on finding the ideal spring constant [(Storch and Snyder, 2018)](https://github.com/AguaClara/ram_pump/blob/master/Fall%202018/Manual.md). The team took a new approach and used the following equation to find an ideal k value: $$k=\\frac{|F_{opening}-F_{closing}|}{\\Delta x}.$$ In this equation, $F_{opening}$ is the force at which the plate opens and $F_{closing}$ is the force at which the plate closes. The team assumed $F_{opening}$ to be the hydrostatic force of the water in the drive pipe since ideally the plate would open once the water decelerated completely, allowing the plate to remain closed for the longest period of time. However, $F_{closing}$ is more complicated and can not be calculated easily. Because of this, the team decided to take an experimental approach to finding this force. The experimental setup and procedure is described in [Storch and Snyder, 2018](https://github.com/AguaClara/ram_pump/blob/master/Fall%202018/Manual.md). \n",
        "\n",
        "The Spring 2019 team built off of this work and implemented the use of $k'$ in their force balance equations. They defined $k'$ as the given spring constant $k$ in N/m divided by the original length of the spring, $L$. Using $k'$ allows the team to cut a spring to alter it's spring constant while easily accounting for this change in their equations. \n",
        "\n",
        "### Objectives\n",
        "This semester, the Ram Pump team's main focus was to redesign the experimental apparatus and the ram pump itself. With the move of the AguaClara team lab, the Ram Pump team wanted to create a lab apparatus that was integrated into the work bench to save space. The team also took this opportunity to reduce the height of the apparatus so that it was more accesible and conducive to the new ram pump design discussed below.\n",
        "\n",
        "The Ram Pump team wanted to address the difficulty of making fine adjustments to the initial compression of the spring. In the previous ACVRP design, a compression spring was housed within the check valves and this provided the force that opposed the force from the water, causing the pump to cycle. As can be seen in Figure 3, above the compression spring was a stopper nut that could be moved up or down and would cause the spring to be more or less compressed. This would then cause the spring forces to increase or decrease. However, since this stopper nut and the spring itself were within the check valve, they were very inaccessible and any adjustments would require the dissembly of the entire ACVRP. \n",
        "\n",
        "<img src=\"https://raw.githubusercontent.com/AguaClara/ram_pump/master/Fall%202018/Pictures/Ram%20pump%20structure.png\">\n",
        "\n",
        "*Figure 3: Internal and external structure of old ACVRP design from [Storch and Snyder](https://github.com/AguaClara/ram_pump/blob/master/Fall%202018/Manual.md).*\n",
        "\n",
        "Another issue with the old design on the ACVRP was that the spring force when the plate is open could not be adjusted independently of that when the plate is closed and vice versa. This is another issue that the team wanted to address and solve with the redesign.\n",
        "\n",
        "Ultimately, the team came up with a new design that includes three extension springs outside of the check valve at the top of the experimental apparatus that connect to the plate in the check valve by a metal rope. In an AguaClara plant, the springs would be above the filter channel. Since there is no longer a compression spring, there is also no need for two check valves so the new design only utilizes one. Additionally, the new spring system includes an adjustment mechanism that does not require the ACVRP to be disconnected or taken apart and adjustments can be made with water flowing through the ACVRP for instantaneous feedback. The spring system which is described in depth in the Experimental Apparatus section also allows for independent adjustment of the spring force for the plate open and closed positions. \n"
      ]
    },
    {
      "cell_type": "markdown",
      "metadata": {
        "id": "a7POfNmj2Gr7",
        "colab_type": "text"
      },
      "source": [
        "##Methods\n",
        "This semester, the ram pump team decided to test the pumping effectiveness of the new spring system using a measurement of induced flow rate. The team chose to set the side springs of the new design to a constant adjusted level and only variate the slack and rate of the middle spring. \n",
        "The first step was picking out a series of potential springs that had a suitable rate for the lab setup. Secondly, using the pressure created by the ram pump inside of the air chamber, pumps using PID controlled through ProCoda recorded the produced flow rate. These test intervals were then recorded to calculate an average rate of flow for the specified spring and slack combination. Adjustments were made to the amounts of slack provided until the spring system ceased to cycle. An analysis of flow rate would give the team a general idea of the pumping power produced by the model and provide more insightful perspective on the spring variables that had the largest effect. Because of the improved adjustability of the system, there was less of an incentive to find a specific spring constant that would work for every AguaClara plant and more of a focus on what were the best set of springs that could be modified to fit any plant size.   "
      ]
    },
    {
      "cell_type": "markdown",
      "metadata": {
        "id": "ToB7a10c8Ubg",
        "colab_type": "text"
      },
      "source": [
        "## Experimental Apparatus\n",
        "This semester the Ram Pump team redesigned and rebuilt the experimental apparatus in the lab. To conserve space and make the higher parts of the setup more accessible, the team created a setup that is integrated into the workbench and is not as tall as the old setup. The Experimental Apparatus consists of a Head Tank that is being held at the top of the 80/20 framing of the workbench with an 80/20 support structure. The Head Tank has two holes in the bottom that have 1\" bulkheads that have 1\" pipes coming out of them towards the work bench. They both run through the table. One is connected to the sump pump under the table and the other is connected to the ram pump under the table. Both the ram pump and sump pump are inside a waste bucket that is on the floor under the table. The head tank has another hole in the right side that also has a 1\" bulkhead that is connected to a horizontal clear pipe that is then connected to a series of elbows and pipes that have an outlet into the waste bucket. This is the overflow pipe that keeps the water level in the head tank constant therefore keeping the head constant. The horizontal pipe coming out of the head tank is clear so that the team can see from the ground when the water level has reached the overflow pipe height and can know when they have constant head for experimental purposes. \n",
        "\n",
        "Both pipes running through the table are in two portions that are connected by a union right above the table. This allows for easy assembly and disassembly of the system.\n",
        "\n",
        "The sump pump pipe has two valves in the portion above the table. One acts as an on/off valve and the other is a throttle valve. The throttle valve is meant to be adjusted at first installation and does not need to be adjusted again. \n",
        "\n",
        "The support structure also includes a frame that extend up above the head tank and has the spring system connected to it. The spring system consists of three springs inline between two plates. The springs are attached to the upper plate using eyebolts. The two outer springs are the same length and spring constant and are longer than the middle spring. The middle spring is connected to its eyebolt using string that is tied with slack in it when the check valve plate is open. All three springs are also connected to a bottom plate that has metal rope running from it to a hook in the top of the check valve plate. When the check valve plate begins to close, the slack in the string connected to the middle spring allows for the spring itself to not yet extend. Only the two outer springs are extending and exerting force on the check valve plate. Once the check valve plate has closed a distance equal to the length of slack in the string, the middle spring will begin to extend. Therefore, once the check valve plate is closed, all three springs are contributing to the force on the check valve plate. While the two outer springs do act on the plate when it is both open and closes, the team considers the two total spring forces (when the plate is open and when the plate is closed) to be independent because the spring force when the plate is closed will always need to be greater than the spring force when the plate is open. Therefore, the team can adjust the initial height and/or extension of the outter springs using the corresponding eyebolts first and then adjust the middle spring second based on the adjustment of the outter springs. \n",
        "\n",
        "Schematic diagrams of the setup can be seen below.\n",
        "\n",
        "|![front](https://raw.githubusercontent.com/AguaClara/ram_pump/master/Fall%202019/Pictures/ACRamPumpSideView1.png)  | ![side](https://raw.githubusercontent.com/AguaClara/ram_pump/master/Fall%202019/Pictures/ACRamPumpSideView1.png) |\n",
        "|:---:|:---:|\n",
        "| **Front View of Experimental Apparatus** | **Side View of Experimental Apparatus** | \n",
        "\n",
        "<center>\n",
        "\n",
        "*Figure 4: Schematic drawing of experimental apparatus*\n",
        "\n",
        "</center>\n",
        "\n",
        "\n"
      ]
    },
    {
      "cell_type": "markdown",
      "metadata": {
        "id": "14QXCacy8axM",
        "colab_type": "text"
      },
      "source": [
        "## Procedure\n",
        "The Ram Pump team ran experiments to test the affects that adjustments to the spring system had on the flowrate pumped by the ACVRP. \n",
        "\n",
        "The team utilized PID controls through ProCoDA. A pressure sensor monitered the pressure in the air chamber and a pump was set up to pump water out of the air chamber. The team set the target pressure in the air chamber to be 600 cm of water to replicate the height water will have to be pumped to in an AguaClara plant. As the ACVRP would run and pump water into the air chamber the pressure would increase. Once it reached the target pressure, the pump connected to ProCoDA would pump out enough water to keep the pressure relatively constant. This was used throughout the experiments to keep the pressure in the air chamber constant. \n",
        "\n",
        "The team wanted to run experiments to find relationships between spring adjustments and ACVRP flowrate. The team began with keeping the outter springs constant and only switching out and adjusting the middle spring. The team would record the spring being used in the experiment and measure the length of slack in the string connecting the middle spring to the eyebolt. The experiment would start with the middle eye bolt all the way down. The team marked one face of the top nut on the eyebolt and used this marker to keep track of the number of turns of the nut used for each adjustment. The team would turn on the sump pump and turn the top nut one turn at a time until the ACVRP would begin to cycle. After about a minute of cycling, the team would turn the nut one more time. The experiment continued this way until the ACVRP would no longer cycle. The team performed this experiment for three different middle springs.\n",
        "\n",
        "During the experiments, the team would record data using ProCoDA. ProCoDA records the pump control which the team later converted into flowrate. Since the pump was pumping out water of the air chamber to keep the pressure constant, the flowrate out of the air chamber is equal to the flowrate out of the ACVRP into the air chamber. These calculations are detailed in Results and Analysis.\n",
        "\n"
      ]
    },
    {
      "cell_type": "markdown",
      "metadata": {
        "id": "_Nn9zXKc-Fjq",
        "colab_type": "text"
      },
      "source": [
        "## Results and Analysis\n",
        "\n",
        "###Flow Rate Analysis\n",
        "\n",
        "As seen in table 1 and 2, both experiments of different springs with ram pump had generated an average flow rate of over 20 mL/s, and the highest flow rate obtained among the two experiements was 26.735 mL/s (Table 1). There was a significant improvement from the summer, in which the average flow rate obtained was less than 20 mL/s and the highest was 26.36 mL/s per each pumping cycle with apparatus that had more head than this semester's because of the height difference of the set up. Therefore, the new design had obtained a highest efficiency. However, since the terminal velocity and flow rate of the new set up were not measured, further experimentation was needed to quantify this result.\n",
        "\n",
        "\n",
        "Table 1: Average flow rate for each turn of Spring 94135K571\n",
        "\n",
        "|Number of turns|Average flow rate (mL/s)|\n",
        "|:------|:----------|\n",
        "|2|26.7352763|\n",
        "|3|25.2200803|\n",
        "|4|26.72164338|\n",
        "|5|25.28729522|\n",
        "|6|25.96602824|\n",
        "|7|25.39266376|\n",
        "|8|25.67461738 |\n",
        "|9|25.5870697  |\n",
        "|10|25.59585926 |\n",
        "|11|24.86455792 |\n",
        "|12|21.91547354|\n",
        "\n",
        "\n",
        "\n",
        "Table 2: Average flow rate for each turn of Spring 9065K17\n",
        "\n",
        "| Number of turns | Average flow rate (mL/s) |\n",
        "| :--- | :-------- |\n",
        "|0|22.18046695 |\n",
        "|1|23.21065887|\n",
        "|2|22.95599381|\n",
        "|3|24.15142074|\n",
        "|4|24.66579783|\n",
        "|5|24.68325603|\n",
        "|6|22.26979509|\n",
        "|7|18.81577737|\n",
        "|8|13.33902381|\n",
        "\n",
        "### Advantage of Integrated set-up\n",
        "\n",
        "In addition to the higher efficiency, the new apparatus had allowed for an easier tuning procedure. Since the spring and its constraint nut was not contained in the check valve, but instead, above the head tank, the spring force was easily accessible for tuning. This also allowed for In figure 5 and 6, a gradual change in flow rate can be observed from both springs, thus, an optimal spring force of the apparatus for highest flow rate can be found easily. This set-up allowed for a more convenient procedure for tuning the spring, since the nut that changes the compression of the spring can be accessed since it is located above the head tank.\n",
        "\n",
        "![nov23](https://raw.githubusercontent.com/AguaClara/ram_pump/master/Fall%202019/data_analysis_colab/nov23.png)\n",
        "\n",
        "\n",
        "*Figure 5: Average flow rate of Spring 94135K571 by number of turns of nut on eye bolt. The code used to create this graph can be found in the [Python Code](#python-code) section of this report*\n",
        "\n",
        "\n",
        "![nov24](https://raw.githubusercontent.com/AguaClara/ram_pump/master/Fall%202019/data_analysis_colab/nov24.png)\n",
        "\n",
        " *Figure 6: Average flow rate of Spring 9065K17 by number of turns of nut on eye bolt. The code used to create this graph can be found in the [Python Code](#python-code) section of this report*\n",
        "\n"
      ]
    },
    {
      "cell_type": "markdown",
      "metadata": {
        "id": "Me12TWjY-Iys",
        "colab_type": "text"
      },
      "source": [
        "## Conclusions\n",
        "The goal of this semester was to improve the adjustment of spring force in ram pump, so that the force to open and close the plate in ram pump can be easily adjusted in a plant, with its varied flow rate throughout the year. This semester, by changing the design of ram pump apparatus, the team had made spring force easily easily adjustable with an accesible set-up. In addition to the improvement in set-up and procedure, the team had also achieved a higher flow rate than previous semesters given the limited experimentation time. The team has also developed a standard convention and procedure of adjusting the force even with this preliminary model. Therefore, the AguaClara Vertical Ram Pump is ready for field testing in Honduras in January.\n"
      ]
    },
    {
      "cell_type": "markdown",
      "metadata": {
        "id": "uQBlaQNP-VJA",
        "colab_type": "text"
      },
      "source": [
        "## Future Work\n",
        "The ACVRP will be tested this winter (2020) in Honduras at an AguaClara plant. The team hopes to be able to use observations and results from this testing to further improve the ACVRP design.\n",
        "\n",
        "This semester, the team was only able to test the effects of changing the middle spring. However, it is clear to the team that the outer springs also have a great effect on the performance of the ACVRP and the team would like these effects to be experimented with in the future.\n",
        "\n",
        "Flow rate and terminal velocity of the new set-up should also be measured to calculate the efficiency of the new system. This would allow for a standard procedure of calculating the required spring force and types of strings given the dimensioinal constraints of the location of ram pump in the plant. However, current analysis of spring force still depends on observing the flow rate of the peristaltic pump, procedure that can allowed operators to adjust without having to connect the effluent of the pump should be developed.\n",
        "\n",
        "Finally, the Ram Pump team this semester built an early version of the new spring system. Spring force can be made to be adjusted even more easily by introducing a crank mechanism to adjust the springs independently without having to go up to the top of the head tank. Further refinement to the design to make adjustment even easier and to create an overall more beneficial system will be needed in the future. "
      ]
    },
    {
      "cell_type": "markdown",
      "metadata": {
        "id": "ZXUik5SH-YFM",
        "colab_type": "text"
      },
      "source": [
        "## Bibliography\n",
        "Logan, B. E., Hermanowicz, S. W., & Parker,A. S. (1987). A Fundamental Model for Trickling Filter Process Design. Journal (Water Pollution Control Federation), 59(12), 1029–1042."
      ]
    },
    {
      "cell_type": "markdown",
      "metadata": {
        "id": "EvBA8kN4-dty",
        "colab_type": "text"
      },
      "source": [
        "# Manual\n",
        "The goal of this section is to provide all of the guidance that would be necessary for a future team to pick up your work where you left off. Please try to be thorough and put yourselves in the shoes of a newcomer to the project. Below are some recommended sections, but the manual will likely take a slightly different form for each team."
      ]
    },
    {
      "cell_type": "markdown",
      "metadata": {
        "id": "yfoW16_iACYt",
        "colab_type": "text"
      },
      "source": [
        "## Fabrication Details\n",
        "\n",
        "<center>\n",
        "<img src=\"https://raw.githubusercontent.com/AguaClara/ram_pump/master/Fall%202019/Pictures/rampump2019fallonshapeside.png\"\">\n",
        "\n",
        "\n",
        "*Figure 7: Side view of ram pump experimental set up (CAD model)*\n",
        "\n",
        "\n",
        "**Table 3:** The current design of the ACVRP was fabricated using the following materials:\n",
        "\n",
        "| Parts   | Quantity | Description   | Source |\n",
        "|:----------- |:-------- |:------- |:-------------- |\n",
        "| Brass Check Valve    | 2  | 1\" pipe size  | Strataflo or [McMaster](https://www.mcmaster.com/7746k831)  |\n",
        "| Metal Plate            | 1        | 1\" diameter     | Part of check valve from Strataflo   |\n",
        "| Thick-Wall PVC Pipe Nipple for Water | 7        |Fully Threaded, 1 NPT, 1-1/2\" Long | [McMaster](https://www.mcmaster.com/9176k116)|\n",
        "  | Thick-Wall PVC Pipe Nipple for Water | 1        |Threaded on One End, 1 NPT, 2\" Long | [McMaster](https://www.mcmaster.com/9173k35)|\n",
        "|Thick-Wall PVC Pipe Fitting for Water, Union Connector, 1 NPT Female|  4       |      1 NPT Female                                |       [McMaster](https://www.mcmaster.com/4596k64)   |\n",
        "|PVC T-Connector |  1        | 1 NPT Female |[McMaster](https://www.mcmaster.com/4596k340)     |\n",
        "|PVC Inline Tee Reducer|1      | 3 Socket Female x 1 Socket Female                |    [McMaster](https://www.mcmaster.com/4880k583) |\n",
        " |Compact Backflow-Prevention Valve|1|1/8 NPT Female x 1/8 NPT Male|[McMaster](https://www.mcmaster.com/7768k21)|\n",
        " |Precision Flow-Adjustment Valve|1|Dark Gray PVC, 1/4 NPT Female x Male|[McMaster](https://www.mcmaster.com/7781K26)|\n",
        "  |PVC Cap|2|3 Pipe Size Socket-Connect Female|[McMaster](https://www.mcmaster.com/4880k57)|\n",
        "\n",
        "  **Table 4:** The current design of the spring system was fabricated using the following materials:\n",
        "\n",
        "| Parts   | Quantity | Description   | Source |\n",
        "|:----------- |:-------- |:------- |:-------------- |\n",
        "|Extension Spring Stock| 20\"/36\" |Extension Spring Stock (Corrosion Resistant optional) of desired rate | [McMaster](https://www.mcmaster.com/extension-springs)|\n",
        "|Routing Eyebolt with Nut| 3 | Not for Lifting, Zinc-Plated with Bent-Closed Eye, 1/4\"-20 Thread, 1\" Shank| [McMaster](https://www.mcmaster.com/9489t17)|\n",
        "|Zinc-Plated Steel Round Eye Nut| 1 | 1/4\"-20 Thread Size| [McMaster](https://www.mcmaster.com/3112t31)|\n",
        "|Galvanized Steel Eyebolt with Nut and without Shoulder| 3 | for Lifting, 1/4\"-20 Thread Size, 3\" Thread Length| [McMaster](https://www.mcmaster.com/3016T18)|\n",
        "|Coated Wire Rope - Not for Lifting| 5ft | 0.047\" Diameter, 1/16\" Diameter with Coating, Lubricated| [McMaster](https://www.mcmaster.com/8930t32)|\n",
        "|Multipurpose 6061 Aluminum| 1ft| 1/4\" Thick x 2\" Wide| [McMaster](https://www.mcmaster.com/8975k71)|\n",
        "\n",
        "Note that the multipurpose aluminum was used by the team to fabricate the top and bottom plates for the spring system being brought to Honduras. The first iteration of the new spring system was built using flat 80/20 fasteners that were in the lab. Either method may be used in the future. "
      ]
    },
    {
      "cell_type": "markdown",
      "metadata": {
        "colab_type": "text",
        "id": "zLmorJjGlmB_"
      },
      "source": [
        "## Experimental Methods"
      ]
    },
    {
      "cell_type": "markdown",
      "metadata": {
        "colab_type": "text",
        "id": "gnjLvw-elkz7"
      },
      "source": [
        "Experimental method was kept the same as previous semester, which can be referenced from [here](https://github.com/AguaClara/ram_pump/blob/master/Summer%202019/RamPump2019Summer.ipynb)."
      ]
    },
    {
      "cell_type": "markdown",
      "metadata": {
        "id": "BiTsuHFrGAm5",
        "colab_type": "text"
      },
      "source": [
        "## ProCoDA Method File\n",
        "\n",
        "ProCoDA method file was kept the same as previous semester, which can be referenced from [here](https://github.com/AguaClara/ram_pump/blob/master/Summer%202019/RamPump2019Summer.ipynb)."
      ]
    },
    {
      "cell_type": "markdown",
      "metadata": {
        "id": "LaELphDxGIE-",
        "colab_type": "text"
      },
      "source": [
        "## Python Code\n",
        "\n",
        "The flow rate of water pumped by ram pump was calculated. An analysis of two experiments was done with [Spring 94135K571](https://github.com/AguaClara/ram_pump/blob/master/Fall%202019/data_analysis_colab/flow_analysis_total_now23.ipynb) and [Spring 9065K17](https://github.com/AguaClara/ram_pump/blob/master/Fall%202019/data_analysis_colab/flow_analysis_total_nov24.ipynb). Sample code is also presented below."
      ]
    },
    {
      "cell_type": "markdown",
      "metadata": {
        "id": "uNiQXErgGRg7",
        "colab_type": "text"
      },
      "source": [
        "### Analysis for Spring 9065K17\n",
        "\n",
        "Below is the code used to analyze pressure and pump rate collected using ProCoDA to obtain flow rate of ram pump at each turn on the eye bolt.\n"
      ]
    },
    {
      "cell_type": "code",
      "metadata": {
        "id": "Cq2qbVl1GpO3",
        "colab_type": "code",
        "colab": {}
      },
      "source": [
        "!pip install aguaclara"
      ],
      "execution_count": 0,
      "outputs": []
    },
    {
      "cell_type": "code",
      "metadata": {
        "id": "ws0Muc78n2fT",
        "colab_type": "code",
        "colab": {}
      },
      "source": [
        "import aguaclara.research.procoda_parser as pp\n",
        "import matplotlib.pyplot as plt\n",
        "import numpy as np\n",
        "import aguaclara.core.constants as c\n",
        "import aguaclara.core.physchem as pc\n",
        "import pandas as pd\n",
        "from aguaclara.research.peristaltic_pump import vol_per_rev_LS\n",
        "from aguaclara.core.units import unit_registry as u\n",
        "from scipy import integrate\n",
        "from aguaclara.research.peristaltic_pump import flow_rate\n",
        "from aguaclara.core.units import u\n",
        "import aguaclara as ac\n",
        "from scipy import integrate"
      ],
      "execution_count": 0,
      "outputs": []
    },
    {
      "cell_type": "code",
      "metadata": {
        "id": "kE0hEmIoXFn-",
        "colab_type": "code",
        "colab": {}
      },
      "source": [
        "nov24 = 'https://raw.githubusercontent.com/AguaClara/ram_pump/master/Fall%202019/datalog/nov24.tsv'\n",
        "note = pp.notes(nov24)"
      ],
      "execution_count": 0,
      "outputs": []
    },
    {
      "cell_type": "code",
      "metadata": {
        "id": "LvD0iyXn9OB7",
        "colab_type": "code",
        "colab": {}
      },
      "source": [
        "first_row = np.array([]);\n",
        "first_row = note.iloc[:,0].index.tolist()\n",
        "start = np.array([])\n",
        "end = np.array([])\n",
        "num_turn = 0; #starting number of turns\n",
        "turn = np.array([])\n",
        "for i in range(0,len(first_row)-1,2):\n",
        "  start = np.append(start,first_row[i])\n",
        "  end = np.append(end,first_row[i+1])\n",
        "  turn = np.append(turn,num_turn)\n",
        "  num_turn = num_turn+1\n",
        "a = np.empty(len(start));\n",
        "a.fill(100);\n",
        "start = np.add(start,a)\n",
        "end = np.subtract(end,a)\n",
        "start = np.array(start, dtype='int')\n",
        "end = np.array(end, dtype='int')\n"
      ],
      "execution_count": 0,
      "outputs": []
    },
    {
      "cell_type": "code",
      "metadata": {
        "id": "DW572thD9R-R",
        "colab_type": "code",
        "colab": {}
      },
      "source": [
        "#figure out if theres a way to put start end index in an array\n",
        "#check procoda parser documentation\n",
        "flow_tot = np.array([])\n",
        "rate_tot = np.array([])\n",
        "dur_tot = np.array([])\n",
        "for j in range (0,len(start)):\n",
        "  time = (pp.column_of_time(nov24,start[j],end[j])).to(u.s)\n",
        "  airchamber = -pp.column_of_data(nov24, start[j], 2, end[j], 'cm')\n",
        "  pump = pp.column_of_data(nov24, start[j], 4, end[j], 'rpm')\n",
        "  rate = np.array([])\n",
        "  deltatime = time[len(time)-1]-time[0];\n",
        "  #for loop or vector calc\n",
        "  for k in range(0,len(time)-1):\n",
        "    rate = np.append(rate, ac.flow_rate(ac.vol_per_rev_LS(17),pump[k]*2*600))\n",
        "  rate_avg =   np.average(rate)\n",
        "  flow = integrate.simps(rate, x=None, dx=deltatime, axis=-1, even='avg')\n",
        "  flow_tot = np.append(flow_tot,flow)\n",
        "  rate_tot = np.append(rate_tot,rate_avg)\n",
        "  dur_tot = np.append(dur_tot, deltatime)\n",
        "\n"
      ],
      "execution_count": 0,
      "outputs": []
    },
    {
      "cell_type": "code",
      "metadata": {
        "id": "qAJX8qW_KG3Y",
        "colab_type": "code",
        "outputId": "82179e92-266b-407e-aaff-9e89599b4f48",
        "colab": {
          "base_uri": "https://localhost:8080/",
          "height": 167
        }
      },
      "source": [
        "turn = np.array(turn, dtype='int')\n",
        "dur_tot = dur_tot\n",
        "flow_tot = flow_tot\n",
        "rate_tot = rate_tot\n",
        "for m in range(0, len(dur_tot)):\n",
        "  total = \"After {} turn, the total flow is {} in {}, and the average flow rate is {}.\"\n",
        "  print(total.format(turn[m], flow_tot[m], dur_tot[m], rate_tot[m]))"
      ],
      "execution_count": 0,
      "outputs": [
        {
          "output_type": "stream",
          "text": [
            "After 0 turn, the total flow is 36547972.6595244 in 99.45995615999088, and the average flow rate is 22.18046695119251.\n",
            "After 1 turn, the total flow is 18369669.23918104 in 68.95194336000579, and the average flow rate is 23.210658870221238.\n",
            "After 2 turn, the total flow is 14795635.358769702 in 62.21876544000331, and the average flow rate is 22.95599380949892.\n",
            "After 3 turn, the total flow is 19401727.796720482 in 69.54050016001254, and the average flow rate is 24.151420740066545.\n",
            "After 4 turn, the total flow is 18954478.570007328 in 67.95045504000079, and the average flow rate is 24.66579782651756.\n",
            "After 5 turn, the total flow is 17098915.655591723 in 64.56610656000734, and the average flow rate is 24.68325602557405.\n",
            "After 6 turn, the total flow is 22278324.06171412 in 77.50142207999708, and the average flow rate is 22.269795092895126.\n",
            "After 7 turn, the total flow is 15751157.798212413 in 70.87811904000176, and the average flow rate is 18.815777366207517.\n",
            "After 8 turn, the total flow is 10445086.30140396 in 68.60307743999421, and the average flow rate is 13.33902380935905.\n"
          ],
          "name": "stdout"
        }
      ]
    },
    {
      "cell_type": "code",
      "metadata": {
        "colab_type": "code",
        "id": "T65V7X34ON0H",
        "outputId": "c6b482f0-46d8-4f73-97ab-5d52b5941209",
        "colab": {
          "base_uri": "https://localhost:8080/",
          "height": 439
        }
      },
      "source": [
        "print(rate_tot)\n",
        "plt.figure(figsize=(12,6))\n",
        "plt.plot(turn,rate_tot, '-')\n",
        "plt.title('Flow Rate of Spring 9065K17 by turn', fontsize=16)\n",
        "plt.xlabel('Number of Turns')\n",
        "plt.ylabel('Flow Rate (mL/s)')\n",
        "plt.show()"
      ],
      "execution_count": 0,
      "outputs": [
        {
          "output_type": "stream",
          "text": [
            "[22.18046695 23.21065887 22.95599381 24.15142074 24.66579783 24.68325603\n",
            " 22.26979509 18.81577737 13.33902381]\n"
          ],
          "name": "stdout"
        },
        {
          "output_type": "display_data",
          "data": {
            "image/png": "[encoded data removed]",
            "text/plain": [
              "<Figure size 864x432 with 1 Axes>"
            ]
          },
          "metadata": {
            "tags": []
          }
        }
      ]
    }
  ]
}