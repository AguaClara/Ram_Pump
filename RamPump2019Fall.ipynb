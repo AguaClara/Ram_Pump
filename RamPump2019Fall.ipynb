{
  "nbformat": 4,
  "nbformat_minor": 0,
  "metadata": {
    "colab": {
      "name": "RamPump2019Fall.ipynb",
      "provenance": [],
      "collapsed_sections": [],
      "toc_visible": true,
      "include_colab_link": true
    },
    "kernelspec": {
      "name": "python3",
      "display_name": "Python 3"
    }
  },
  "cells": [
    {
      "cell_type": "markdown",
      "metadata": {
        "id": "view-in-github",
        "colab_type": "text"
      },
      "source": [
        "<a href=\"https://colab.research.google.com/github/AguaClara/ram_pump/blob/master/RamPump2019Fall.ipynb\" target=\"_parent\"><img src=\"https://colab.research.google.com/assets/colab-badge.svg\" alt=\"Open In Colab\"/></a>"
      ]
    },
    {
      "cell_type": "markdown",
      "metadata": {
        "id": "awle31N5ykbr",
        "colab_type": "text"
      },
      "source": [
        "# Ram Pump, Fall 2019\n",
        "#### Ching Pang, Alycia Storch, Payton Hunter\n",
        "#### 10/4/2019\n"
      ]
    },
    {
      "cell_type": "markdown",
      "metadata": {
        "id": "lGzNCdLa1f38",
        "colab_type": "text"
      },
      "source": [
        "##Abstract\n",
        "\n",
        "Previous Ram Pump teams have created mathematical models describing velocities, forces, flow rates, headlosses, etc. in the AguaClara Vertical Ram Pump (ACVRP); performed experiments to learn more about what actually happens in the system; and have made redesigns to the setup and ACVRP itself to further improve its efficiency, likeliness to an AguaClara plant, and to increase the ease of assembly and adjustment. This semester the team plans to fabricate a new lab setup, to implement a redesign of the ACVRP, and to further explore ways to improve its efficiency. The team has decided on a new design and created a materials list for the new parts needed and is currently updated the CAD model to reflect the changes. The team plans to construct the new lab setup and ACVRP design and then to perform experiments as well as improve theoretical equations to further optimize the ACVRP.\n"
      ]
    },
    {
      "cell_type": "markdown",
      "metadata": {
        "id": "TpShT1NO1jsq",
        "colab_type": "text"
      },
      "source": [
        "## Introduction\n",
        "\n",
        "The purpose of a hydraulic ram pump is to pump water from a lower elevation to a higher elevation using the kinetic energy of the falling water to drive the water upward [(bin Mohammad Ali, 2011)](https://www.scribd.com/doc/76535229/Hydraulic-Ramp-Pump-Hydram). An AguaClara plant's flow is driven solely by gravity, and all treated water exits the treatment process at the lowest point of the plant. In order to fill chemical stock tanks, located at the top, currently, many of the plant operators must manually fill buckets of treated water at the bottom of the plant and transport them to the most elevated section of the plant. The current elevation between where the ram pump is installed to the surface of the filtered water channel is approximately 2 meters, and the elevation from the surface to the top of the chemical stock tank is approximately 4 meters. The AguaClara Vertical Ram Pump (ACVRP) needs to be able to pump water to a minimum of 6 meters of head. This solves the issue of treated water needing to be manually transported up to the chemical stock tanks, and does so without the use of electricity [(Martinez et. al, 2016)](https://drive.google.com/file/d/1MweG0bsgG2-wM_mkK_DgwULPSPK1G7iB/view).\n",
        "\n",
        "The ACVRP is an innovation that would improve upon the conventional ram pump design by making installation easier and most cost-efficient for plant operators. Ram pumps used in previous AguaClara plants required an additional collection tank for water discharged from the ram pump in order to return expelled water to the distribution tank. The collection tank added capital cost to the plant and was difficult to incorporate into the pipe system of the basements of these plants. \n",
        "\n",
        "The ACVRP is an inline ram pump that eliminates the need for an additional collection tank and would be easily installed into new plants, as well as, previously built AguaClara plants. The design allows for easy fabrication and repair, and encourages communities to advance in their development of sustainable practices.\n",
        "\n",
        "The updated design stations the adjustable parts of the mechanical ram pump closer to the more accessible areas of the plant. Instead of having the inline pump solely at the bottom of the plant, the entire mechanism will span from the bottom of the plant to the end of the water treatment process. This will spare workers the time and effort of traveling to the bottom of the plant, where there may not be lighting or optimal conditions to work in, and instead allow for any small adjustments of the pump to be made easier. One of the challenges this semester will be determining how to operate the ram pump through the drive pipe. It may be difficult to make precise calculations on how material going through the pipe may affect the water's velocity or how much force is transmitted to the bottom plate of the ram pump.\n",
        "\n"
      ]
    },
    {
      "cell_type": "markdown",
      "metadata": {
        "id": "4gfgHIlZ2Evd",
        "colab_type": "text"
      },
      "source": [
        "## Literature Review and Previous Work\n",
        "\n",
        "Previous Ram Pump teams have been working towards establishing mathematical models to describe the ram pump's theoretical behavior, experimentally measuring forces within the ram pump to characterize it's actual behavior, and developing methods to calculate an ideal spring constant to optimize the ACVRP's efficiency as well as creating CAD models and modifying the experimental setup. \n",
        "\n",
        "### Procedure Changes\n",
        "The Spring 2019 team used ProCoDA to pressurize the air chamber to 6 m of head to simulate the elevation to which the ACVRP will be required to pump water to in an AguaClara plant [(Pang et. al. 2019)](https://github.com/AguaClara/ram_pump/blob/master/Spring%202019/Spring2019RamPump.pdf). This method was further developed by the Summer 2019 team by using PID controls to pump water out of the air chamber to keep the pressure constant [(Pang and Ju, 2019)](https://github.com/AguaClara/ram_pump/blob/master/Summer%202019/RamPump2019Summer.ipynb). \n",
        "\n",
        "### Design Updates\n",
        "The Summer 2019 team also modified the design of the ACVRP, effluent pipe, and air chamber. These changes were to decrease headloss, increase ease of assembly and disassembly, and to simulate an AguaClara plant as closely as possible. The CAD model of one of the iterations of the new design is shown in Figure 1 and the iterations of the air chamber including the most recent design are shown in Figure 2.\n",
        "\n",
        "<p align=\"center\">\n",
        "  <img src=\"https://raw.githubusercontent.com/AguaClara/ram_pump/master/Summer%202019/Images_Diagrams/rampumpcross.png\" height=600>\n",
        "</p>\n",
        "\n",
        "*Figure 1: Cross-section view of a design of the AguaClara Vertical Ram Pump from [Pang and Ju, 2019](https://github.com/AguaClara/ram_pump/blob/master/Summer%202019/RamPump2019Summer.ipynb) is shown. The team increased the diameter of the effluent pipe and included unions in the design for easy adjustments.*\n",
        "\n",
        "\n",
        "<p align=\"center\">\n",
        "  <img src=\"https://raw.githubusercontent.com/AguaClara/ram_pump/master/Summer%202019/Images_Diagrams/airchamberdesigns.PNG\" height=230>\n",
        "</p>\n",
        "\n",
        "*Figure 2: Iteration of new air chamber design from [Pang and Ju, 2019](https://github.com/AguaClara/ram_pump/blob/master/Summer%202019/RamPump2019Summer.ipynb). The current air chamber is shown on the right.*\n",
        "\n",
        "### Spring Constant and Forces\n",
        "The Fall 2018 team placed heavy focus on finding the ideal spring constant [(Storch and Snyder, 2018)](https://github.com/AguaClara/ram_pump/blob/master/Fall%202018/Manual.md). The team took a new approach and used the following equation to find an ideal k value: $$k=\\frac{|F_{opening}-F_{closing}|}{\\Delta x}.$$ In this equation, $F_{opening}$ is the force at which the plate opens and $F_{closing}$ is the force at which the plate closes. The team assumed $F_{opening}$ to be the hydrostatic force of the water in the drive pipe since ideally the plate would open once the water decelerated completely, allowing the plate to remain closed for the longest period of time. However, $F_{closing}$ is more complicated and can not be calculated easily. Because of this, the team decided to take an experimental approach to finding this force. The experimental setup and procedure is described in [Storch and Snyder, 2018](https://github.com/AguaClara/ram_pump/blob/master/Fall%202018/Manual.md). \n",
        "\n",
        "The Spring 2019 team built off of this work and implemented the use of $k'$ in their force balance equations. They defined $k'$ as the given spring constant $k$ in N/m divided by the original length of the spring, $L$. Using $k'$ allows the team to cut a spring to alter it's spring constant while easily accounting for this change in their equations. \n",
        "\n",
        "### Objectives\n",
        "This semester, the Ram Pump team aims to redesign the lab setup to be incorporated into the work bench in order to accomodate the relocation of the lab. Because of this, the height of the overhead bucket and a few pipe sizes are going to change. Additionally, the team is planning on redesigning the Ram Pump to only consist of one check valve whose plat is connected to an extension spring above the overhead bucket. While these changes mean much of the data from previous semesters is no longer applicable to the future setup and design, many of the experiments, code, and insights can still be used and will continue to be useful. "
      ]
    },
    {
      "cell_type": "markdown",
      "metadata": {
        "id": "a7POfNmj2Gr7",
        "colab_type": "text"
      },
      "source": [
        "##Methods\n",
        "Explain the techniques you have used to acquire additional data and insights. Reserve fine detail for the Manual at the end of the report, but use this section to give an overview with enough detail for the reader to understand your Results and Analysis. Be especially careful to detail the conditions your experiments were conducted under, as this information is especially important for interpreting your results.\n",
        "\n",
        "Below, some example sections are given. Sectioning the report is meant to keep similar information together.  Continue making sections as necessary, or delete sections if you do not need them. Feel free to add subsubsections to further delineate the information. For example, under the Experimental Apparatus section below, the EStaRS team might consider having sections such as \"Filter Design\" and \"Filter Fabrication\"."
      ]
    },
    {
      "cell_type": "markdown",
      "metadata": {
        "id": "ToB7a10c8Ubg",
        "colab_type": "text"
      },
      "source": [
        "## Experimental Apparatus\n",
        "Describe your apparatus and justify every decision you made and every parameter you chose in its design. Explain your apparatus setup using enough detail such that future teams can recreate it.\n",
        "\n",
        "Make sure to include:\n",
        "\n",
        "* Design calculations\n",
        "  * Use [LaTeX](https://www.overleaf.com/learn/latex/Mathematical_expressions) to format mathematical equations. LaTeX equations can be written in-line ($x=\\frac{-b\\pm\\sqrt{b^2-4ac}}{2a}$) or as equation elements:\n",
        "\n",
        "  \\[x=\\frac{-b\\pm\\sqrt{b^2-4ac}}{2a}\\]  \n",
        "\n",
        " * Schematic drawing\n",
        "   * Clearly labeled components, flow paths, sensors, and reactor geometry.\n",
        "\n",
        "  <center>\n",
        "    <img src=\"/Images/Example Schematic.png\" height=300>\n",
        "  </center>\n",
        "\n",
        "  <center>\n",
        "    Figure 1. Above is an example schematic drawing of the Summer 2018 High Rate Sedimentation apparatus. It is labeled with components, flow paths, sensors, and reactor geometry.\n",
        "  </center>\n",
        "\n",
        "* Labeled images\n",
        "\n",
        "\n",
        "  <center>\n",
        "    <img src=\"/Images/Example Lab Image.JPG\" height=300>\n",
        "  </center>\n",
        "  <center>\n",
        "    Figure 2. Above is an example image of the Summer 2018 High Rate Sedimentation apparatus. All photos should be clearly labeled and captioned.\n",
        "  </center>\n",
        "\n",
        "  | Label | Component             | Label | Component             |\n",
        "  |:-----:|:--------------------- |:-----:|:--------------------- |\n",
        "  |   1   | Water Pump            |   8   | Effluent Turbidimeter |\n",
        "  |   2   | Clay Pump             |   9   | Pressure Attenuator   |\n",
        "  |   3   | Coagulant Pump        |  10   | Coagulant Stock       |\n",
        "  |   4   | Waste Pump            |  11   | Clay Stock            |\n",
        "  |   5   | Flocculator           |  12   | Sedimentation Tank    |\n",
        "  |   6   | Pressure Sensor       |  13   | Waste Tube            |\n",
        "  |   7   | Influent Turbidimeter |       |                       |"
      ]
    },
    {
      "cell_type": "markdown",
      "metadata": {
        "id": "14QXCacy8axM",
        "colab_type": "text"
      },
      "source": [
        "## Procedure\n",
        "Discuss your experimental procedure. How did you run your experiment? What were you testing? What were the values of relevant parameters?"
      ]
    },
    {
      "cell_type": "markdown",
      "metadata": {
        "id": "_Nn9zXKc-Fjq",
        "colab_type": "text"
      },
      "source": [
        "## Results and Analysis\n",
        "Present an observation (results), then explain what happened (analysis).  Each paragraph should focus on one aspect of your results and interpret that result. In other words, there should not be two distinct paragraphs, but one paragraph containing one result and the interpretation and analysis of this result. Here are some guiding questions for results and analysis:\n",
        "\n",
        "When describing your results, present your data, using the guidelines below:\n",
        "* What happened? What did you find?\n",
        "* Show your experimental data in a professional way (see [Figure Requirements](#figure-requirements)).\n",
        "\n",
        "After describing a particular result, within a paragraph, go on to connect your work to fundamental physics, chemistry, statics, fluid mechanics, or whatever field is appropriate. Analyze your results and compare with theoretical expectations; or, if you have not yet done the experiments, describe your expectations based on established knowledge.\n",
        "* Why did you get those results/data?\n",
        "* Did these results line up with expectations?\n",
        "* What went wrong?\n",
        "* If the data do not support your hypothesis, is there another hypothesis that describes your new data?\n",
        "\n",
        "Include implications of your results. How will your results influence the design of AguaClara plants? If possible provide clear recommendations for design changes that should be adopted.\n",
        "\n",
        "### Figure requirements\n",
        "The [Data Analysis&#46;md](https://github.com/AguaClara/team_resources/blob/master/Example%20Code/Data%20Analysis.md) document in the Example Code folder of the [Team Resources](https://github.com/AguaClara/team_resources) repository has examples for graphing data in Python. In these examples, many of the requirement below have already been met, so we recommend you understand and use them.\n",
        "\n",
        "Basics\n",
        " - Create the graph using Python and the [Matplotlib](https://matplotlib.org/api/_as_gen/matplotlib.pyplot.html) package.\n",
        "- Place a caption with a brief description below the graph. Add this caption using the wiki formatting, not in your graphing software.\n",
        "- Insert the graph in your report after the first paragraph with a reference to it.\n",
        "\n",
        "Appearance\n",
        "- Use a white background.\n",
        "- Use the same font in the graphs as you use in the text of the report.\n",
        "- Scale the size of the graph so it is large enough to see the data and read the text without having to follow a link to see a larger image. Avoid using hyperlinks on images, because an export to Microsoft Word will not include the image.\n",
        "\n",
        " Axes\n",
        " - Data with x and y values should be presented using an xy scatter plot.\n",
        " - Label all axes and include units.\n",
        " - Axis scale labels should be in the margin of the graph, not inside the graph border.\n",
        " - If the x-axis is time, then make time zero the beginning of the test.\n",
        " - Eliminate ranges of the x and y axes that are not used or meaningful.\n",
        "\n",
        "Data Representation\n",
        " - Use data symbols, not a line, to show discrete data points.\n",
        " - However, if there is so much data that the symbols overlap, it is better to connect the data points with a line and not show the data symbols.\n",
        "\n",
        "Multiple Plots\n",
        " - When presenting multiple plots on a single graph make sure that it is easy to distinguish the plots using the legend.\n",
        "\n",
        "Curve Fitting\n",
        " - If curve fitting is used, explain why and include the equation elsewhere in the report.\n",
        " - The model or theoretical curve should be a smooth curve without data points.\n",
        "\n",
        "Below is a graph created by example code in the [Data Analysis&#46;md](https://github.com/AguaClara/team_resources/blob/master/Example%20Code/Data%20Analysis.md) document referenced in the beginning of this section. **Note that the code is included and linked at the bottom of this report. Make any code you use for data analysis is provided this way too.**\n",
        "\n",
        "\n",
        " <center>\n",
        "   <img src=\"/Images/Turbidity.png\">\n",
        " </center>\n",
        "\n",
        "\n",
        " Figure 3. Descriptive captions are very important for figures. Rather than including a title above your figure, write a caption below. The code used to create this graph can be found in the [Python Code](#python-code) section of this report.\n",
        "\n"
      ]
    },
    {
      "cell_type": "markdown",
      "metadata": {
        "id": "Me12TWjY-Iys",
        "colab_type": "text"
      },
      "source": [
        "## Conclusions\n",
        "Explain what you have learned and how that influences your next steps. Why does what you discovered matter to AguaClara?\n",
        "\n",
        "Make sure that you have defended your conclusions with facts and results."
      ]
    },
    {
      "cell_type": "markdown",
      "metadata": {
        "id": "uQBlaQNP-VJA",
        "colab_type": "text"
      },
      "source": [
        "## Future Work\n",
        "Describe your plan of action for the next several weeks of research. Detail the next steps for this team. How can AguaClara use what you discovered for future projects? Your suggestions for challenges for future teams are most welcome. Should research in this area continue?"
      ]
    },
    {
      "cell_type": "markdown",
      "metadata": {
        "id": "ZXUik5SH-YFM",
        "colab_type": "text"
      },
      "source": [
        "## Bibliography\n",
        "Logan, B. E., Hermanowicz, S. W., & Parker,A. S. (1987). A Fundamental Model for Trickling Filter Process Design. Journal (Water Pollution Control Federation), 59(12), 1029–1042."
      ]
    },
    {
      "cell_type": "markdown",
      "metadata": {
        "id": "EvBA8kN4-dty",
        "colab_type": "text"
      },
      "source": [
        "# Manual\n",
        "The goal of this section is to provide all of the guidance that would be necessary for a future team to pick up your work where you left off. Please try to be thorough and put yourselves in the shoes of a newcomer to the project. Below are some recommended sections, but the manual will likely take a slightly different form for each team."
      ]
    },
    {
      "cell_type": "markdown",
      "metadata": {
        "id": "yfoW16_iACYt",
        "colab_type": "text"
      },
      "source": [
        "## Fabrication Details\n",
        "Include any information related to the fabrication of equipment, technologies, or experimental apparatuses, such as\n",
        "\n",
        "* materials, with dimensions\n",
        "* fabrication methods and the purpose of each step\n",
        "* complications and constraints in construction\n",
        "* revisions made to a previous design, with a reference to the report where the design is described\n",
        "* appropriate safety precautions"
      ]
    },
    {
      "cell_type": "markdown",
      "metadata": {
        "id": "sTvHso03AGO_",
        "colab_type": "text"
      },
      "source": [
        "## Special Components\n",
        "If your subteam uses a particular part that is unique and you could foresee a future subteam needing to order it or learn more about it, please include basic information such as its vendor, its catalog/item number, and a link to any documentation."
      ]
    },
    {
      "cell_type": "markdown",
      "metadata": {
        "id": "loq2DmszAKf2",
        "colab_type": "text"
      },
      "source": [
        "## Experimental Methods"
      ]
    },
    {
      "cell_type": "markdown",
      "metadata": {
        "id": "Om0b4RKxAVoS",
        "colab_type": "text"
      },
      "source": [
        "### Set-up\n",
        "Step 1.\n",
        "* Put tasks in a sequential order.\n",
        "* It is okay to have sub-lists.\n",
        "  - Like this."
      ]
    },
    {
      "cell_type": "markdown",
      "metadata": {
        "id": "GOe3xI0qAdfk",
        "colab_type": "text"
      },
      "source": [
        "### Experiment\n",
        "Step 1."
      ]
    },
    {
      "cell_type": "markdown",
      "metadata": {
        "id": "cv06b20oAj1G",
        "colab_type": "text"
      },
      "source": [
        "### Cleaning Procedure\n",
        "Step 1."
      ]
    },
    {
      "cell_type": "markdown",
      "metadata": {
        "id": "CXrgSYivAoEr",
        "colab_type": "text"
      },
      "source": [
        "## Experimental Checklist\n",
        "Another potential section could include a list of things that you need to check before running an experiment.\n"
      ]
    },
    {
      "cell_type": "markdown",
      "metadata": {
        "id": "BiTsuHFrGAm5",
        "colab_type": "text"
      },
      "source": [
        "## ProCoDA Method File\n",
        "\n",
        "**Upload your ProCoDA method file to your Github repository and provide a [link]() it in your report.**\n",
        "\n",
        "Use the rest of this section to explain your method file. Your explanation can be broken up into several components as shown below:\n"
      ]
    },
    {
      "cell_type": "markdown",
      "metadata": {
        "id": "CnTgFhHEGE_f",
        "colab_type": "text"
      },
      "source": [
        "### States\n",
        "Here, you should describe the function of each state in your method file, both in terms of its overall purpose and also in terms of the details that make it distinct from other states. For example:\n",
        "\n",
        " - **OFF**: Resting state of ProCoDA. All sensors, relays, and pumps are turned off.\n"
      ]
    },
    {
      "cell_type": "markdown",
      "metadata": {
        "id": "Ks6ALZO2GH_E",
        "colab_type": "text"
      },
      "source": [
        "### Set Points\n",
        "Here, you should list the set points used in your method file and explain their use as well as how each was calculated.\n"
      ]
    },
    {
      "cell_type": "markdown",
      "metadata": {
        "id": "LaELphDxGIE-",
        "colab_type": "text"
      },
      "source": [
        "## Python Code\n",
        "\n",
        "In this section, provide any code that was a significant part of your research, including in making theoretical calculations, determining parameters for your apparatus and your experiment, or analyzing your data.\n",
        "\n",
        "If your code is repetitive (e.g. similar code for creating different graphs) or too long, you may instead provide a [link to a file](https://github.com/AguaClara/team_resources/blob/master/Example%20Code/Data%20Analysis.md) with your code that has been *uploaded to your repository*."
      ]
    },
    {
      "cell_type": "markdown",
      "metadata": {
        "id": "uNiQXErgGRg7",
        "colab_type": "text"
      },
      "source": [
        "### Code for Figure 3\n",
        "\n",
        "Provide a brief description of your code, for example:\n",
        "\n",
        "Below is the code used to create the influent and effluent turbidity graph in Figure 3, using the `aguaclara.research.procoda_parser` module to read the turbidity data from a ProCoDA data file.\n",
        "\n",
        "**Note: your code should be able to run as is in this report. That means any files you reference should have the correct directories/paths, so that anybody who downloads your repository can run the code in your report and find the same results.** For example, the code below references a ProCoDA data file in the Data folder of this repository. If that file is not present or moved to a different folder, this code will result in an error.\n",
        "\n"
      ]
    },
    {
      "cell_type": "code",
      "metadata": {
        "id": "Cq2qbVl1GpO3",
        "colab_type": "code",
        "colab": {}
      },
      "source": [
        "!pip install aguaclara"
      ],
      "execution_count": 0,
      "outputs": []
    },
    {
      "cell_type": "code",
      "metadata": {
        "id": "eEpWjBkIGjOa",
        "colab_type": "code",
        "colab": {}
      },
      "source": [
        "import aguaclara.research.procoda_parser as pp\n",
        "import matplotlib.pyplot as plt\n",
        "import numpy as np\n",
        "\n",
        "# read time, influent turbidity, and effluent turbidity columns from\n",
        "# ProCoDA data file from 6-14-2018 as NumPy arrays\n",
        "time, influent_turbidity, effluent_turbidity = pp.get_data_by_time(\n",
        "      path=\"Data\", columns=[0, 3, 4], start_date=\"6-14-2018\",\n",
        "      start_time=\"15:40\", end_time=\"23:30\")\n",
        "elapsed_time = (np.array(time)-time[0])*24\n",
        "\n",
        "# set up multiple subplots\n",
        "fig, ax1 = plt.subplots()\n",
        "# make the first subplot (Effluent Turbidity vs Time)\n",
        "ax1.set_xlabel(\"Time (hours)\")\n",
        "ax1.set_ylabel(\"Effluent Turbidity (NTU)\")\n",
        "line1, = ax1.plot(elapsed_time, effluent_turbidity, color=\"blue\")\n",
        "\n",
        "# set the x-axis of the second subplot equal to the first's\n",
        "ax2 = ax1.twinx()\n",
        "# make the second subplot (Influent Turbidity vs Time)\n",
        "ax2.set_ylabel(\"Influent Turbidity (NTU)\")\n",
        "# adjust the y-axis\n",
        "ax2.set_ylim(60,120)\n",
        "line2, = ax2.plot(elapsed_time, influent_turbidity, color=\"green\")\n",
        "\n",
        "plt.legend((line1, line2), (\"Effluent\", \"Influent\"))"
      ],
      "execution_count": 0,
      "outputs": []
    },
    {
      "cell_type": "markdown",
      "metadata": {
        "id": "2vIiWASQGvuA",
        "colab_type": "text"
      },
      "source": [
        "### Code for Experimental Design\n",
        "\n",
        "Make sure variables in your code, as well as anything that might not be easily understood by a newcomer, is well commented. Also include the outputs of your code, if applicable and not given earlier in the report.\n"
      ]
    },
    {
      "cell_type": "code",
      "metadata": {
        "id": "cVnPr9RyG7lf",
        "colab_type": "code",
        "colab": {}
      },
      "source": [
        "import aguaclara.research.peristaltic_pump as pp\n",
        "import aguaclara.research.stock_qc as stock_qc\n",
        "from aguaclara.core.units import unit_registry as u\n",
        "\n",
        "# volume per revolution flowing from the pump for PACl (coagulant) stock\n",
        "vol_per_rev_PACl = pp.vol_per_rev_3_stop(\"yellow-blue\")\n",
        "# revolutions per minute of PACl stock pump\n",
        "rpm_PACl = 3 * u.rev/u.min\n",
        "# flow rate from the PACl stock pump\n",
        "Q_PACl = pp.flow_rate(vol_per_rev_PACl, rpm_PACl)\n",
        "\n",
        "\n",
        "# desired system flow rate\n",
        "Q_sys = 2 * u.mL/u.s\n",
        "# desired system concentration of PACl\n",
        "C_sys = 1.4 * u.mg/u.L\n",
        "# a variable representing the reactor and its parameters\n",
        "reactor = stock_qc.Variable_C_Stock(Q_sys, C_sys, Q_PACl)\n",
        "\n",
        "\n",
        "# required concentration of PACl stock\n",
        "C_stock_PACl = reactor.C_stock()\n",
        "# concentration of purchased PACl super stock in lab\n",
        "C_super_PACl = 70.28 * u.g/u.L\n",
        "# dilution factor of PACl super stock necessary to achieve PACl stock\n",
        "# concentration (in L of super stock per L water)\n",
        "dilution = reactor.dilution_factor(C_super_PACl)\n",
        "mL_per_L = dilution * 1000\n",
        "\n",
        "print(\"A reactor with a system flow rate of\", Q_sys, \",\")\n",
        "print(\"a system PACl concentration of\", C_sys, \",\")\n",
        "print(\"and a PACl stock flow rate of\", Q_PACl)\n",
        "print(\"will require a dilution factor of\", round(mL_per_L.magnitude, 3),\n",
        "  \"milliliters of PACl super\")\n",
        "print(\"stock per liter of water for the PACl stock.\")"
      ],
      "execution_count": 0,
      "outputs": []
    }
  ]
}