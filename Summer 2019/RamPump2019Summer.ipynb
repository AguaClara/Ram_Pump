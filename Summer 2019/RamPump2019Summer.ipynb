{
  "nbformat": 4,
  "nbformat_minor": 0,
  "metadata": {
    "colab": {
      "name": "RamPump2019Summer.ipynb",
      "version": "0.3.2",
      "provenance": [],
      "collapsed_sections": [],
      "toc_visible": true,
      "include_colab_link": true
    },
    "kernelspec": {
      "name": "python3",
      "display_name": "Python 3"
    }
  },
  "cells": [
    {
      "cell_type": "markdown",
      "metadata": {
        "id": "view-in-github",
        "colab_type": "text"
      },
      "source": [
        "<a href=\"https://colab.research.google.com/github/AguaClara/ram_pump/blob/master/Summer%202019/RamPump2019Summer.ipynb\" target=\"_parent\"><img src=\"https://colab.research.google.com/assets/colab-badge.svg\" alt=\"Open In Colab\"/></a>"
      ]
    },
    {
      "cell_type": "markdown",
      "metadata": {
        "id": "awle31N5ykbr",
        "colab_type": "text"
      },
      "source": [
        "# Ram Pump, Summer 2019\n",
        "#### Ching Pang, Alyssa Ju\n",
        "#### July 26, 2019\n"
      ]
    },
    {
      "cell_type": "markdown",
      "metadata": {
        "id": "lGzNCdLa1f38",
        "colab_type": "text"
      },
      "source": [
        "##Abstract\n",
        "AguaClara plants contain chemical dosage tanks that require water to make liquid chemical stocks. The AguaClara Vertical Ram Pump (ACVRP) is an innovation that elimantes the need for plant operators to manually displace water up to the dosage tanks. Water is pumped from a lower to higher elevation by harvesting kinetic energy from the treated water flowing out to the community's water distribution system. The design is a modification of the conventional ram pump that allows the waste water to be contained within the pump system due to the inline feature of ACVRP. Compared to a conventional ram pump, the ACVRP is more operator-friendly and requires lower capital cost. Teams from past semesters have determined that the previous version of the ACVRP was inefficient due to a significant amount of head loss. The goal of this summer was to reduce head loss in the design and to determine the efficiency of the improved ACVRP. "
      ]
    },
    {
      "cell_type": "markdown",
      "metadata": {
        "id": "TpShT1NO1jsq",
        "colab_type": "text"
      },
      "source": [
        "## Introduction\n",
        "The purpose of a hydraulic ram pump is to pump water from a lower elevation to a higher elevation using only the kinetic energy of the falling water to drive the water up ([bin Mohammad Ali, 2011](https://www.scribd.com/doc/76535229/Hydraulic-Ramp-Pump-Hydram)). In an AguaClara plant, flow through a plant is driven solely by gravity, so treated water exits the plant at the lowest point of the plant. Thus, in order to fill chemical stock tanks located at the top of the plant with treated water, operators currentl;y must carry up buckets of water from the outlet at the lowest point of the plant to manually fill tanks. The elevation between where the ram pump is installed to the surface of the filtered water channel is approximately 2 meters, and the elevation from the surface of the filtered water channel to the chemical stock tank is approximately 4 meters. Therefore, the ram pump needs to pump treated water that is at least 6 meters of head.The AguaClara Vertical Ram Pump (ACVRP) would solve this issue by allowing treated water to be pumped from the outlet of the plant to higher elevations where it is needed, all without using electricity ([Martinez et. al, 2016](https://drive.google.com/file/d/1MweG0bsgG2-wM_mkK_DgwULPSPK1G7iB/view?usp=sharing)). In addition, this would allow treated water to be pumped for utilization in the plant's plumbing system, including the plant's sinks and toilets.\n",
        "\n",
        "<p align=\"center\">\n",
        "  <img src=\"https://raw.githubusercontent.com/AguaClara/ram_pump/master/Summer%202019/Images_Diagrams/Ram%20Pump%20in%20the%20Plant.png\" height=300>\n",
        "</p>\n",
        "<p align=\"center\">\n",
        "\n",
        "<p align=\"center\">\n",
        "  \n",
        "**Figure 1:** Schematic of the ACVRP in AguaClara plants. Treated water exiting the stacked rapid sand filters ([Adelman et al., 2013](https://ascelibrary.org/doi/10.1061/%28ASCE%29EE.1943-7870.0000700)) drops into the filter pipe gallery to reach the ACVRP. The ACVRP pumps a fraction of the flow up to the chemical platform. The water that passes through the ACVRP continues on to the distribution system (Aggarwal and Guzman, 2016).\n",
        " \n",
        "</p>\n",
        "<p align=\"center\">\n",
        "\n",
        "\n",
        "The ACVRP is an innovation that would improve upon the conventional ram pump by making installation easier and more cost-efficient for plant operators . Conventional ram pumps that were used in previous AguaClara plants required an additional collection tank for the water discharged from the ram pump in order to return the expelled water to the distribution tank, which added to the capital cost of the plant. The collection tank was cumbersome, making it difficult to incorporate the tank in the pipe gallery at the basement of the plant ([Project Description Ram Pump](https://docs.google.com/document/d/1g4uX_CjjWllurb4KftwjLmaFy6Au-42kGi5e5m47YEI/edit#)).\n",
        "\n",
        "The ACVRP is an inline ram pump that eliminates the need for a collection tank. The ideal design would be able to be easily installed in new plants as well as incorporated in previously built AguaClara plants. The simple design would also make it easy to fabricate and repair, which would empower communities and advance sustainability. The vision is that the ACVRP will relieve some of the burden of the plant operators, which would further increase their pride in their role of providing safe water to their communities ([Project Description Ram Pump](https://docs.google.com/document/d/1g4uX_CjjWllurb4KftwjLmaFy6Au-42kGi5e5m47YEI/edit#))."
      ]
    },
    {
      "cell_type": "markdown",
      "metadata": {
        "id": "4gfgHIlZ2Evd",
        "colab_type": "text"
      },
      "source": [
        "## Literature Review and Previous Work\n",
        "\n",
        "Many water supply plants use horizontal ram pumps to redirect water from a lower to higher elevation (Figure 2).\n",
        "\n",
        "<p align=\"center\">\n",
        "  <img src=\"https://github.com/AguaClara/ram_pump/blob/master/Spring%202019/Images_Diagrams/rampumpelements.PNG?raw=True\" height=300>\n",
        "</p>\n",
        "<p align=\"center\">\n",
        "\n",
        "\n",
        "Figure 2:  Common ram pump systems include “(a) the head tank, (b) the drive pipe, (c) the pump with impulse and delivery valves, (d) the air chamber and (e) the delivery pipe” ([Young, 1995](https://doi.org/10.1243/PIME_PROC_1995_209_010_01)).\n",
        "  \n",
        "  </p>\n",
        "\n",
        "In conventional ram pump systems (Figure 2), the head tank **(a)** is placed higher than the ram pump in order to provide potential energy to power the pump. As the water is directed down from the head tank to the pump **(c)** through the drive pipe **(b)**, it experiences considerable major and minor losses. These losses are formed by shear frictional force and flow reduction, a result of water flowing from a pipe of larger diameter to that of a smaller diameter, respectively.\n",
        "\n",
        "This driving head is directed through the inlet valve of the pump and is expelled through the waste valve **(c)** until the velocity of the water provides enough force to shut the waste valve. Once the waste valve is shut, the water is redirected and stored into the air chamber **(d)** that was charged with air. The air pressure inside this chamber pushes the water up through the delivery pipe **(e)**.\n",
        "  \n",
        "Conventional ram pumps pump water to communities or water treatment plants that are located above the water source. Therefore, most conventional ram pumps are applied on untreated water. Therefore, as the wasted water exits through the waste valve, the untreated water is being placed back into the environment. However, since ram pumps in an AguaClara plants would be applied on treated water instead, the wasted water should be conserved.\n",
        "\n",
        "In AguaClara plants, conventional ram pumps required tanks to be built to enclose the waste water valve to guide the expelled water into the distribution system. This installment was more costly and highly inconvenient for existing AguaClara plants due to spatial constraints. In order to reduce such inefficiencies, our team redesigned the system, and incorporated a vertical component to the pump to create the ACVRP.\n",
        "\n",
        "The ACVRP aligned the head tank, the drive pipe, the pump, and the waste valve along one vertical axis. The vertical configuration required minimum space and eliminated the need for a tank around the waste valve because water was expelled downwards into the distribution system. Unlike the conventional ramp pump design, this condensed design allowed for easier installation into existing plants as it was more compact and interchangeable, and also reduced labor by directly transporting treated water to the chemical stock tank.\n",
        "\n",
        "###Previous Work\n",
        "\n",
        "The previous teams had adopted many of the elements of a conventional ram pump system and had been modifying this mechanism to satisfy the team’s gravity-powered water filtration design. The current AguaClara ram pump design consisted of a plate attached to a rod loaded with a spring that opens and closes. The naturally open state of the plate allowed for the water flowing down through the drive pipe to pass by the high pressure effluent and to flow through the waste valve; the acceleration of water created the necessary drag force to overcome the spring force and to close the plate in the waste valve. The closed state of the plate built high pressure at the plate and effluent valve, which was significantly greater than the pressure in the high pressure effluent. As a result of this pressure difference, the water was redirected up through the high pressure effluent. The headloss during the transfer of water through the high pressure effluent decreased the velocity of water and, therefore, the pressure, which allowed the spring force to overcome the drag force of water and the plate to open. The difference in pressure due to constantly alternating between these two states, open and closed, allowed for the water to be pumped up (Figure 3).\n",
        "\n",
        "<p align=\"center\">\n",
        "  <img src=\"https://github.com/AguaClara/ram_pump/blob/master/Spring%202019/Images_Diagrams/valve_cycle.png?raw=True\" height=300>\n",
        "</p>\n",
        "\n",
        "<p align=\"center\">\n",
        " Figure 3: This was a diagram of valve cycle from [Aggarwal et al., 2017](https://drive.google.com/file/d/1oVIHr27h-mA25sROwWSHHzI-v0FXReoA/view). When the valve was open, the driving force of falling water pushed the valve closed. When the valve was closed, the spring force pushed the valve to open again.\n",
        "\n",
        "  </p>\n",
        "\n",
        "\n",
        "Previous teams worked on creating a mathematical model to calculate the necessary forces to open and close the check valve, which is a one-way valve that allowed the water to flow in only one direction. These forces dictated whether water entering the drive pipe exited at the bottom as waste or if it was driven through the effluent pipe. Once these forces were calculated, they were used to design a toggle mechanism to open and close the check valve at optimal times that maximized the efficiency of the pump. The efficiency of ram pump is determined by comparing the actual pumping flow rate at the high pressure effluent valve and the theoretical pumping flow rate. The mechanism used for opening and closing the valve was a spring. Thus, by finding a spring with an ideal spring constant, a more efficient ram pump could be designed.\n",
        "\n",
        "The energy effiency of ram pump was tested with a pulley system designed to calculate the minimum spring constant for the spring inside the pump. The Spring 2019 team continued the collecting data on the force of water on the plate using a modified version of the pulley system from Fall 2018 to find the most efficient spring constant. In the past, the spring force had either been too large that it overcame the downward force from the water in the driving pipe too quickly, or too weak that the plate closed up too quickly. Therefore, by obtaining the optimal spring constant, the time that the plate was closed can be maximized, as more water could be pumped through the effluent line. However, the main concern regarding the ACVRP was the large headloss occuring at the effluent. The Spring 2019 team tested the ACVRP, and obtained an efficiency of only 8% of the theoretical value of amount of water pumped. Therefore, minimizing the headloss through the effluent pump by increasing the diameter of the effluent valve was the focus on the modified ACVRP design. The modified design that will be tested this summer included a longer air chamber, 1 inch diameter effluent, and unions to maintain consistent dimensions after each assembly as shown in figure 4.\n",
        "\n",
        "<p align=\"center\">\n",
        "  <img src=\"https://raw.githubusercontent.com/AguaClara/ram_pump/master/Summer%202019/Images_Diagrams/rampumpcross.png\" height=600>\n",
        "</p>\n",
        "\n",
        "<p align=\"center\">\n",
        " Figure 4: Cross-section view of the current AguaClara Vertical Ram Pump is shown. When the plate is closed (right), water is pumped to a higher elevation through the high pressure effluent; when the plate is opened (left), water is exiting through the waste line to the distribution system. \n",
        "\n",
        "  </p>\n",
        "\n",
        "\n",
        "\n"
      ]
    },
    {
      "cell_type": "markdown",
      "metadata": {
        "id": "a7POfNmj2Gr7",
        "colab_type": "text"
      },
      "source": [
        "##Methods\n"
      ]
    },
    {
      "cell_type": "markdown",
      "metadata": {
        "id": "ToB7a10c8Ubg",
        "colab_type": "text"
      },
      "source": [
        "### Experimental Apparatus\n",
        "\n",
        "A lab apparatus (Figure 4) was constructed to best simulate conditions in an AguaClara plant. The following components are designed to continuously recycle water and regulate a constant water supply to operate the ram pump. Flow of water throughout this system is indicated by arrows within the schematic (Figure 4). \n",
        "\n",
        "In this experimental setup, water from the head tank entered the pump through the drive pipe and exited at two locations depending on the pump cycle. The two exits included the high pressure effluent, where water would be redirected to the chemical stock tanks, and the waste valve at the base of the ram pump. Both exits allowed water to accumulate in the waste bucket, positioned below the ram pump, which was connected to the leftmost bucket containing the electric sump pump. The connecting pipe between these two buckets allowed for the water level to be the same in both buckets. \n",
        "\n",
        "The electric sump pump, highlighted in orange in Figure 4, continuously pumped water into the head tank to provide a continuous source of water for the head tank. The overflow funnel in the head tank simulated the filter water channel in an AguaClara plant and provided a constant water level in the head tank by capturing excess water into the bucket containing the sump pump. \n",
        "\n",
        "The drive pipe was where water with elevation head entered the ram pump, providing the driving energy needed for the ram pump to pump water up through the high pressure effluent. A pressure sensor located at the top of the sealed air chamber measured the pressure at the effluent valve, which indicated the efficiency of the ram pump. This pressure was then converted to its corresponding elevation head to see how high the effluent could be pumped. Water that exited as \"waste\" at the bottom of the ram pump was the treated water that flowed into the collection bucket containing the ram pump. The water was then returned to the distribution tank (the tank which contains the electric sump pump). The effluent valve was placed 2m below the head tank to simulate the actual distance between the filter water channel and the location of ram pump in an AguaClara plant.\n",
        "\n",
        "<p align=\"center\">\n",
        "  <img src=\"https://raw.githubusercontent.com/AguaClara/ram_pump/master/Summer%202019/Images_Diagrams/Ram%20Pump%20Schematic%20NEW%20Air%20Chamber%20Summer%202019.png\">\n",
        "</p>\n",
        "<p align=\"center\">\n",
        " <center>                \n",
        " Figure 5: Above is a schematic drawing of the ram pump lab setup.\n",
        "    \n",
        " </p>"
      ]
    },
    {
      "cell_type": "markdown",
      "metadata": {
        "id": "14QXCacy8axM",
        "colab_type": "text"
      },
      "source": [
        "\n",
        "### Procedure\n",
        "Prior to running the ram pump, the air chamber was pressurized to 6 m of head in order to simulate the elevation head at which the ram pump would be required to pump water in an AguaClara plant, since the difference in elevation between the filter water channel and then chemical stock tank is approximately 6 m. PID is used to maintain the pressure inside the air chamber after the intial pressurization. \n",
        "\n",
        "Pressure data was collected at two locations: the waste valve and the top of the air chamber. In order to track pressure data:\n",
        "1. Zero the pressure sensors at atmospheric pressure before connecting the sensors to the system by going to calibrate and click \"zero\".\n",
        "\n",
        "In order to pressurize the air chamber:\n",
        "\n",
        "1. Connect tubing from the peristaltic pump to the top of the air chamber and set up the air chamber pressure sensor that is connected to the exit of the air chamber.\n",
        "2. Open ProCoDA, and go to Graphs. In the \"data to plot\" section on the right, select the Air Chamber pressure sensor.\n",
        "3. Turn on the peristaltic pump. Run the pump, allowing it to pump air into the air chamber. Make sure the pump direction is toward the air chamber.\n",
        "4. Observe the pressure in the air chamber using the graph generated by ProCoDA. When the pressure reaches 600 cm, turn off the peristaltic pump. Immediately seal the system by closing the valve between the air chamber and the pump.\n",
        "5. The pressure should remain relatively constant at 600 cm. If the pressure decreases rapidly, check that all connections are airtight.\n",
        "\n",
        "In order to maintain the air chamber pressure at 600 cm while the ram pump is running, PID Control is used:\n",
        "\n",
        "1. Set up a 600 rpm pump with two pump heads using size 17 pump tubing.\n",
        "2. Connect both pump tubings to the high pressure effluent valve.\n",
        "3. Set up PID control the ProCoDA Method file according to table 8 and 9.\n",
        "4. Change the set point `target pressure` according to the elevation the ram pump is desired to pump.\n",
        "4. Make sure pump is controlled by ProCoDA and the default pump direction is clockwise.\n",
        "\n",
        "\n",
        "The steps for running the ACVRP system are as follows:\n",
        "1. Start a datalog file, writing text comments to indicate experiment start and end.\n",
        "1. Fill the bucket containing the ram pump with water until the water level of the bucket containing the sump pump is at the level of the top of the sump pump.\n",
        "2. Open all ball valves. There are 3 valves in total: one in the pipe connecting the two buckets, one at the bottom of the ram pump, and one on the overflow pipe from the head tank.\n",
        "2. On ProCoDA, go to the Process Operation tab and turn on the sump pump and PID Control at the effluent valveby changing the Operator Selected State to `Peristaltic On`\n",
        "3. Throttle the flow of water being pumped into the head tank by closing the valve slightly.\n",
        "4. Once the water level in the head tank reaches the the line (marked on the head tank at a height of 16 cm), water will begin to flow out of the overflow pipe and return to the bucket with the sump pump.\n",
        "5. Check the of the effluent pump is 100 times what is shown on ProCoDA (pump control) and the air chamber pressure is constant at 600 cm.\n"
      ]
    },
    {
      "cell_type": "markdown",
      "metadata": {
        "id": "_Nn9zXKc-Fjq",
        "colab_type": "text"
      },
      "source": [
        "## Results and Analysis\n",
        "\n"
      ]
    },
    {
      "cell_type": "code",
      "metadata": {
        "id": "GfzMwd0sVo0p",
        "colab_type": "code",
        "colab": {}
      },
      "source": [
        "!pip install aguaclara"
      ],
      "execution_count": 0,
      "outputs": []
    },
    {
      "cell_type": "code",
      "metadata": {
        "id": "ADlJvwpD7zrt",
        "colab_type": "code",
        "colab": {}
      },
      "source": [
        "from aguaclara.play import*\n",
        "import aguaclara.research.procoda_parser as pp\n",
        "import matplotlib.pyplot as plt\n",
        "import numpy as np\n",
        "import aguaclara.core.constants as c\n",
        "import aguaclara.core.physchem as pc\n",
        "import aguaclara.core.head_loss as hl\n",
        "import aguaclara.core.materials as mats\n",
        "import pandas as pd\n",
        "from aguaclara.research.peristaltic_pump import vol_per_rev_LS\n",
        "from scipy import integrate\n",
        "from aguaclara.research.peristaltic_pump import flow_rate\n",
        "from aguaclara.core.units import unit_registry as u\n",
        "import scipy.stats as stats\n",
        "from numpy import pi\n"
      ],
      "execution_count": 0,
      "outputs": []
    },
    {
      "cell_type": "markdown",
      "metadata": {
        "id": "Uo-8mKYXvxbj",
        "colab_type": "text"
      },
      "source": [
        "###Calculating the Ideal Spring Constants\n",
        "\n",
        "Using the experimentally determined forces to open and close the valve, a range of ideal spring constants was determined. Hooke's Law was used to obtain the optimal spring constant from the force and compression length. Since, Hooke's Law depends on the compression length, we modified $F = kx$ to include a constant, $k'$, defined as an intrinsic material property of the spring dependent on the natural length of the spring rather than its compression length, such that Hooke's Law could be written as: $$F = \\frac{k'x}{L}, \\ where \\ k’ = kL$$\n",
        "\n",
        "Using the above equation, equations were derived for the two states in the valve:\n",
        "$F_{open} = \\frac{k'x_{1}}{L}$ and $F_{close} = \\frac{k'x_{2}}{L}$, where $F_{open}$ is the force required to open the waste valve opened; $F_{closed}$ is the force required to close the valve; $x_1$ is the compression length when the valve was closed; $x_2$ is the compression length when the valve was open; $k'$ is the intrinsic material property of the spring that is defined by $L$ and $k$; $L$ is the length of the spring.\n",
        "\n",
        "Combining the last two equations, an equation for $k'$ in terms of the spring length,  was derived: $$F_{closed} - F_{opened} = \\frac{k'}{L}\\Delta x$$, where  $F_{closed} = 14.95 \\ N$; $F_{opened} = 4.2 \\ N$; $\\Delta x = 1.2 \\ cm$, which is the compression length difference between open and closed states. The $F_{open}$ was theoretically derived by calculating the static force of water and the rod on the plate: $$F_{water} = \\left[\\frac{d_{plate}}{2}\\right]^2 * \\pi * h_{head} + W_{rod}$$, where $d_{plate} = 0.02857 \\ m$ is the diameter of the plate in the check valve; $h_{head} = 2.20 \\ m$ is the height of the head above the plate; $W_{rod} = 1.11 \\ N$ is the weight of the rod.\n",
        "\n",
        "The desired $k$ constant can be obtained using $k'$ with modification of the length of the spring. The linear relationship between the length of the spring, $L$ [$cm$], and the intrinsic spring constant, $k'$ was defined by the following equation: $$k'[N] = 8.958\\left[\\frac{ N}{cm}\\right] * L [cm]$$\n",
        "\n",
        "Therefore, using the above equation, a selection of springs can be chosen by calculating $k'$ from the natural spring length and the conventional $k$ constant. To achieve the iseal $k'$ to $L$ ratio, the natural length of the springs can be adjusted.\n",
        "\n",
        "The list of possible springs from McMaster-Carr can be found [here](https://docs.google.com/spreadsheets/d/1NCULs1sYBOklWeAomR11wnIZcKcsK4Ok/edit#gid=324510690).\n",
        "\n"
      ]
    },
    {
      "cell_type": "markdown",
      "metadata": {
        "id": "arY6VL8OVgEf",
        "colab_type": "text"
      },
      "source": [
        "### Calculating Spring Force\n",
        "A selection of springs that would allow the spring to exert a minimum of $F_{opened} = 14.95 N$ and a minimum of $F_{opened} = 14.95 N$ on the plate was tested with ram pump. The spring force is adjusted by adjusting the position of the hex nut on the rod as shown in figure 5 along the threading on the rod. This allows the compression length of at spring at both plate opened and plate closed to be adjusted. The spring force is calculated as below:\n",
        "$$ \\Delta x = 1.2 cm $$, which is the differece between the plate closed and opened states\n",
        "The space that the spring can occupy is calculated using difference of length from the end of rod to the face of hex nut at the unthreaded part and distance from the end of rod to the face of bottom stopper inside bottome check valve as shown in figure [ ].\n",
        "$$ space = \\ end \\ of \\ rod \\ to \\ the \\ face \\ of \\ hex \\ nut - \\ end \\ of \\ rod \\ to \\ the \\ face \\ of \\ bottom \\ stopper $$\n",
        "\n",
        "<p align=\"center\">\n",
        "  <img src=\"https://raw.githubusercontent.com/AguaClara/ram_pump/master/Summer%202019/Images_Diagrams/Rod%20with%20distance%20to%20end%20(onshape).png\" height=430>\n",
        "</p>\n",
        "<p align=\"center\">\n",
        "\n",
        "\n",
        "Figure 6: The distance from hex nut to the end of the rod was measured to determine the maximum length of the spring.\n",
        "  \n",
        "  </p>\n",
        "  \n",
        "<p align=\"center\">\n",
        "  <img src=\"https://raw.githubusercontent.com/AguaClara/ram_pump/master/Summer%202019/Images_Diagrams/Rod%20with%20distance%20to%20end%20(onshape)_checkvalve.png\" height=230>\n",
        "</p>\n",
        "<p align=\"center\">\n",
        "\n",
        "\n",
        "Figure 7: The distance from the bottom stopper to end of rod was then measured, and subtracted from that of hex nut to the end of the rod was measured to determine compression length of the spring.\n",
        "  \n",
        "  </p>\n",
        "Compression of the spring is calculated using the natural length of the spring, $L$, as:\n",
        "$$ x_{1} = L - space + \\ Delta x $$ when the plate is opened\n",
        "and $$ x_{2} = L - space $$ when the plate is closed.\n",
        "The forces are calculated using the compression lengths as followed:\n",
        "$$F_{opened} = \\frac{k'}{L}x_{1}$$ and \n",
        "$$F_{closed} = \\frac{k'}{L}x_{2}$$\n",
        "\n",
        "Example calculations are shown in the manual.\n",
        "\n",
        "\n"
      ]
    },
    {
      "cell_type": "markdown",
      "metadata": {
        "id": "lzeZYKLdys2w",
        "colab_type": "text"
      },
      "source": [
        "### Air Chamber Designs\n",
        "\n",
        "Several designs (Figure 8) of the air chamber were tested to optimize the regulation of constant pressure and to reduce headloss. \n",
        "\n",
        "<p align=\"center\">\n",
        "  <img src=\"https://raw.githubusercontent.com/AguaClara/ram_pump/master/Summer%202019/Images_Diagrams/airchamberdesigns.PNG\" height=230>\n",
        "</p>\n",
        "<p align=\"center\">\n",
        "\n",
        "\n",
        "Figure 8: The itertions of air chamber design in summer 2019.\n",
        "  \n",
        "  </p>\n",
        "\n",
        "The initial air chamber design consisted of a 1 inch diameter, 4 ft long PVC pipe connected to the high pressure effluent by an elbow joint. \n",
        "\n",
        "In order to remediate the loss of momentum of water due to the increasing inertial forces that counteracted the influent across the check valve, the symmetric T-joint was used. In this design, water accumulated at the air chamber was supposed to be below the tee so that the water flowing through the high pressure effluent do not have to overcome inertia of the accumulated water inside the air chamber to be able to pumped through the effluent. However, this design was found to be leading to inconsistent pressure cycles, since the check valve that was used before the air chamber was not air-tight. Therefore, the pressure inside the air chamber was not kept consistent. \n",
        "\n",
        "A third design was created with a tee still being used, however, the portion of air chamber below the tee was only 10 cm long. This allowed experimentation with both when the water in air chamber accumulated to where the tee was and also when the air chamber was empty. A more consistent pressure cycle was observed when water was initially accumulated to where the tee was, with a pump at the high pressure effluent to maintain a constant level of water inside the air chamber.\n"
      ]
    },
    {
      "cell_type": "markdown",
      "metadata": {
        "id": "Q48ezG32NvuB",
        "colab_type": "text"
      },
      "source": [
        "### Pressure Cycle Graphs\n",
        "\n",
        "The design of the new air chamber that is positioned as shown in Figure 8 was tested by observing the behavior of the pump cycles under two different conditions: the first condition consisted of an air chamber empty of water and pressurized to 600cm, and the second condition involved an air chamber filled with water until the water was level with the high pressure effluent valve. Distinct results were produced between the two aforementioned conditions as shown in the following graphs.\n",
        "\n",
        "#### Condition 1: Empty Air Chamber\n",
        "\n",
        "The initial conditions set for the following trials were an empty air chamber, operating with a PID controller, and  \n",
        "\n",
        "<p align=\"center\">\n",
        "  <img src=\"https://raw.githubusercontent.com/AguaClara/ram_pump/master/Summer%202019/Images_Diagrams/7_31_2019_K127_trial3.png\">\n",
        "</p>\n",
        "<p align=\"center\">\n",
        "\n",
        "  <center>\n",
        "    Figure 9: This is a closeup graph of the pressure cycles of spring K428.\n",
        "\n",
        "#### Condition 2: Half-filled Air Chamber\n",
        "<p algin=\"center\">\n",
        "  <img src=\"https://raw.githubusercontent.com/AguaClara/ram_pump/master/Summer%202019/Images_Diagrams/7_31_2019_K127_trial4.png\">\n",
        "</p>\n",
        "<p align=\"center\">\n",
        "\n",
        "  <center>\n",
        "    Figure 10: Shown above is a pressure cycle of spring K127 while the PID control was operating.\n"
      ]
    },
    {
      "cell_type": "markdown",
      "metadata": {
        "id": "ddLDydJb755E",
        "colab_type": "text"
      },
      "source": [
        "### Calculating Headloss"
      ]
    },
    {
      "cell_type": "code",
      "metadata": {
        "id": "MYB-HWflQO6D",
        "colab_type": "code",
        "outputId": "871a50a8-64dd-4454-f8b3-0b0e17c8bfc6",
        "colab": {
          "base_uri": "https://localhost:8080/",
          "height": 54
        }
      },
      "source": [
        "#### Calculating MAJOR HEADLOSS along DRIVE PIPE\n",
        "# (Major headloss is the same for both the new and old pump design)\n",
        "\n",
        "#Parameters and Constants for headloss calculation\n",
        "v_f = 2.3*u.m/u.s #terminal velocity\n",
        "d = (1*u.inch).to(u.m) #diameter of drive pipe\n",
        "L = 1.74*u.m #length of drive pipe\n",
        "Q = (1*u.liter/u.s).to(u.m**3/u.s) #steady state flow rate in drive pipe assumed to be 1.0 L/s\n",
        "nu = pc.viscosity_kinematic(20*u.degC)\n",
        "\n",
        "h_f = pc.headloss_fric(Q, d, L, nu, 0)\n",
        "#INPUT DETAILS: pc.headloss_fric(flow rate, diameter of pipe, length of pipe, nu, PipeRough)\n",
        "#PipeRough assumed to be 0 because PVC is relatively smooth\n",
        "\n",
        "####################################################################\n",
        "#### Calculating MINOR HEADLOSS\n",
        "\n",
        "## OLD DESIGN (0.25in diam. effluent)_______________________________\n",
        "\n",
        "# Minor Headloss at Effluent Valve\n",
        "v_f = 2.3*u.m/u.s #terminal velocity\n",
        "d = (0.25*u.inch).to(u.m) #diameter of drive pipe\n",
        "L = 1.74*u.m #length of drive pipe\n",
        "\n",
        "A_out = np.pi*(d/2)**2 #cross-sectional area of effluent valve\n",
        "A_in = np.pi*((0.5*u.inch).to(u.m))**2 #cross-sectional area of drive pipe\n",
        "Q = A_in*v_f #flow rate in (steady state flow rate in drive pipe assumed to be 1.0 L/s)\n",
        "k_minor = (A_out/A_in-1)**2\n",
        "\n",
        "h_eff = pc.headloss_exp(Q, d, k_minor)\n",
        "\n",
        "# Minor Headloss at Elbow Joint\n",
        "k_elbow = 0.9\n",
        "h_elbow = pc.headloss_exp(Q, d, k_elbow)\n",
        "\n",
        "# Minor Headloss at Entrance of Air Chamber\n",
        "d = (1*u.inch).to(u.m)\n",
        "A_out = np.pi*(d/2)**2 #cross-sectional area of effluent valve\n",
        "A_in = np.pi*((0.25/2*u.inch).to(u.m))**2 #cross-sectional area of drive pipe\n",
        "Q = A_in*v_f #flow rate in (steady state flow rate in drive pipe assumed to be 1.0 L/s)\n",
        "k_minor = (A_out/A_in-1)**2\n",
        "\n",
        "h_air = pc.headloss_exp(Q, d, k_minor)\n",
        "\n",
        "# Total Minor Headloss\n",
        "h_eold = h_eff + h_air + h_elbow\n",
        "\n",
        "## NEW DESIGN (1.00in diam. effluent)_______________________________\n",
        "\n",
        "# Elbow bend headloss (count twice: at effluent valve and at entrance of air chamber)\n",
        "v_f = 2.3*u.m/u.s #terminal velocity\n",
        "d = (1*u.inch).to(u.m) #diameter of elbow joint\n",
        "A = np.pi*(d/2)**2 #cross-sectional area of elbow joint\n",
        "Q = A*v_f\n",
        "\n",
        "h_enew = pc.headloss_exp(Q, d, k_elbow) * 2 # doubled headloss because headloss due to 90 deg bends occur twice\n",
        "\n",
        "####################################################################\n",
        "#### Comparing Total Headloss\n",
        "\n",
        "## Old Model (summing major and minor headloss calculated above)\n",
        "h_Lold = h_f + h_eold\n",
        "h_Lnew = h_f + h_enew\n",
        "\n",
        "#print(h_Lold, h_Lnew)\n",
        "\n",
        "#V = 0.5 **3 * np.pi * v_f**2 * L / 9.807 / 6 #didn't include all units; volume should be in m**3\n",
        "#print(V)\n",
        "\n",
        "headloss = \"Minor head loss in current design was found to be {}, which is much lower than that of the spring 2019 design at {}.\"\n",
        "print(headloss.format(h_Lnew, h_Lold))\n",
        "\n"
      ],
      "execution_count": 9,
      "outputs": [
        {
          "output_type": "stream",
          "text": [
            "Minor head loss in current design was found to be 0.768 meter, which is much lower than that of the spring 2019 design at 123.3 dimensionless meter.\n"
          ],
          "name": "stdout"
        }
      ]
    },
    {
      "cell_type": "markdown",
      "metadata": {
        "id": "mQePv3eEyZ_W",
        "colab_type": "text"
      },
      "source": [
        "### Theoretical Volume of Water Pumped per Cycle\n",
        "\n",
        "In order to calculate the theoretical volume of water pumped per cycle, the deceleration rate of water in the drive pipe as the plate closes, $a$, was calculated using the difference between the static pressure in the drive pipe (when water is not flowing) and the pressure in the high pressure system (the pressure in the air chamber):\n",
        "\n",
        "$$P_{air chamber} - \\rho gh = p = \\rho g \\Delta h $$\n",
        "where:\n",
        "- $p$: the difference in pressure between the air chamber and the static pressure in the drive pipe\n",
        "- $\\Delta h$: the height difference between the water level in the head tank and the height that water will be pumped to\n",
        "\n",
        "Using the relationship, $F=ma$ and $F = pA$, the following equation was derived for deceleration rate in the drive pipe when the plate closes:\n",
        "\n",
        "$$pA = ma$$\n",
        "$$\\rho g \\Delta h A = ma$$\n",
        "$$a = \\frac{\\rho g \\Delta h A}{m}$$\n",
        "\n",
        "where:\n",
        "- $A$: cross-sectional area of drive pipe\n",
        "- $m$: mass of water in drive pipe\n",
        "\n",
        "Using the density relationship, $\\rho = \\frac{m}{V}$, the deceleration expression can be rewritten as:\n",
        "$$m = V \\rho$$\n",
        "$$a = \\frac{g \\Delta h A}{V} $$\n",
        "\n",
        "where $V$ is the volume of water in the drive pipe.\n",
        "\n",
        "In addition, $V=Ah$, where $A$ is the cross-sectional area of the drive pipe and $h$ is the height of the drive pipe. Thus:\n",
        "\n",
        "$$a = \\frac{g \\Delta h}{h} $$\n",
        "\n",
        "The deceleration rate, $a$, is defined as the change in velocity over the change in time:\n",
        "\n",
        "$$a = \\frac{dv}{dt} = \\frac{v_f-v_o}{dt} = \\frac{v_f}{\\Delta t}$$\n",
        "\n",
        "where:\n",
        "- $v_f$: terminal velocity of water in drive pipe\n",
        "- $v_o$: initial velocity of water ($v_o$ is zero in the head tank)\n",
        "- $\\Delta t$: time period in which water is being pumped into the air chamber (waste valve pressure exceeds air chamber pressure)\n",
        "\n",
        "In order to find $\\Delta t$, the time period during which water is being pumped into the air chamber, the two expressions for $a$ can be set equal to each other and solved for $\\Delta t$:\n",
        "\n",
        "$$a = \\frac{g \\Delta h}{h} = \\frac{v_f}{\\Delta t} $$\n",
        "\n",
        "$$\\Delta t = \\frac{v_f h}{g \\Delta h}$$\n",
        "\n",
        "Using $\\Delta t$, the volume of water pumped per each cycle of the ram pump can be calculated. The distance that water travels in the drive pipe is given by:\n",
        "\n",
        "$$d = \\bar v \\Delta t$$\n",
        "\n",
        "where $\\bar v$ is the average velocity, equal to 0.5 times the terminal velocity: $\\bar v = \\frac{1}{2} v_f $. Since the volume of water pumped per cycle is given by $V_{cycle} = Ad$, by plugging in the equation for the distance, the following equation is obtained:\n",
        "\n",
        "$$V_{cycle} = A*\\frac{1}{2} v_f \\Delta t$$\n",
        "\n",
        "Then, plugging in the expression obtained for $\\Delta t$ above:\n",
        "\n",
        "$$V_{cycle} = A*\\frac{1}{2} \\frac{v_f^2 h}{g \\Delta h}$$\n",
        "\n",
        "The following Python code uses the equations derived above to calculate the theoretical volume of water pumped per cycle of the ram pump in its current setup:\n",
        "\n",
        "The theoretical time period in which water is being pumped into the air chamber is 0.09777 seconds. The theoretical amount of water pumped is 48.82 milliliters."
      ]
    },
    {
      "cell_type": "code",
      "metadata": {
        "id": "Z7PIqe-tymz4",
        "colab_type": "code",
        "colab": {}
      },
      "source": [
        "url = 'https://raw.githubusercontent.com/AguaClara/ram_pump/master/Spring%202019/3-25-2019_shortsensor0.xls'\n",
        "pp.notes(url)\n",
        "start = 39416 #should be more than 'start'\n",
        "end = 41600 #should be less than 'stop'\n",
        "airchamber = pp.column_of_data(url, start, 2, end, 'cm')\n",
        "\n",
        "v_f = 2.26*u.m/u.s #terminal velocity, experimentally determined\n",
        "area = pc.area_circle(.02372*u.m) #area of drive pipe\n",
        "\n",
        "#height of the drive pipe\n",
        "h = 1.74*u.m\n",
        "\n",
        "#height difference between height we want to pump water and water level of head tank\n",
        "h1 = 2.06*u.m #height from bottom of drive pipe to top of water level in head tank\n",
        "h2 = airchamber[0] #around 600 cm, make sure you run airchamber from first cell\n",
        "delta_h = (h2 - h1).to(u.m)\n",
        "\n",
        "delta_t = (v_f*h)/(c.GRAVITY*delta_h)\n",
        "print('The theoretical time period in which water is being pumped into the air chamber is ' + str(delta_t))\n",
        "\n",
        "volume_theoretical = (0.5*area*v_f*delta_t).to(u.milliliter)\n",
        "\n",
        "print('The theoretical amount of water pumped is: ' + str(volume_theoretical))"
      ],
      "execution_count": 0,
      "outputs": []
    },
    {
      "cell_type": "markdown",
      "metadata": {
        "id": "kSRGzzfl_XPM",
        "colab_type": "text"
      },
      "source": [
        "### Calculating Static Force on Plate"
      ]
    },
    {
      "cell_type": "code",
      "metadata": {
        "id": "UYJqymx2_9I7",
        "colab_type": "code",
        "outputId": "13d3ae4d-fff4-40cd-f268-01bb0aae0b1e",
        "colab": {
          "base_uri": "https://localhost:8080/",
          "height": 34
        }
      },
      "source": [
        "d_plate = (1.125*u.inch).to(u.m) #diameter of check valve plate\n",
        "L = 2.185*u.m #length of drive pipe\n",
        "m = 0.1132*u.kg #mass of rod+plate+stopper\n",
        "G = 9.807*u.m/u.s**2\n",
        "\n",
        "## Calculating force of water on the plate\n",
        "V = (np.pi * (d_plate/2)**2 * L).to(u.L)\n",
        "F_water = (V * 1000*(u.kg/u.m**3) * G).to(u.N)\n",
        "\n",
        "## Force from weight of rod\n",
        "F_rod = (m * G).to(u.N)\n",
        "\n",
        "## Total Static Force on Plate\n",
        "F_plate = F_water + F_rod\n",
        "print(F_plate)\n"
      ],
      "execution_count": 0,
      "outputs": [
        {
          "output_type": "stream",
          "text": [
            "14.85 newton\n"
          ],
          "name": "stdout"
        }
      ]
    },
    {
      "cell_type": "markdown",
      "metadata": {
        "id": "O7A8ERQSKwQO",
        "colab_type": "text"
      },
      "source": [
        "### Flow Rate Calculations\n",
        "The total volume of flow and flow rate were determined from each cycle. Spring K428 and spring K127 were the two springs that had the highest efficiency and consistent pressure cycle. The pressure cycles were as shown in figure 11 and 12 respectively. Both springs allowed a consistent pressure cycles as observed in the graph. A pump cycle was defined as when the waste valve pressure exceeded that air chamber pressure, meaning the water was exiting through the air chamber to the high pressure effluent valve.\n",
        "\n",
        "The spring forces at this set up for spring K428 has $F_{opened}$ and $F_{closed}$ at 1.902 N and 12.62 N respectively. The average flow rate of trial was 19.948 mL/s with an average duration of 0.04214 s, which has an efficiency that was 40.935% comparing to the theoretical flow rate, which was 48.73 mL/s.\n",
        "\n",
        "<p align=\"center\">\n",
        "  <img src=\"https://raw.githubusercontent.com/AguaClara/ram_pump/master/Summer%202019/Images_Diagrams/Pressure%20Cycles/k428cycle.png\">\n",
        "</p>\n",
        "<p align=\"center\">\n",
        " Figure 11: Pressure cycles of spring K428 with with spring force of 1.902 N when plate valve is opened position and 12.62 N when plate valve is closed.\n",
        "</p> \n",
        "\n",
        "The spring forces at this set up for spring K127 has $F_{opened}$ and $F_{closed}$ at 0 N and 5.669 N respectively. The average flow rate of trial was 26.36 mL/s with an average duration of 0.03184 s, which has an efficiency that was 45.9% comparing to the theoretical flow rate, which was 48.73 mL/s.\n",
        "<p align=\"center\">\n",
        "  <img src=\"https://raw.githubusercontent.com/AguaClara/ram_pump/master/Summer%202019/Images_Diagrams/Pressure%20Cycles/k127cycle.png\">\n",
        "</p>\n",
        "<p align=\"center\">\n",
        "\n",
        "  <center>\n",
        "    Figure 12: Pressure cycles of spring K127 with with spring force of 0 N when plate valve is opened position and 5.669 N when plate valve is closed.\n"
      ]
    },
    {
      "cell_type": "code",
      "metadata": {
        "id": "a7L7ba-NsG_6",
        "colab_type": "code",
        "outputId": "5b038244-ec63-460c-e0b1-fc15698d5cb9",
        "colab": {
          "base_uri": "https://localhost:8080/",
          "height": 123
        }
      },
      "source": [
        "url8 = 'https://raw.githubusercontent.com/AguaClara/ram_pump/master/Summer%202019/Data%20Collection/New%20Air%20Chamber%20Design/7-31-2019_spring_K127_test4.xls'\n",
        "pp.notes(url8)"
      ],
      "execution_count": 11,
      "outputs": [
        {
          "output_type": "execute_result",
          "data": {
            "text/html": [
              "<div>\n",
              "<style scoped>\n",
              "    .dataframe tbody tr th:only-of-type {\n",
              "        vertical-align: middle;\n",
              "    }\n",
              "\n",
              "    .dataframe tbody tr th {\n",
              "        vertical-align: top;\n",
              "    }\n",
              "\n",
              "    .dataframe thead th {\n",
              "        text-align: right;\n",
              "    }\n",
              "</style>\n",
              "<table border=\"1\" class=\"dataframe\">\n",
              "  <thead>\n",
              "    <tr style=\"text-align: right;\">\n",
              "      <th></th>\n",
              "      <th>Day fraction since midnight on</th>\n",
              "      <th>Waste (100 psi) (cm)</th>\n",
              "      <th>Air Chamber (200kPa) (cm)</th>\n",
              "      <th>PID control ( 0 to 1)</th>\n",
              "      <th>Pump Control ()</th>\n",
              "      <th>pump test ()</th>\n",
              "      <th>()</th>\n",
              "    </tr>\n",
              "  </thead>\n",
              "  <tbody>\n",
              "    <tr>\n",
              "      <th>1470</th>\n",
              "      <td>start</td>\n",
              "      <td>nan</td>\n",
              "      <td>nan</td>\n",
              "      <td>nan</td>\n",
              "      <td>nan</td>\n",
              "      <td>nan</td>\n",
              "      <td>nan</td>\n",
              "    </tr>\n",
              "    <tr>\n",
              "      <th>115101</th>\n",
              "      <td>stop</td>\n",
              "      <td>nan</td>\n",
              "      <td>nan</td>\n",
              "      <td>nan</td>\n",
              "      <td>nan</td>\n",
              "      <td>nan</td>\n",
              "      <td>nan</td>\n",
              "    </tr>\n",
              "  </tbody>\n",
              "</table>\n",
              "</div>"
            ],
            "text/plain": [
              "       Day fraction since midnight on   Waste (100 psi) (cm)  ...  pump test ()   ()\n",
              "1470                             start                   nan  ...           nan  nan\n",
              "115101                            stop                   nan  ...           nan  nan\n",
              "\n",
              "[2 rows x 7 columns]"
            ]
          },
          "metadata": {
            "tags": []
          },
          "execution_count": 11
        }
      ]
    },
    {
      "cell_type": "code",
      "metadata": {
        "id": "iKhDdpfZ3RYO",
        "colab_type": "code",
        "outputId": "2c83df4b-8e8d-4d2a-c8e4-afb641e499ba",
        "colab": {
          "base_uri": "https://localhost:8080/",
          "height": 500
        }
      },
      "source": [
        "def intersect(x, y1, y2):\n",
        "  x_points = np.array([])\n",
        "  y_points = np.array([])\n",
        "  crossings = (np.argwhere(np.diff(np.sign(y1-y2)))+1).flatten()\n",
        "  delta_x = x[1]-x[0]\n",
        "  for c in crossings:\n",
        "    slope1 = (y1[c] - y1[c-1]) / delta_x\n",
        "    slope2 = (y2[c] - y2[c-1]) / delta_x\n",
        "    b1 = y1[c] - slope1 * x[c]\n",
        "    b2 = y2[c] - slope2 * x[c]\n",
        "    \n",
        "    x_points = np.append(x_points, (b2-b1)/(slope1-slope2))\n",
        "    y_points = np.append(y_points, slope1*(b2-b1)/(slope1-slope2) + b1)\n",
        "      \n",
        "  return x_points, y_points, crossings\n",
        "\n",
        "\n",
        "start = 82050 #should be more than 'start'\n",
        "end = 82600 #should be less than 'stop'\n",
        "\n",
        "x = (pp.column_of_time(url8,start,end)).to(u.s)\n",
        "pressure = pp.column_of_data(url8, start, 1, end, 'cm')\n",
        "airchamber = -pp.column_of_data(url8, start, 2, end, 'cm')\n",
        "pump = pp.column_of_data(url8, start, 4, end, 'rpm')\n",
        "\n",
        "p_time, p_pressure, p_index = intersect(x, pressure, airchamber)\n",
        "\n",
        "#find time for each cycle\n",
        "cycle = np.array([p_time[0]])\n",
        "cycle_i = np.array([p_index[0]])\n",
        "cycle_p = np.array([p_pressure[0]])\n",
        "\n",
        "for i in range(1,len(p_time)-1):\n",
        "  if ((p_time[i+1]-p_time[i]) > 0.1):\n",
        "    cycle = np.append(cycle, p_time[i])\n",
        "    cycle = np.append(cycle, p_time[i+1])\n",
        "    cycle_i=np.append(cycle_i, p_index[i])\n",
        "    cycle_i=np.append(cycle_i, p_index[i+1])\n",
        "    cycle_p = np.append(cycle_p, p_pressure[i])\n",
        "    cycle_p = np.append(cycle_p, p_pressure[i+1])\n",
        "    \n",
        "cycle = np.append(cycle, p_time[len(p_time)-1]) #time of each cycle including start and end time\n",
        "cycle_i = np.append(cycle_i, p_index[len(p_index)-1]) #index of start and end for each cycle\n",
        "cycle_p = np.append(cycle_p, p_pressure[len(p_pressure)-1])\n",
        "\n",
        "plt.figure(figsize=(16,8))\n",
        "plt.plot(x,pressure,'-', label = 'Waste Valve')\n",
        "plt.plot(x,airchamber,'-', label='Air Chamber')\n",
        "plt.plot(cycle, cycle_p, 'o')\n",
        "plt.xlabel('Time (s)')\n",
        "plt.ylabel('Pressure (cm)')\n",
        "plt.legend()\n",
        "plt.show()"
      ],
      "execution_count": 0,
      "outputs": [
        {
          "output_type": "display_data",
          "data": {
            "image/png": "[encoded data removed]",
            "text/plain": [
              "<Figure size 1152x576 with 1 Axes>"
            ]
          },
          "metadata": {
            "tags": []
          }
        }
      ]
    },
    {
      "cell_type": "code",
      "metadata": {
        "id": "0Nfxa_MS3Jwk",
        "colab_type": "code",
        "outputId": "14ef891d-40d5-40d7-a526-1c3e564975f5",
        "colab": {
          "base_uri": "https://localhost:8080/",
          "height": 101
        }
      },
      "source": [
        "#get flowrate from index\n",
        "duration = np.array([]) #duration of each cycle\n",
        "for i in range(0, len(cycle)-1, 2):\n",
        "  duration = np.append(duration, cycle[i+1]-cycle[i])\n",
        "\n",
        "rate_one = np.array([])\n",
        "rate_total = np.array([])\n",
        "rate_avg = np.array([])\n",
        "flow_tot = np.array([])\n",
        "#make a 2D array of flow rate for each cycle\n",
        "#make flowrate for each cycle first and then append to a 2d array\n",
        "for k in range(0, len(cycle)-1, 2): #loop every cycle\n",
        "  delta_time = x[cycle_i[k]+1] - x[cycle_i[k]]\n",
        "  for j in range (cycle_i[k], cycle_i[k+1]): #loop within each cycle\n",
        "    rate_one  = np.append(rate_one, flow_rate(vol_per_rev_LS(17), pump[j]*2*100) )\n",
        "  rate_avg = np.append(rate_avg, np.average(rate_one))\n",
        "  flow = integrate.simps(rate_one, x=None, dx=delta_time, axis=-1, even='avg') *u.mL/u.second\n",
        "  flow_tot = np.append(flow_tot, flow)\n",
        "\n",
        "duration = duration * u.seconds\n",
        "rate_avg = rate_avg *u.mL/u.seconds\n",
        "flow_tot = flow_tot * u.mL\n",
        "for m in range(0, len(duration)):\n",
        "  total = \"For cycle {}, the total flow is {} in {}, and the average flow rate is {}.\"\n",
        "  print(total.format(m, flow_tot[m], duration[m], rate_avg[m]))\n"
      ],
      "execution_count": 0,
      "outputs": [
        {
          "output_type": "stream",
          "text": [
            "For cycle 0, the total flow is 0.7411 milliliter in 0.02889 second, and the average flow rate is 26.52 milliliter / second.\n",
            "For cycle 1, the total flow is 1.477 milliliter in 0.02819 second, and the average flow rate is 26.43 milliliter / second.\n",
            "For cycle 2, the total flow is 2.533 milliliter in 0.03985 second, and the average flow rate is 26.33 milliliter / second.\n",
            "For cycle 3, the total flow is 3.201 milliliter in 0.0262 second, and the average flow rate is 26.29 milliliter / second.\n",
            "For cycle 4, the total flow is 4.134 milliliter in 0.03605 second, and the average flow rate is 26.22 milliliter / second.\n"
          ],
          "name": "stdout"
        }
      ]
    },
    {
      "cell_type": "markdown",
      "metadata": {
        "id": "Me12TWjY-Iys",
        "colab_type": "text"
      },
      "source": [
        "## Conclusions\n",
        "\n",
        "###Reduction of Head Loss\n",
        "The design of air chamber and high pressure effluent valve had been shown to significantly reduce head loss of ram pump. The operation of the ram pump was clearly optimized by reducing the areas of headloss due to contraction and expansion of water by increasing the diameter of the high pressure effluent check valve. The current head loss was only 0.62 % of the previous design, allowing efficiency of the ram pump, when comparing with design in spring 2019, which was at most 8 %, to be increased up to over 40 % consistently.\n",
        "\n",
        "###Consistent Flow Rates\n",
        "By obtaining a selection of springs that can be used based on design constraints of current ram pump such as space that the spring can be compressed inside the ram pump along with the provided k constants from manufacturers. Future teams can easily calculate the intrinsic k constants, which would allow the team to select springs that can consistently achieve the spring forces required to produce desired forces to open and close the plate valves. This would allow teams to achieve a consistent flow rates which can be observed through pressure cycles, and produce a continuous flow of water through the high pressure effluent."
      ]
    },
    {
      "cell_type": "markdown",
      "metadata": {
        "id": "uQBlaQNP-VJA",
        "colab_type": "text"
      },
      "source": [
        "## Future Work\n",
        "### Testing Offset T-joint Air Chamber Design\n",
        "The team had come up with a third iteration of air chamber design that has an offset tee. However, not enough testing has been done to determine the effect of initial water levels on the flow rate of the system. Although inconsistent pressure cycles had been observed when the air chamber was initially empty, it has not been shown yet whether the inconsistency in pressure cycles would lead to overall inefficiency of pumping.\n",
        "### Determining Factors that Define Efficiency\n",
        "In the past, theoretical values of forces that were required to open and close the plate valves had been determined. However, from the trials that had been run with spring K127 and K428, although spring K127 had spring forces and cycle time that were not as close to the theoretical values comparing with K428, it outperformed K428 in terms of pumping efficiency. Therefore, future teams should run more tests with these two springs and explore the trade-offs of spring forces and cycle times versus efficiency.\n",
        "### Optimize Fine-tuning of Spring Forces\n",
        "Spring forces had been adjusted by turning the position of the hex nut located on the rod. However, this method had been found to cause inconvenience in operation and fine-tuning, as a slight turn as small as 1/4 turn could cause a difference of over 2 N, and therefore making the ram pump very sensitive to the tuning of spring forces. Future teams should look into the methods that can monitor fine-tuning of spring forces, and ways that would make operation easier when spring forces are needed to be adjusted."
      ]
    },
    {
      "cell_type": "markdown",
      "metadata": {
        "id": "ZXUik5SH-YFM",
        "colab_type": "text"
      },
      "source": [
        "## Bibliography\n",
        "Adelman, M. J., Weber-Shirk, M. L., Will, J. C., Cordero, A. N., Maher, W. J., Lion, L. W. (2013). \"[Novel Fluidic Control System for Stacked Rapid Sand Filters](https://ascelibrary.org/doi/10.1061/%28ASCE%29EE.1943-7870.0000700).” Journal of Environmental Engineering 139 (7)939-946.\n",
        "\n",
        "Aggarwal, P. & Guzman, J. (2016). Ram Pump, Spring 2016. Retrieved from https://confluence.cornell.edu/download/attachments/152026512/Ram%20Pump%20Final%20Report.pdf?version=1&modificationDate=1481833262000&api=v2.\n",
        "\n",
        "bin Mohammad Ali, M. D., bin Che Azih, M. K. bin Ali, M. B., bin Jasni, M. F., bin Zarmani, M.F. (2011). Hydraulic Ramp Pump (Hydram). Retrieved from www.scribd.com/doc/76535229/Hydraulic-Ramp-Pump-Hydram.\n",
        "\n",
        "Galantino, C., Paternain Martinez, J., Oiwa, L. (2016). Ram Pump, Fall 2016. Retrieved from https://drive.google.com/file/d/1MweG0bsgG2-wM_mkK_DgwULPSPK1G7iB/view.\n",
        "\n",
        "McCann, M., Lopez, W., Lopez, S. (Spring 2018). Ram Pump Operation and Testing Manual. Retrieved from https://github.com/AguaClara/ram_pump/blob/master/Spring%202018/FinalFabricationManualRamPump.md.\n",
        "\n",
        "Storch, A., Snyder, M. (2018). Ram Pump, Fall 2018. Retrieved from https://github.com/AguaClara/ram_pump/blob/master/Fall%202018/Manual.md.\n",
        "\n",
        "Young, B. W. (1995). Design of Hydraulic Ram Pump Systems. Proceedings of the Institution of Mechanical Engineers, Part A: Journal of Power and Energy, 209(4), 313–322. Retreived from https://doi.org/10.1243/PIME_PROC_1995_209_010_01."
      ]
    },
    {
      "cell_type": "markdown",
      "metadata": {
        "id": "EvBA8kN4-dty",
        "colab_type": "text"
      },
      "source": [
        "# Manual\n",
        "The goal of this section is to provide all of the guidance that would be necessary for a future team to pick up your work where you left off. Please try to be thorough and put yourselves in the shoes of a newcomer to the project. Below are some recommended sections, but the manual will likely take a slightly different form for each team."
      ]
    },
    {
      "cell_type": "markdown",
      "metadata": {
        "id": "yfoW16_iACYt",
        "colab_type": "text"
      },
      "source": [
        "## Fabrication Details\n",
        "The OnShape design for the components of the ACVRP can be found here:\n",
        "- [Metal Plate and Rod](https://cad.onshape.com/documents/4e73b2e01f40050da6dc53e5/w/505d309a289216ef94331ebd/e/21577f53e50d684e02f9ce65)\n",
        "- [Pump Body](https://cad.onshape.com/documents/dfdca21e8bb9906c2c0e435d/w/7e1c2d3a3372bc981c94b2cc/e/a6274f46cf3be93968201482)\n",
        "<p align=\"center\">\n",
        "\n",
        "  <img src=\"https://raw.githubusercontent.com/AguaClara/ram_pump/master/Summer%202019/Images_Diagrams/rampump_3in_airchamber.png\">\n",
        "\n",
        "  **Figure 8:** The current design of ram pump has a 3 inch air chamber at the high pressure effluent.\n",
        "\n",
        "</p>\n",
        "<p align=\"center\">\n",
        "\n",
        "<p align=\"center\">\n",
        "\n",
        "  <img src=\"https://raw.githubusercontent.com/AguaClara/ram_pump/master/Summer%202019/Images_Diagrams/rampump_3in_airchamber_section.png\">\n",
        "\n",
        "  **Figure 9:** The sectioned view of current design showed that the distance between plate opening and closing was limited by the position of the hex nuts on the rod and the stopper inside the check valves.\n",
        "\n",
        "</p>\n",
        "<p align=\"center\">\n",
        "\n",
        "**Table 7:** The modified ACVRP was fabricated using the following materials:\n",
        "\n",
        "| Parts   | Quantity | Description   | Source |\n",
        "|:----------- |:-------- |:------- |:-------------- |\n",
        "| Brass Check Valve    | 3  | 1\" pipe size  | Strataflo or [McMaster](https://www.mcmaster.com/7746k831)  |\n",
        "| Metal Plate            | 1        | 1\" diameter     | Part of check valve from Strataflo   |\n",
        "| Hex Nuts    | 1  | 3/8\"-16 Thread Size, 1-1/8\" Long      | [McMaster](https://www.mcmaster.com/90264A213)                                                                       |\n",
        "| Brass Jam Nuts         |1        | 3/8\"-16 Thread Size                   | [McMaster](https://www.mcmaster.com/92174a031)                                                                       |\n",
        "| Partially Threaded Rod | 1        | 3/8\"-16 Thread Size, 8\" Long          | [McMaster](https://www.mcmaster.com/98750a458) (Fully threaded but will be fabricated to partially threaded to 7.5\") |\n",
        "| Spring | 1    | Varied length and k constant  | Mcmaster    |\n",
        "| Thick-Wall PVC Pipe Nipple for Water | 7        |Fully Threaded, 1 NPT, 1-1/2\" Long | [McMaster](https://www.mcmaster.com/9176k116)|\n",
        "  | Thick-Wall PVC Pipe Nipple for Water | 1        |Threaded on One End, 1 NPT, 2\" Long | [McMaster](https://www.mcmaster.com/9173k35)|\n",
        "|Thick-Wall PVC Pipe Fitting for Water, Union Connector, 1 NPT Female|  4       |      1 NPT Female                                |       [McMaster](https://www.mcmaster.com/4596k64)   |\n",
        "|PVC T-Connector |  1        | 1 NPT Female |[McMaster](https://www.mcmaster.com/4596k340)     |\n",
        "|PVC Inline Tee Reducer|1      | 3 Socket Female x 1 Socket Female                |    [McMaster](https://www.mcmaster.com/4880k583) |\n",
        " |Compact Backflow-Prevention Valve|1|1/8 NPT Female x 1/8 NPT Male|[McMaster](https://www.mcmaster.com/7768k21)|\n",
        " |Precision Flow-Adjustment Valve|1|Dark Gray PVC, 1/4 NPT Female x Male|[McMaster](https://www.mcmaster.com/7781K26)|\n",
        "  |PVC Cap|2|3 Pipe Size Socket-Connect Female|[McMaster](https://www.mcmaster.com/4880k57)|\n",
        "\n",
        "Since the modified design included a T-connector between the drive pipe and effluent, the pressure sensor to observe pressure trace of the ram pump was installed at the T-connector using a drill bit of  7/16 inches and a tap of 1/4 in- 18."
      ]
    },
    {
      "cell_type": "markdown",
      "metadata": {
        "id": "k1uwaPU0s3l9",
        "colab_type": "text"
      },
      "source": [
        "### Fabrication of Air Chamber\n",
        "The air chamber consists of two clear 1 inch diameter PVC pipes joined with a T-joint on one end and capped with a PVC cap on the other ends. \n",
        "\n",
        "<p align=\"center\">\n",
        "  <img src=\"https://raw.githubusercontent.com/AguaClara/ram_pump/master/Summer%202019/Images_Diagrams/Air%20Chamber%20v.3%20Components.png\" height=300>\n",
        "</p>\n",
        "\n",
        "<center>\n",
        "    **Figure x:** A schematic of the offset T-joint air chamber design. \n",
        "  </p>\n",
        "\n"
      ]
    },
    {
      "cell_type": "markdown",
      "metadata": {
        "id": "sTvHso03AGO_",
        "colab_type": "text"
      },
      "source": [
        "## Special Components\n",
        "The metal rod is fabricated in the machine shop. The 1 inch high pressure effluent check valve was modified to attach a $\\frac{1}{4}$ inch check valve for the inlet of air into the air chamber.  "
      ]
    },
    {
      "cell_type": "markdown",
      "metadata": {
        "id": "GOe3xI0qAdfk",
        "colab_type": "text"
      },
      "source": [
        "### Observing Pressure Cycles \n",
        "\n",
        "The change in pressure for each cycle was observed by recording the pressure at the waste valve and the air chamber during the operation of the ram pump. \n",
        "\n",
        "1. Zero the pressure sensors in ProCoDA. \n",
        "2. Record the initial height of water in the air chamber to calculate the initial volume of air. Pressurize the air chamber to 600 cm, and run the ram pump as detailed above.\n",
        "3. Use ProCoDA to track pressure changes as detailed above.\n",
        "4. Record cycles until the desired amount of water pumped.\n",
        "6. Graph the data using the Python code detailed below in the Results and Analysis section."
      ]
    },
    {
      "cell_type": "markdown",
      "metadata": {
        "id": "CXrgSYivAoEr",
        "colab_type": "text"
      },
      "source": [
        "## Experimental Checklist\n",
        "Another potential section could include a list of things that you need to check before running an experiment.\n"
      ]
    },
    {
      "cell_type": "markdown",
      "metadata": {
        "id": "BiTsuHFrGAm5",
        "colab_type": "text"
      },
      "source": [
        "## ProCoDA Method File\n",
        "\n",
        "**Upload your ProCoDA method file to your Github repository and provide a [link]() it in your report.**\n",
        "\n",
        "Use the rest of this section to explain your method file. Your explanation can be broken up into several components as shown below:\n"
      ]
    },
    {
      "cell_type": "markdown",
      "metadata": {
        "id": "CnTgFhHEGE_f",
        "colab_type": "text"
      },
      "source": [
        "### States\n",
        "\n",
        " - **OFF**: Resting state of ProCoDA. All sensors, relays, and pumps are turned off.\n",
        "\n",
        "- **Peristaltic On**: The effluent flow rate is controlled by PID to maintain the pressure inside the air chamber, and the sump pump is on to maintain a continuous flow of water.\n",
        "\n",
        "<p align=\"center\">\n",
        "  \n",
        "<img src = \"https://raw.githubusercontent.com/AguaClara/ram_pump/master/Summer%202019/Images_Diagrams/ProCoDA/peristalticon.PNG\">\n",
        "\n",
        "</p>\n",
        "<p align=\"center\">\n",
        "  \n",
        "<p align=\"center\">\n",
        "  \n",
        "  **Figure 10**: Outputs of the state \"Peristaltic On\". \n",
        "  \n",
        "</p>\n",
        "<p align=\"center\">\n",
        "  \n",
        "- **Pump On**: Sump pump is on to maintain continuous flow of water to head tank. The effluent pump is turned off.\n",
        "\n"
      ]
    },
    {
      "cell_type": "markdown",
      "metadata": {
        "id": "Ks6ALZO2GH_E",
        "colab_type": "text"
      },
      "source": [
        "### Set Points\n",
        "\n",
        "A proportional-integral-derivative (PID) controller was used in our experimental setup to maintain a constant pressure in the air chamber which simulates the required height of elevation to which the pump must pump water. In order to maintain constant pressure, error values between the instantaneous pressure reading and the target pressure (e.g. 600 cm for this experiment) are calculated constantly by the PID controller. The controller in this experimental setup operates the peristaltic pump connected to the effluent valve of the air chamber in order to respond to and decrease the error values. The specific constant set points used to apply this mechanism to our design are listed below:\n",
        "\n",
        "**Table 8**: Constant set points in the method file `Ram Pump`\n",
        "\n",
        "| Constant Set Points | Value |\n",
        "| --- | --- |\n",
        "| Target Pressure  | -600 [cm] (Elevation that the ram pump is required to pump)  |\n",
        "| P Kc  | 1 unitless  |\n",
        "| I Ti (min)  | 200m unitless |\n",
        "|D Td (min)  | Content Cell  |\n",
        "|Multiplier for 600 rpm pump  | 6 (since PID only ranges from 0 to 1, it is pultiplied by 6 to determine the flow rate of the effluent peristaltic pump)  |\n",
        "\n",
        "**Table 9**: Variable set points in the method file `Ram Pump`\n",
        "\n",
        "| Variable Set Points| Function |\n",
        "| --- | --- |\n",
        "| PID Control | PID Sensor with Reset |\n",
        "| Pump Contol | Multiply (between PID Control and Multiplier for 600 rpm pump) |\n",
        "\n",
        "<p align=\"center\">\n",
        "  \n",
        "<img src = \"https://raw.githubusercontent.com/AguaClara/ram_pump/master/Summer%202019/Images_Diagrams/ProCoDA/PID%20Control.PNG\">\n",
        "\n",
        "</p>\n",
        "<p align=\"center\">\n",
        "  \n",
        "<p align=\"center\">\n",
        "  \n",
        "  **Figure 11**: Selected set points of \"PID Control\". \n",
        "  \n",
        "</p>\n",
        "<p align=\"center\">\n",
        "  \n",
        "  <p align=\"center\">\n",
        "  \n",
        "<img src = \"https://raw.githubusercontent.com/AguaClara/ram_pump/master/Summer%202019/Images_Diagrams/ProCoDA/pumpcontrol.PNG\">\n",
        "\n",
        "</p>\n",
        "<p align=\"center\">\n",
        "  \n",
        "<p align=\"center\">\n",
        "  \n",
        "  **Figure 12**: Selected set points of \"Pump Control\". \n",
        "  \n",
        "</p>\n",
        "<p align=\"center\">\n",
        "\n",
        "\n"
      ]
    },
    {
      "cell_type": "markdown",
      "metadata": {
        "id": "LaELphDxGIE-",
        "colab_type": "text"
      },
      "source": [
        "## Python Code\n",
        "\n",
        "In this section, provide any code that was a significant part of your research, including in making theoretical calculations, determining parameters for your apparatus and your experiment, or analyzing your data.\n",
        "\n",
        "If your code is repetitive (e.g. similar code for creating different graphs) or too long, you may instead provide a [link to a file](https://github.com/AguaClara/team_resources/blob/master/Example%20Code/Data%20Analysis.md) with your code that has been *uploaded to your repository*."
      ]
    },
    {
      "cell_type": "code",
      "metadata": {
        "id": "eEpWjBkIGjOa",
        "colab_type": "code",
        "colab": {}
      },
      "source": [
        "# Import Statements\n",
        "\n",
        "import aguaclara.research.procoda_parser as pp\n",
        "import matplotlib.pyplot as plt\n",
        "import numpy as np\n",
        "from aguaclara.core.units import unit_registry as u\n",
        "import aguaclara.core.constants as c\n",
        "import aguaclara.core.physchem as pc\n",
        "import aguaclara.core.head_loss as hl\n",
        "import aguaclara.core.materials as mats"
      ],
      "execution_count": 0,
      "outputs": []
    },
    {
      "cell_type": "markdown",
      "metadata": {
        "id": "2vIiWASQGvuA",
        "colab_type": "text"
      },
      "source": [
        "### Code for Experimental Design\n",
        "\n",
        "Make sure variables in your code, as well as anything that might not be easily understood by a newcomer, is well commented. Also include the outputs of your code, if applicable and not given earlier in the report.\n"
      ]
    },
    {
      "cell_type": "code",
      "metadata": {
        "colab_type": "code",
        "id": "3ZrYDZuLG8Tu",
        "colab": {}
      },
      "source": [
        "#Example calculations for spring force\n",
        "# Spring K127\n",
        "\n",
        "#1.2 cm is the difference in openining and closing of the plate\n",
        "#98.94 mm is length from end of rod to hex nut\n",
        "# 11.46 mm is length of bottom stopper to end of rod measured when plate is opened\n",
        "spring = \"K127\"\n",
        "k_prime = 13.8875 *(u.lbf)\n",
        "L = (2.75 * (u.inch)).to(u.cm)\n",
        "print(L)\n",
        "#space occupied by spring as plate is opened\n",
        "space = 98.94 * u.mm - 11.46 *u.mm\n",
        "x1 = (L-space+1.2*u.cm).to(u.cm)\n",
        "x2 = (L-space).to(u.cm)\n",
        "print(x1)\n",
        "print(x2)\n",
        "F_closed = (k_prime/L*-x2).to(u.newton)\n",
        "F_opened = (k_prime/L*-x1).to(u.newton)\n",
        "print(F_closed)\n",
        "print(F_opened)\n",
        "force = \"For spring #{}, x1 (plate opened) is {}, x2 (plate closed) is {}, while force required to maintain opened position is {}, and force required to maintain closed position is {}.\"\n",
        "print(force.format(spring,x1,x2,F_opened,F_closed))"
      ],
      "execution_count": 0,
      "outputs": []
    },
    {
      "cell_type": "code",
      "metadata": {
        "id": "cVnPr9RyG7lf",
        "colab_type": "code",
        "colab": {}
      },
      "source": [
        "# Plotting Pressure Cycle Graph\n",
        "\n",
        "url = 'enter raw url link to ProCoDA excel sheet'\n",
        "\n",
        "pp.notes(url) #This will indicate your 'start' and 'end' row number in the excel data sheet\n",
        "start = 4000 #This number should be GREATER than the determined 'start' number\n",
        "end = 42000 #This number should be LESS than the determined 'end' number\n",
        "\n",
        "x = (pp.column_of_time(url,start,end)).to(u.s) #time coords\n",
        "pressure = pp.column_of_data(url, start, 1, end, 'cm')\n",
        "airchamber = pp.column_of_data(url, start, 2, end, 'cm')\n",
        "\n",
        "\n",
        "plt.clf()\n",
        "plt.plot(x,pressure,'-', label = 'Waste Valve')\n",
        "plt.plot(x,-airchamber,'-', label = 'Air Chamber')\n",
        "plt.xlabel('Time (s)')\n",
        "plt.ylabel('Pressure (cm)')\n",
        "plt.legend()\n",
        "plt.show()"
      ],
      "execution_count": 0,
      "outputs": []
    },
    {
      "cell_type": "code",
      "metadata": {
        "id": "6tOYPHfR5u8p",
        "colab_type": "code",
        "outputId": "924812ee-4bb9-4b20-d742-33ec80fb998f",
        "colab": {
          "base_uri": "https://localhost:8080/",
          "height": 500
        }
      },
      "source": [
        "def intersect(x, y1, y2):\n",
        "  x_points = np.array([])\n",
        "  y_points = np.array([])\n",
        "  crossings = (np.argwhere(np.diff(np.sign(y1-y2)))+1).flatten()\n",
        "  delta_x = x[1]-x[0]\n",
        "  for c in crossings:\n",
        "    slope1 = (y1[c] - y1[c-1]) / delta_x\n",
        "    slope2 = (y2[c] - y2[c-1]) / delta_x\n",
        "    b1 = y1[c] - slope1 * x[c]\n",
        "    b2 = y2[c] - slope2 * x[c]\n",
        "    \n",
        "    x_points = np.append(x_points, (b2-b1)/(slope1-slope2))\n",
        "    y_points = np.append(y_points, slope1*(b2-b1)/(slope1-slope2) + b1)\n",
        "      \n",
        "  return x_points, y_points, crossings\n",
        "\n",
        "\n",
        "start = 82050 #should be more than 'start'\n",
        "end = 82600 #should be less than 'stop'\n",
        "\n",
        "x = (pp.column_of_time(url8,start,end)).to(u.s)\n",
        "pressure = pp.column_of_data(url8, start, 1, end, 'cm')\n",
        "airchamber = -pp.column_of_data(url8, start, 2, end, 'cm')\n",
        "pump = pp.column_of_data(url8, start, 4, end, 'rpm')\n",
        "\n",
        "p_time, p_pressure, p_index = intersect(x, pressure, airchamber)\n",
        "\n",
        "#find time for each cycle\n",
        "cycle = np.array([p_time[0]])\n",
        "cycle_i = np.array([p_index[0]])\n",
        "cycle_p = np.array([p_pressure[0]])\n",
        "\n",
        "for i in range(1,len(p_time)-1):\n",
        "  if ((p_time[i+1]-p_time[i]) > 0.1):\n",
        "    cycle = np.append(cycle, p_time[i])\n",
        "    cycle = np.append(cycle, p_time[i+1])\n",
        "    cycle_i=np.append(cycle_i, p_index[i])\n",
        "    cycle_i=np.append(cycle_i, p_index[i+1])\n",
        "    cycle_p = np.append(cycle_p, p_pressure[i])\n",
        "    cycle_p = np.append(cycle_p, p_pressure[i+1])\n",
        "    \n",
        "cycle = np.append(cycle, p_time[len(p_time)-1]) #time of each cycle including start and end time\n",
        "cycle_i = np.append(cycle_i, p_index[len(p_index)-1]) #index of start and end for each cycle\n",
        "cycle_p = np.append(cycle_p, p_pressure[len(p_pressure)-1])\n",
        "\n",
        "plt.figure(figsize=(12,8))\n",
        "plt.plot(x,pressure,'-', label = 'Waste Valve')\n",
        "plt.plot(x,airchamber,'-', label='Air Chamber')\n",
        "plt.plot(cycle, cycle_p, 'o')\n",
        "plt.xlabel('Time (s)')\n",
        "plt.ylabel('Pressure (cm)')\n",
        "plt.legend()\n",
        "plt.show()\n",
        "\n"
      ],
      "execution_count": 0,
      "outputs": [
        {
          "output_type": "display_data",
          "data": {
            "image/png": "[encoded data removed]",
            "text/plain": [
              "<Figure size 864x576 with 1 Axes>"
            ]
          },
          "metadata": {
            "tags": []
          }
        }
      ]
    },
    {
      "cell_type": "code",
      "metadata": {
        "id": "qRs0_P_7s1ff",
        "colab_type": "code",
        "outputId": "f1b9170b-146f-4f5a-c825-e2cc9d122c44",
        "colab": {
          "base_uri": "https://localhost:8080/",
          "height": 229
        }
      },
      "source": [
        "#get flowrate from index\n",
        "duration = np.array([]) #duration of each cycle\n",
        "for i in range(0, len(cycle)-1, 2):\n",
        "  duration = np.append(duration, cycle[i+1]-cycle[i])\n",
        "\n",
        "rate_one = np.array([])\n",
        "rate_total = np.array([])\n",
        "rate_avg = np.array([])\n",
        "flow_tot = np.array([])\n",
        "#make a 2D array of flow rate for each cycle\n",
        "#make flowrate for each cycle first and then append to a 2d array\n",
        "for k in range(0, len(cycle)-1, 2): #loop every cycle\n",
        "  delta_time = x[cycle_i[k]+1] - x[cycle_i[k]]\n",
        "  for j in range (cycle_i[k], cycle_i[k+1]): #loop within each cycle\n",
        "    rate_one  = np.append(rate_one, flow_rate(vol_per_rev_LS(17), pump[j]*2*100) )\n",
        "  rate_avg = np.append(rate_avg, np.average(rate_one))\n",
        "  flow = integrate.simps(rate_one, x=None, dx=delta_time, axis=-1, even='avg') *u.mL/u.second\n",
        "  flow_tot = np.append(flow_tot, flow)\n",
        "\n",
        "duration = duration * u.seconds\n",
        "rate_avg = rate_avg *u.mL/u.seconds\n",
        "flow_tot = flow_tot * u.mL\n",
        "for m in range(0, len(duration)):\n",
        "  total = \"For cycle {}, the total flow is {} in {}, and the average flow rate is {}.\"\n",
        "  print(total.format(m, flow_tot[m], duration[m], rate_avg[m]))\n",
        "\n"
      ],
      "execution_count": 0,
      "outputs": [
        {
          "output_type": "error",
          "ename": "NameError",
          "evalue": "ignored",
          "traceback": [
            "\u001b[0;31m---------------------------------------------------------------------------\u001b[0m",
            "\u001b[0;31mNameError\u001b[0m                                 Traceback (most recent call last)",
            "\u001b[0;32m<ipython-input-1-27fc641e1472>\u001b[0m in \u001b[0;36m<module>\u001b[0;34m()\u001b[0m\n\u001b[0;32m----> 1\u001b[0;31m \u001b[0mduration\u001b[0m \u001b[0;34m=\u001b[0m \u001b[0mnp\u001b[0m\u001b[0;34m.\u001b[0m\u001b[0marray\u001b[0m\u001b[0;34m(\u001b[0m\u001b[0;34m[\u001b[0m\u001b[0;34m]\u001b[0m\u001b[0;34m)\u001b[0m \u001b[0;31m#duration of each cycle\u001b[0m\u001b[0;34m\u001b[0m\u001b[0;34m\u001b[0m\u001b[0m\n\u001b[0m\u001b[1;32m      2\u001b[0m \u001b[0;32mfor\u001b[0m \u001b[0mi\u001b[0m \u001b[0;32min\u001b[0m \u001b[0mrange\u001b[0m\u001b[0;34m(\u001b[0m\u001b[0;36m0\u001b[0m\u001b[0;34m,\u001b[0m \u001b[0mlen\u001b[0m\u001b[0;34m(\u001b[0m\u001b[0mcycle\u001b[0m\u001b[0;34m)\u001b[0m\u001b[0;34m-\u001b[0m\u001b[0;36m1\u001b[0m\u001b[0;34m,\u001b[0m \u001b[0;36m2\u001b[0m\u001b[0;34m)\u001b[0m\u001b[0;34m:\u001b[0m\u001b[0;34m\u001b[0m\u001b[0;34m\u001b[0m\u001b[0m\n\u001b[1;32m      3\u001b[0m   \u001b[0mduration\u001b[0m \u001b[0;34m=\u001b[0m \u001b[0mnp\u001b[0m\u001b[0;34m.\u001b[0m\u001b[0mappend\u001b[0m\u001b[0;34m(\u001b[0m\u001b[0mduration\u001b[0m\u001b[0;34m,\u001b[0m \u001b[0mcycle\u001b[0m\u001b[0;34m[\u001b[0m\u001b[0mi\u001b[0m\u001b[0;34m+\u001b[0m\u001b[0;36m1\u001b[0m\u001b[0;34m]\u001b[0m\u001b[0;34m-\u001b[0m\u001b[0mcycle\u001b[0m\u001b[0;34m[\u001b[0m\u001b[0mi\u001b[0m\u001b[0;34m]\u001b[0m\u001b[0;34m)\u001b[0m\u001b[0;34m\u001b[0m\u001b[0;34m\u001b[0m\u001b[0m\n\u001b[1;32m      4\u001b[0m \u001b[0;34m\u001b[0m\u001b[0m\n\u001b[1;32m      5\u001b[0m \u001b[0mrate_one\u001b[0m \u001b[0;34m=\u001b[0m \u001b[0mnp\u001b[0m\u001b[0;34m.\u001b[0m\u001b[0marray\u001b[0m\u001b[0;34m(\u001b[0m\u001b[0;34m[\u001b[0m\u001b[0;34m]\u001b[0m\u001b[0;34m)\u001b[0m\u001b[0;34m\u001b[0m\u001b[0;34m\u001b[0m\u001b[0m\n",
            "\u001b[0;31mNameError\u001b[0m: name 'np' is not defined"
          ]
        }
      ]
    }
  ]
}